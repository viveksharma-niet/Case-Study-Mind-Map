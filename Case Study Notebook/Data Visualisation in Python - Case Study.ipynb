{
  "cells": [
    {
      "cell_type": "markdown",
      "metadata": {
        "id": "89xI4IV3B2W-"
      },
      "source": [
        "# Google Playstore Case Study"
      ]
    },
    {
      "cell_type": "markdown",
      "metadata": {
        "id": "1XeODU4OB2W-"
      },
      "source": [
        "In this module you’ll be learning data visualisation with the help of a case study. This will enable you to understand how visualisation aids you in solving business problems."
      ]
    },
    {
      "cell_type": "markdown",
      "metadata": {
        "id": "GKLXPAgWB2W-"
      },
      "source": [
        "**Problem Statement**\n",
        "\n",
        "The team at Google Play Store wants to develop a feature that would enable them to boost visibility for the most promising apps. Now, this analysis would require a preliminary understanding of the features that define a well-performing app. You can ask questions like:\n",
        "- Does a higher size or price necessarily mean that an app would perform better than the other apps?\n",
        "- Or does a higher number of installs give a clear picture of which app would have a better rating than others?\n"
      ]
    },
    {
      "cell_type": "markdown",
      "metadata": {
        "id": "udHCbrbgB2W_"
      },
      "source": [
        "\n",
        "\n",
        "### Session 1 - Introduction to Data Visualisation"
      ]
    },
    {
      "cell_type": "code",
      "execution_count": 6,
      "metadata": {
        "colab": {
          "base_uri": "https://localhost:8080/",
          "height": 321
        },
        "id": "K41-KFLvB2W_",
        "outputId": "17ac1be6-99d5-4d0f-ff2b-63360d9579e6"
      },
      "outputs": [
        {
          "output_type": "error",
          "ename": "MessageError",
          "evalue": "Error: credential propagation was unsuccessful",
          "traceback": [
            "\u001b[0;31m---------------------------------------------------------------------------\u001b[0m",
            "\u001b[0;31mMessageError\u001b[0m                              Traceback (most recent call last)",
            "\u001b[0;32m/tmp/ipython-input-2933473000.py\u001b[0m in \u001b[0;36m<cell line: 0>\u001b[0;34m()\u001b[0m\n\u001b[1;32m      5\u001b[0m \u001b[0;31m#import the directory\u001b[0m\u001b[0;34m\u001b[0m\u001b[0;34m\u001b[0m\u001b[0m\n\u001b[1;32m      6\u001b[0m \u001b[0;32mfrom\u001b[0m \u001b[0mgoogle\u001b[0m\u001b[0;34m.\u001b[0m\u001b[0mcolab\u001b[0m \u001b[0;32mimport\u001b[0m \u001b[0mdrive\u001b[0m\u001b[0;34m\u001b[0m\u001b[0;34m\u001b[0m\u001b[0m\n\u001b[0;32m----> 7\u001b[0;31m \u001b[0mdrive\u001b[0m\u001b[0;34m.\u001b[0m\u001b[0mmount\u001b[0m\u001b[0;34m(\u001b[0m\u001b[0;34m'/content/drive'\u001b[0m\u001b[0;34m)\u001b[0m\u001b[0;34m\u001b[0m\u001b[0;34m\u001b[0m\u001b[0m\n\u001b[0m",
            "\u001b[0;32m/usr/local/lib/python3.12/dist-packages/google/colab/drive.py\u001b[0m in \u001b[0;36mmount\u001b[0;34m(mountpoint, force_remount, timeout_ms, readonly)\u001b[0m\n\u001b[1;32m     95\u001b[0m \u001b[0;32mdef\u001b[0m \u001b[0mmount\u001b[0m\u001b[0;34m(\u001b[0m\u001b[0mmountpoint\u001b[0m\u001b[0;34m,\u001b[0m \u001b[0mforce_remount\u001b[0m\u001b[0;34m=\u001b[0m\u001b[0;32mFalse\u001b[0m\u001b[0;34m,\u001b[0m \u001b[0mtimeout_ms\u001b[0m\u001b[0;34m=\u001b[0m\u001b[0;36m120000\u001b[0m\u001b[0;34m,\u001b[0m \u001b[0mreadonly\u001b[0m\u001b[0;34m=\u001b[0m\u001b[0;32mFalse\u001b[0m\u001b[0;34m)\u001b[0m\u001b[0;34m:\u001b[0m\u001b[0;34m\u001b[0m\u001b[0;34m\u001b[0m\u001b[0m\n\u001b[1;32m     96\u001b[0m   \u001b[0;34m\"\"\"Mount your Google Drive at the specified mountpoint path.\"\"\"\u001b[0m\u001b[0;34m\u001b[0m\u001b[0;34m\u001b[0m\u001b[0m\n\u001b[0;32m---> 97\u001b[0;31m   return _mount(\n\u001b[0m\u001b[1;32m     98\u001b[0m       \u001b[0mmountpoint\u001b[0m\u001b[0;34m,\u001b[0m\u001b[0;34m\u001b[0m\u001b[0;34m\u001b[0m\u001b[0m\n\u001b[1;32m     99\u001b[0m       \u001b[0mforce_remount\u001b[0m\u001b[0;34m=\u001b[0m\u001b[0mforce_remount\u001b[0m\u001b[0;34m,\u001b[0m\u001b[0;34m\u001b[0m\u001b[0;34m\u001b[0m\u001b[0m\n",
            "\u001b[0;32m/usr/local/lib/python3.12/dist-packages/google/colab/drive.py\u001b[0m in \u001b[0;36m_mount\u001b[0;34m(mountpoint, force_remount, timeout_ms, ephemeral, readonly)\u001b[0m\n\u001b[1;32m    132\u001b[0m   )\n\u001b[1;32m    133\u001b[0m   \u001b[0;32mif\u001b[0m \u001b[0mephemeral\u001b[0m\u001b[0;34m:\u001b[0m\u001b[0;34m\u001b[0m\u001b[0;34m\u001b[0m\u001b[0m\n\u001b[0;32m--> 134\u001b[0;31m     _message.blocking_request(\n\u001b[0m\u001b[1;32m    135\u001b[0m         \u001b[0;34m'request_auth'\u001b[0m\u001b[0;34m,\u001b[0m\u001b[0;34m\u001b[0m\u001b[0;34m\u001b[0m\u001b[0m\n\u001b[1;32m    136\u001b[0m         \u001b[0mrequest\u001b[0m\u001b[0;34m=\u001b[0m\u001b[0;34m{\u001b[0m\u001b[0;34m'authType'\u001b[0m\u001b[0;34m:\u001b[0m \u001b[0;34m'dfs_ephemeral'\u001b[0m\u001b[0;34m}\u001b[0m\u001b[0;34m,\u001b[0m\u001b[0;34m\u001b[0m\u001b[0;34m\u001b[0m\u001b[0m\n",
            "\u001b[0;32m/usr/local/lib/python3.12/dist-packages/google/colab/_message.py\u001b[0m in \u001b[0;36mblocking_request\u001b[0;34m(request_type, request, timeout_sec, parent)\u001b[0m\n\u001b[1;32m    174\u001b[0m       \u001b[0mrequest_type\u001b[0m\u001b[0;34m,\u001b[0m \u001b[0mrequest\u001b[0m\u001b[0;34m,\u001b[0m \u001b[0mparent\u001b[0m\u001b[0;34m=\u001b[0m\u001b[0mparent\u001b[0m\u001b[0;34m,\u001b[0m \u001b[0mexpect_reply\u001b[0m\u001b[0;34m=\u001b[0m\u001b[0;32mTrue\u001b[0m\u001b[0;34m\u001b[0m\u001b[0;34m\u001b[0m\u001b[0m\n\u001b[1;32m    175\u001b[0m   )\n\u001b[0;32m--> 176\u001b[0;31m   \u001b[0;32mreturn\u001b[0m \u001b[0mread_reply_from_input\u001b[0m\u001b[0;34m(\u001b[0m\u001b[0mrequest_id\u001b[0m\u001b[0;34m,\u001b[0m \u001b[0mtimeout_sec\u001b[0m\u001b[0;34m)\u001b[0m\u001b[0;34m\u001b[0m\u001b[0;34m\u001b[0m\u001b[0m\n\u001b[0m",
            "\u001b[0;32m/usr/local/lib/python3.12/dist-packages/google/colab/_message.py\u001b[0m in \u001b[0;36mread_reply_from_input\u001b[0;34m(message_id, timeout_sec)\u001b[0m\n\u001b[1;32m    101\u001b[0m     ):\n\u001b[1;32m    102\u001b[0m       \u001b[0;32mif\u001b[0m \u001b[0;34m'error'\u001b[0m \u001b[0;32min\u001b[0m \u001b[0mreply\u001b[0m\u001b[0;34m:\u001b[0m\u001b[0;34m\u001b[0m\u001b[0;34m\u001b[0m\u001b[0m\n\u001b[0;32m--> 103\u001b[0;31m         \u001b[0;32mraise\u001b[0m \u001b[0mMessageError\u001b[0m\u001b[0;34m(\u001b[0m\u001b[0mreply\u001b[0m\u001b[0;34m[\u001b[0m\u001b[0;34m'error'\u001b[0m\u001b[0;34m]\u001b[0m\u001b[0;34m)\u001b[0m\u001b[0;34m\u001b[0m\u001b[0;34m\u001b[0m\u001b[0m\n\u001b[0m\u001b[1;32m    104\u001b[0m       \u001b[0;32mreturn\u001b[0m \u001b[0mreply\u001b[0m\u001b[0;34m.\u001b[0m\u001b[0mget\u001b[0m\u001b[0;34m(\u001b[0m\u001b[0;34m'data'\u001b[0m\u001b[0;34m,\u001b[0m \u001b[0;32mNone\u001b[0m\u001b[0;34m)\u001b[0m\u001b[0;34m\u001b[0m\u001b[0;34m\u001b[0m\u001b[0m\n\u001b[1;32m    105\u001b[0m \u001b[0;34m\u001b[0m\u001b[0m\n",
            "\u001b[0;31mMessageError\u001b[0m: Error: credential propagation was unsuccessful"
          ]
        }
      ],
      "source": [
        "#import the libraries\n",
        "import numpy as np\n",
        "import matplotlib.pyplot as plt\n",
        "\n",
        "#import the directory\n",
        "fileloc = \"https://raw.githubusercontent.com/viveksharma-niet/Case-Study-Mind-Map/refs/heads/main/Case%20Study%20Notebook/googleplaystore_v2.csv\""
      ]
    },
    {
      "cell_type": "code",
      "execution_count": null,
      "metadata": {
        "id": "DEcQ4AZRB2W_"
      },
      "outputs": [],
      "source": [
        "#read the dataset and check the first five rows\n",
        "inp0 =\n"
      ]
    },
    {
      "cell_type": "code",
      "execution_count": null,
      "metadata": {
        "id": "mPJhRNJWB2W_"
      },
      "outputs": [],
      "source": [
        "#Check the shape of the dataframe\n"
      ]
    },
    {
      "cell_type": "markdown",
      "metadata": {
        "id": "tlBg5NIUB2W_"
      },
      "source": [
        "### Data Handling and Cleaning"
      ]
    },
    {
      "cell_type": "markdown",
      "metadata": {
        "id": "jxM9I0VwB2W_"
      },
      "source": [
        "The first few steps involve making sure that there are no __missing values__ or __incorrect data types__ before we proceed to the analysis stage. These aforementioned problems are handled as follows:\n",
        "\n",
        " - For Missing Values: Some common techniques to treat this issue are\n",
        "    - Dropping the rows containing the missing values\n",
        "    - Imputing the missing values\n",
        "    - Keep the missing values if they don't affect the analysis\n",
        "\n",
        "    \n",
        " - Incorrect Data Types:\n",
        "    - Clean certain values\n",
        "    - Clean and convert an entire column\n",
        ""
      ]
    },
    {
      "cell_type": "code",
      "execution_count": null,
      "metadata": {
        "id": "cP3QJHzQB2W_"
      },
      "outputs": [],
      "source": [
        "#Check the datatypes of all the columns of the dataframe\n"
      ]
    },
    {
      "cell_type": "markdown",
      "metadata": {
        "id": "bY9ImAWDB2W_"
      },
      "source": [
        "#### Missing Value Treatment"
      ]
    },
    {
      "cell_type": "code",
      "execution_count": null,
      "metadata": {
        "id": "PK3e80UxB2W_"
      },
      "outputs": [],
      "source": [
        "#Check the number of null values in the columns\n"
      ]
    },
    {
      "cell_type": "markdown",
      "metadata": {
        "id": "2-nMMCMZB2W_"
      },
      "source": [
        "Handling missing values for rating\n",
        " - Ratings is the target variable\n",
        " - drop the records"
      ]
    },
    {
      "cell_type": "code",
      "execution_count": null,
      "metadata": {
        "id": "Xvr0QV6NB2XA"
      },
      "outputs": [],
      "source": [
        "#Drop the rows having null values in the Rating field\n",
        "\n",
        "\n",
        "#Check the shape of the dataframe\n"
      ]
    },
    {
      "cell_type": "code",
      "execution_count": null,
      "metadata": {
        "id": "ZaMI7hJoB2XA"
      },
      "outputs": [],
      "source": [
        "# Check the number of nulls in the Rating field again to cross-verify\n"
      ]
    },
    {
      "cell_type": "code",
      "execution_count": null,
      "metadata": {
        "id": "W_8hSLU8B2XA"
      },
      "outputs": [],
      "source": [
        "#Question\n",
        "#Check the number of nulls in the dataframe again and find the total number of null values\n",
        "\n"
      ]
    },
    {
      "cell_type": "code",
      "execution_count": null,
      "metadata": {
        "id": "52_eADaEB2XA"
      },
      "outputs": [],
      "source": [
        "#Inspect the nulls in the Android Version column\n"
      ]
    },
    {
      "cell_type": "code",
      "execution_count": null,
      "metadata": {
        "id": "RLdgPjgPB2XA"
      },
      "outputs": [],
      "source": [
        "#Drop the row having shifted values\n",
        "\n",
        "#Check the nulls againin Android version column to cross-verify"
      ]
    },
    {
      "cell_type": "markdown",
      "metadata": {
        "id": "DkqlaCMgB2XA"
      },
      "source": [
        "Imputing Missing Values\n",
        "\n",
        "- For numerical variables use mean and median\n",
        "- For categorical variables use mode"
      ]
    },
    {
      "cell_type": "code",
      "execution_count": null,
      "metadata": {
        "id": "KZpUIk7kB2XA"
      },
      "outputs": [],
      "source": [
        "#Check the most common value in the Android version column\n"
      ]
    },
    {
      "cell_type": "code",
      "execution_count": null,
      "metadata": {
        "id": "tTViOHfjB2XA"
      },
      "outputs": [],
      "source": [
        "#Fill up the nulls in the Android Version column with the above value\n"
      ]
    },
    {
      "cell_type": "code",
      "execution_count": null,
      "metadata": {
        "id": "qrmNNgD4B2XA"
      },
      "outputs": [],
      "source": [
        "#Check the nulls in the Android version column again to cross-verify\n"
      ]
    },
    {
      "cell_type": "code",
      "execution_count": null,
      "metadata": {
        "id": "0urivchMB2XA"
      },
      "outputs": [],
      "source": [
        "#Check the nulls in the entire dataframe again\n"
      ]
    },
    {
      "cell_type": "code",
      "execution_count": null,
      "metadata": {
        "id": "9X4YT4_5B2XA"
      },
      "outputs": [],
      "source": [
        "#Check the most common value in the Current version column\n"
      ]
    },
    {
      "cell_type": "code",
      "execution_count": null,
      "metadata": {
        "id": "c66OiK1OB2XA"
      },
      "outputs": [],
      "source": [
        "#Replace the nulls in the Current version column with the above value\n",
        "\n"
      ]
    },
    {
      "cell_type": "code",
      "execution_count": null,
      "metadata": {
        "id": "pkTbxiknB2XA"
      },
      "outputs": [],
      "source": [
        "# Question : Check the most common value in the Current version column again\n"
      ]
    },
    {
      "cell_type": "markdown",
      "metadata": {
        "id": "r6vpXyRZB2XA"
      },
      "source": [
        "#### Handling Incorrect Data Types"
      ]
    },
    {
      "cell_type": "code",
      "execution_count": null,
      "metadata": {
        "id": "TuXXpYVwB2XA"
      },
      "outputs": [],
      "source": [
        "#Check the datatypes of all the columns\n"
      ]
    },
    {
      "cell_type": "code",
      "execution_count": null,
      "metadata": {
        "id": "6HJTTNF7B2XA"
      },
      "outputs": [],
      "source": [
        "#Question - Try calculating the average price of all apps having the Android version as \"4.1 and up\"\n",
        "\n"
      ]
    },
    {
      "cell_type": "code",
      "execution_count": null,
      "metadata": {
        "id": "8frL0-2fB2XA"
      },
      "outputs": [],
      "source": [
        "#Analyse the Price column to check the issue\n",
        "\n"
      ]
    },
    {
      "cell_type": "code",
      "execution_count": null,
      "metadata": {
        "id": "WzivaIjyB2XA"
      },
      "outputs": [],
      "source": [
        "#Write the function to make the changes\n",
        "\n"
      ]
    },
    {
      "cell_type": "code",
      "execution_count": null,
      "metadata": {
        "id": "MFJEVZATB2XA"
      },
      "outputs": [],
      "source": [
        "#Verify the dtype of Price once again\n"
      ]
    },
    {
      "cell_type": "code",
      "execution_count": null,
      "metadata": {
        "id": "UmR6CnzQB2XA"
      },
      "outputs": [],
      "source": [
        "#Analyse the Reviews column\n"
      ]
    },
    {
      "cell_type": "code",
      "execution_count": null,
      "metadata": {
        "id": "Rbo4XtW_B2XA"
      },
      "outputs": [],
      "source": [
        "#Change the dtype of this column\n",
        "\n",
        "\n",
        "#Check the quantitative spread of this dataframe\n",
        "\n"
      ]
    },
    {
      "cell_type": "code",
      "execution_count": null,
      "metadata": {
        "id": "EQ6-SqqOB2XA"
      },
      "outputs": [],
      "source": [
        "#Analyse the Installs Column\n",
        "\n"
      ]
    },
    {
      "cell_type": "code",
      "execution_count": null,
      "metadata": {
        "id": "3169ohCZB2XA"
      },
      "outputs": [],
      "source": [
        "#Question Clean the Installs Column and find the approximate number of apps at the 50th percentile.\n"
      ]
    },
    {
      "cell_type": "markdown",
      "metadata": {
        "id": "5XtMUJRVB2XA"
      },
      "source": [
        "#### Sanity Checks"
      ]
    },
    {
      "cell_type": "markdown",
      "metadata": {
        "id": "n-kkWtH0B2XA"
      },
      "source": [
        "The data that we have needs to make sense and therefore you can perform certain sanity checks on them to ensure they are factually correct as well. Some sanity checks can be:\n",
        "\n",
        "- Rating is between 1 and 5 for all the apps.\n",
        "- Number of Reviews is less than or equal to the number of Installs.\n",
        "- Free Apps shouldn’t have a price greater than 0.\n"
      ]
    },
    {
      "cell_type": "code",
      "execution_count": null,
      "metadata": {
        "id": "-jQhwzoXB2XA"
      },
      "outputs": [],
      "source": [
        "#Perform the sanity checks on the Reviews column\n"
      ]
    },
    {
      "cell_type": "code",
      "execution_count": null,
      "metadata": {
        "id": "gvLgVQXJB2XB"
      },
      "outputs": [],
      "source": [
        "#perform the sanity checks on prices of free apps\n"
      ]
    },
    {
      "cell_type": "markdown",
      "metadata": {
        "id": "lc8SyXeAB2XB"
      },
      "source": [
        "#### Outliers Analysis Using Boxplot"
      ]
    },
    {
      "cell_type": "markdown",
      "metadata": {
        "id": "ngO7BAsqB2XB"
      },
      "source": [
        "Now you need to start identifying and removing extreme values or __outliers__ from our dataset. These values can tilt our analysis and often provide us with a biased perspective of the data available. This is where you’ll start utilising visualisation to achieve your tasks. And the best visualisation to use here would be the box plot. Boxplots are one of the best ways of analysing the spread of a numeric variable\n",
        "\n",
        "\n",
        "Using a box plot you can identify the outliers as follows:"
      ]
    },
    {
      "cell_type": "markdown",
      "metadata": {
        "id": "BT3BYNQ2B2XB"
      },
      "source": [
        "![BoxPlots to Identify Outliers](images\\Boxplot.png)"
      ]
    },
    {
      "cell_type": "markdown",
      "metadata": {
        "id": "gsc9b9LyB2XB"
      },
      "source": [
        "- Outliers in data can arise due to genuine reasons or because of dubious entries. In the latter case, you should go ahead and remove such entries immediately. Use a boxplot to observe, analyse and remove them.\n",
        "- In the former case, you should determine whether or not removing them would add value to your analysis procedure."
      ]
    },
    {
      "cell_type": "markdown",
      "metadata": {
        "id": "IGgFjZdzB2XB"
      },
      "source": [
        "- You can create a box plot directly from pandas dataframe or the matplotlib way as you learnt in the previous session. Check out their official documentation here:\n",
        "   - https://pandas.pydata.org/pandas-docs/stable/reference/api/pandas.DataFrame.boxplot.html\n",
        "   - https://matplotlib.org/3.1.1/api/_as_gen/matplotlib.pyplot.boxplot.html"
      ]
    },
    {
      "cell_type": "code",
      "execution_count": null,
      "metadata": {
        "id": "C4HNIoT4B2XB"
      },
      "outputs": [],
      "source": [
        "#import the plotting libraries\n",
        "\n"
      ]
    },
    {
      "cell_type": "code",
      "execution_count": null,
      "metadata": {
        "id": "B4qW5Yj8B2XB"
      },
      "outputs": [],
      "source": [
        "#Create a box plot for the price column\n"
      ]
    },
    {
      "cell_type": "code",
      "execution_count": null,
      "metadata": {
        "id": "MNXp3HDOB2XB"
      },
      "outputs": [],
      "source": [
        "#Check the apps with price more than 200\n"
      ]
    },
    {
      "cell_type": "code",
      "execution_count": null,
      "metadata": {
        "id": "ZlOPlDVEB2XB"
      },
      "outputs": [],
      "source": [
        "#Clean the Price column\n"
      ]
    },
    {
      "cell_type": "code",
      "execution_count": null,
      "metadata": {
        "id": "TlV-_7OvB2XB"
      },
      "outputs": [],
      "source": [
        "#Create a box plot for paid apps\n",
        "\n"
      ]
    },
    {
      "cell_type": "code",
      "execution_count": null,
      "metadata": {
        "id": "9pgeq5eHB2XB"
      },
      "outputs": [],
      "source": [
        "#Check the apps with price more than 30\n"
      ]
    },
    {
      "cell_type": "code",
      "execution_count": null,
      "metadata": {
        "id": "k-8mYkC-B2XB"
      },
      "outputs": [],
      "source": [
        "#Clean the Price column again\n"
      ]
    },
    {
      "cell_type": "markdown",
      "metadata": {
        "id": "WFNXrRj_B2XB"
      },
      "source": [
        "### Histograms\n",
        "\n",
        "Histograms can also be used in conjuction with boxplots for data cleaning and data handling purposes. You can use it to check the spread of a numeric variable. Histograms generally work by bucketing the entire range of values that a particular variable takes to specific __bins__. After that, it uses vertical bars to denote the total number of records in a specific bin, which is also known as its __frequency__.\n"
      ]
    },
    {
      "cell_type": "markdown",
      "metadata": {
        "id": "QXWOcZQRB2XB"
      },
      "source": [
        "![Histogram](images\\Histogram.png)"
      ]
    },
    {
      "cell_type": "markdown",
      "metadata": {
        "id": "SOV8TzX6B2XB"
      },
      "source": [
        "You can adjust the number of bins to improve its granularity"
      ]
    },
    {
      "cell_type": "markdown",
      "metadata": {
        "id": "wpmEZi6EB2XB"
      },
      "source": [
        "![Bins change](images\\Granular.png)"
      ]
    },
    {
      "cell_type": "markdown",
      "metadata": {
        "id": "qTVKg965B2XC"
      },
      "source": [
        "You'll be using plt.hist() to plot a histogram. Check out its official documentation:https://matplotlib.org/3.1.1/api/_as_gen/matplotlib.pyplot.hist.html"
      ]
    },
    {
      "cell_type": "code",
      "execution_count": null,
      "metadata": {
        "id": "X3cQUuRyB2XC"
      },
      "outputs": [],
      "source": [
        "#Create a histogram of the Reviews\n"
      ]
    },
    {
      "cell_type": "code",
      "execution_count": null,
      "metadata": {
        "id": "NBmV-v8eB2XC"
      },
      "outputs": [],
      "source": [
        "#Create a boxplot of the Reviews column\n",
        "\n"
      ]
    },
    {
      "cell_type": "code",
      "execution_count": null,
      "metadata": {
        "id": "A5k3Ea4YB2XC"
      },
      "outputs": [],
      "source": [
        "#Check records with 1 million reviews\n"
      ]
    },
    {
      "cell_type": "code",
      "execution_count": null,
      "metadata": {
        "id": "OBfjBw8SB2XC"
      },
      "outputs": [],
      "source": [
        "#Drop the above records\n",
        "\n"
      ]
    },
    {
      "cell_type": "code",
      "execution_count": null,
      "metadata": {
        "id": "tc_atNnwB2XC"
      },
      "outputs": [],
      "source": [
        "#Question - Create a histogram again and check the peaks\n",
        "\n"
      ]
    },
    {
      "cell_type": "code",
      "execution_count": null,
      "metadata": {
        "id": "nFKN-SXYB2XC"
      },
      "outputs": [],
      "source": [
        "#Question - Create a box plot for the Installs column and report back the IQR\n",
        "\n",
        "\n"
      ]
    },
    {
      "cell_type": "code",
      "execution_count": null,
      "metadata": {
        "id": "_fwAeP54B2XC"
      },
      "outputs": [],
      "source": [
        "#Question - CLean the Installs by removing all the apps having more than or equal to 100 million installs"
      ]
    },
    {
      "cell_type": "code",
      "execution_count": null,
      "metadata": {
        "id": "QcQGrAbWB2XC"
      },
      "outputs": [],
      "source": [
        "#Plot a histogram for Size as well.\n"
      ]
    },
    {
      "cell_type": "code",
      "execution_count": null,
      "metadata": {
        "id": "9wgj63j5B2XC"
      },
      "outputs": [],
      "source": [
        "#Question - Create a boxplot for the Size column and report back the median value"
      ]
    },
    {
      "cell_type": "markdown",
      "metadata": {
        "id": "LAndiR1ZB2XC"
      },
      "source": [
        "### Session 2 - Data Visualisation with Seaborn"
      ]
    },
    {
      "cell_type": "markdown",
      "metadata": {
        "id": "986VMlNDB2XC"
      },
      "source": [
        "Seaborn is Python library to create statistical graphs easily. It is built on top of matplotlib and closely integrated with pandas.\n",
        "\n",
        "_Functionalities of Seaborn_ :\n",
        "\n",
        "- Dataset oriented API\n",
        "- Analysing univariate and bivariate distributions\n",
        "- Automatic estimation and plotting of  linear regression models\n",
        "- Convenient views for complex datasets\n",
        "- Concise control over style\n",
        "- Colour palettes\n"
      ]
    },
    {
      "cell_type": "code",
      "execution_count": null,
      "metadata": {
        "id": "cpDMQ2VJB2XC"
      },
      "outputs": [],
      "source": [
        "#import the necessary libraries\n"
      ]
    },
    {
      "cell_type": "markdown",
      "metadata": {
        "id": "a0ckLJwkB2XC"
      },
      "source": [
        "#### Distribution Plots"
      ]
    },
    {
      "cell_type": "markdown",
      "metadata": {
        "id": "VFc20cLHB2XC"
      },
      "source": [
        "A distribution plot is pretty similar to the histogram functionality in matplotlib. Instead of a frequency plot, it plots an approximate probability density for that rating bucket. And the curve (or the __KDE__) that gets drawn over the distribution is the approximate probability density curve.\n",
        "\n",
        "The following is an example of a distribution plot. Notice that now instead of frequency on the left axis, it has the density for each bin or bucket."
      ]
    },
    {
      "cell_type": "markdown",
      "metadata": {
        "id": "Jmt-9i1-B2XC"
      },
      "source": [
        "![Distplot](images\\Distplot.png)"
      ]
    },
    {
      "cell_type": "markdown",
      "metadata": {
        "id": "h1zReQ0NB2XC"
      },
      "source": [
        "You'll be using sns.distplot for plotting a distribution plot. Check out its official documentation: https://seaborn.pydata.org/generated/seaborn.distplot.html"
      ]
    },
    {
      "cell_type": "code",
      "execution_count": null,
      "metadata": {
        "id": "Huy4ZTneB2XC"
      },
      "outputs": [],
      "source": [
        "#Create a distribution plot for rating\n"
      ]
    },
    {
      "cell_type": "code",
      "execution_count": null,
      "metadata": {
        "id": "G1ixW72GB2XC"
      },
      "outputs": [],
      "source": [
        "#Change the number of bins\n",
        "\n"
      ]
    },
    {
      "cell_type": "code",
      "execution_count": null,
      "metadata": {
        "id": "NJzLocIfB2XC"
      },
      "outputs": [],
      "source": [
        "#Change the colour of bins to green\n"
      ]
    },
    {
      "cell_type": "code",
      "execution_count": null,
      "metadata": {
        "id": "VipRKF0FB2XC"
      },
      "outputs": [],
      "source": [
        "#Apply matplotlib functionalities\n",
        "\n"
      ]
    },
    {
      "cell_type": "markdown",
      "metadata": {
        "id": "Wbb8YZaTB2XC"
      },
      "source": [
        "#### Styling Options\n",
        "\n",
        "One of the biggest advantages of using Seaborn is that you can retain its aesthetic properties and also the Matplotlib functionalities to perform additional customisations. Before we continue with our case study analysis, let’s study some styling options that are available in Seaborn."
      ]
    },
    {
      "cell_type": "markdown",
      "metadata": {
        "id": "Sj1udXmjB2XC"
      },
      "source": [
        "-  Check out the official documentation:https://seaborn.pydata.org/generated/seaborn.set_style.html"
      ]
    },
    {
      "cell_type": "code",
      "execution_count": null,
      "metadata": {
        "id": "nwQRWKJ3B2XC"
      },
      "outputs": [],
      "source": [
        "#Check all the styling options"
      ]
    },
    {
      "cell_type": "code",
      "execution_count": null,
      "metadata": {
        "id": "HLEcUP0_B2XC"
      },
      "outputs": [],
      "source": [
        "#Change the number of bins to 20\n"
      ]
    },
    {
      "cell_type": "markdown",
      "metadata": {
        "id": "__XILBluB2XC"
      },
      "source": [
        "#### Pie-Chart and Bar Chart"
      ]
    },
    {
      "cell_type": "markdown",
      "metadata": {
        "id": "abkL0XLfB2XD"
      },
      "source": [
        "For analysing how a numeric variable changes across several categories of a categorical variable you utilise either a pie chart or a box plot"
      ]
    },
    {
      "cell_type": "markdown",
      "metadata": {
        "id": "aTQ0xTg2B2XD"
      },
      "source": [
        "For example, if you want to visualise the responses of a marketing campaign, you can use the following views:"
      ]
    },
    {
      "cell_type": "markdown",
      "metadata": {
        "id": "qUdZbGv2B2XD"
      },
      "source": [
        "![PieChart](images\\pie.png)"
      ]
    },
    {
      "cell_type": "markdown",
      "metadata": {
        "id": "abmwqA04B2XD"
      },
      "source": [
        "![barChart](images\\bar.png)"
      ]
    },
    {
      "cell_type": "markdown",
      "metadata": {
        "id": "NMaIG0qrB2XD"
      },
      "source": [
        "- You'll be using the pandas method of plotting both a pie chart and a bar chart. Check out their official documentations:\n",
        "   - https://pandas.pydata.org/pandas-docs/stable/reference/api/pandas.DataFrame.plot.bar.html\n",
        "   - https://pandas.pydata.org/pandas-docs/stable/reference/api/pandas.DataFrame.plot.pie.html"
      ]
    },
    {
      "cell_type": "code",
      "execution_count": null,
      "metadata": {
        "id": "GLwZ2dTGB2XD"
      },
      "outputs": [],
      "source": [
        "#Analyse the Content Rating column\n"
      ]
    },
    {
      "cell_type": "code",
      "execution_count": null,
      "metadata": {
        "id": "dD6VXMOuB2XD"
      },
      "outputs": [],
      "source": [
        "#Remove the rows with values which are less represented\n"
      ]
    },
    {
      "cell_type": "code",
      "execution_count": null,
      "metadata": {
        "id": "jJT9VKEQB2XD"
      },
      "outputs": [],
      "source": [
        "#Reset the index\n"
      ]
    },
    {
      "cell_type": "code",
      "execution_count": null,
      "metadata": {
        "id": "g-ncB1U5B2XD"
      },
      "outputs": [],
      "source": [
        "#Check the apps belonging to different categories of Content Rating\n"
      ]
    },
    {
      "cell_type": "code",
      "execution_count": null,
      "metadata": {
        "id": "1zWnuXwhB2XD"
      },
      "outputs": [],
      "source": [
        "#Plot a pie chart\n",
        "\n"
      ]
    },
    {
      "cell_type": "code",
      "execution_count": null,
      "metadata": {
        "id": "FjT6jg77B2XD"
      },
      "outputs": [],
      "source": [
        "#Plot a bar chart\n"
      ]
    },
    {
      "cell_type": "code",
      "execution_count": null,
      "metadata": {
        "id": "Z5QYK7nLB2XD"
      },
      "outputs": [],
      "source": [
        "#Question - Plot a bar plot for checking the 4th highest Android version type\n"
      ]
    },
    {
      "cell_type": "markdown",
      "metadata": {
        "id": "aGI77y3OB2XD"
      },
      "source": [
        "#### Scatter Plots"
      ]
    },
    {
      "cell_type": "markdown",
      "metadata": {
        "id": "0BJGDVJOB2XD"
      },
      "source": [
        "Scatterplots are perhaps one of the most commonly used as well one of the most powerful visualisations you can use in the field of machine learning. They are pretty crucial in revealing relationships between the data points and you can generally deduce some sort of trends in the data with the help of a scatter plot."
      ]
    },
    {
      "cell_type": "markdown",
      "metadata": {
        "id": "g2Vkndd3B2XD"
      },
      "source": [
        "![Scatterplot](images\\scatter.png)"
      ]
    },
    {
      "cell_type": "markdown",
      "metadata": {
        "id": "FzgzK3MfB2XD"
      },
      "source": [
        "- They're pretty useful in regression problems to check whether a linear trend exists in the data or not. For example, in the image below, creating a linear model in the first case makes far more sense since a clear straight line trend is visible."
      ]
    },
    {
      "cell_type": "markdown",
      "metadata": {
        "id": "jt2VUiDVB2XD"
      },
      "source": [
        "![Scatterplot-Reg](images\\regression3.png)"
      ]
    },
    {
      "cell_type": "markdown",
      "metadata": {
        "id": "Gtc2r7j-B2XD"
      },
      "source": [
        "- Also, they help in observing __naturally occuring clusters__. In the following image, the marks of students in Maths and Biology has been plotted.You can clearly group the students to 4 clusters now. Cluster 1 are students who score very well in Biology but very poorly in Maths, Cluster 2 are students who score equally well in both the subjects and so on."
      ]
    },
    {
      "cell_type": "markdown",
      "metadata": {
        "id": "Ww56OmY3B2XD"
      },
      "source": [
        "![Scatter-Clusters](images\\Clusters.png)"
      ]
    },
    {
      "cell_type": "markdown",
      "metadata": {
        "id": "6w1Un70LB2XD"
      },
      "source": [
        "**Note**: You'll be studying about both Regression and Clustering in greater detail in the machine learning modules"
      ]
    },
    {
      "cell_type": "markdown",
      "metadata": {
        "id": "ezrUPKXgB2XD"
      },
      "source": [
        "You'll be using **sns.jointplot()** for creating a scatter plot. Check out its documentation:\n",
        "https://seaborn.pydata.org/generated/seaborn.jointplot.html"
      ]
    },
    {
      "cell_type": "code",
      "execution_count": null,
      "metadata": {
        "id": "m-VBh307B2XD"
      },
      "outputs": [],
      "source": [
        "###Size vs Rating\n",
        "\n",
        "##Plot a scatter-plot in the matplotlib way between Size and Rating\n"
      ]
    },
    {
      "cell_type": "code",
      "execution_count": null,
      "metadata": {
        "id": "IT3lxyVPB2XD"
      },
      "outputs": [],
      "source": [
        "### Plot the same thing now using a jointplot\n"
      ]
    },
    {
      "cell_type": "code",
      "execution_count": null,
      "metadata": {
        "id": "dDLyxSzgB2XD"
      },
      "outputs": [],
      "source": [
        "## Plot a jointplot for Price and Rating\n"
      ]
    },
    {
      "cell_type": "markdown",
      "metadata": {
        "id": "eOKx1MKkB2XD"
      },
      "source": [
        "**Reg Plots**\n",
        "\n",
        "- These are an extension to the jointplots, where a regression line is added to the view"
      ]
    },
    {
      "cell_type": "code",
      "execution_count": null,
      "metadata": {
        "id": "tbN_lVSTB2XD"
      },
      "outputs": [],
      "source": [
        "##Plot a reg plot for Price and Rating and observe the trend\n",
        "\n"
      ]
    },
    {
      "cell_type": "code",
      "execution_count": null,
      "metadata": {
        "id": "wvlnWZvWB2XD"
      },
      "outputs": [],
      "source": [
        "## Question - Plot a reg plot for Price and Rating again for only the paid apps.\n"
      ]
    },
    {
      "cell_type": "markdown",
      "metadata": {
        "id": "phxUvsriB2XE"
      },
      "source": [
        "**Pair Plots**"
      ]
    },
    {
      "cell_type": "markdown",
      "metadata": {
        "id": "mgVe9SeXB2XE"
      },
      "source": [
        " - When you have several numeric variables, making multiple scatter plots becomes rather tedious. Therefore, a pair plot visualisation is preferred where all the scatter plots are in a single view in the form of a matrix\n",
        " - For the non-diagonal views, it plots a **scatter plot** between 2 numeric variables\n",
        " - For the diagonal views, it plots a **histogram**"
      ]
    },
    {
      "cell_type": "markdown",
      "metadata": {
        "id": "fMC3ygxqB2XE"
      },
      "source": [
        "Pair Plots help in identifying the trends between a target variable and the predictor variables pretty quickly. For example, say you want to predict how your company’s profits are affected by three different factors. In order to choose which you created a pair plot containing profits and the three different factors as the variables. Here are the scatterplots of profits vs the three variables that you obtained from the pair plot."
      ]
    },
    {
      "cell_type": "markdown",
      "metadata": {
        "id": "dCkG31cXB2XE"
      },
      "source": [
        "![Pairplots](images\\pairplots2.png)"
      ]
    },
    {
      "cell_type": "markdown",
      "metadata": {
        "id": "-qNRXHvqB2XE"
      },
      "source": [
        "It is clearly visible that the left-most factor is the most prominently related to the profits, given how linearly scattered the points are and how randomly scattered the rest two factors are."
      ]
    },
    {
      "cell_type": "markdown",
      "metadata": {
        "id": "WyFmpsMXB2XE"
      },
      "source": [
        "You'll be using **sns.pairplot()** for this visualisation. Check out its official documentation:https://seaborn.pydata.org/generated/seaborn.pairplot.html"
      ]
    },
    {
      "cell_type": "code",
      "execution_count": null,
      "metadata": {
        "id": "hlmuzpfZB2XE"
      },
      "outputs": [],
      "source": [
        "## Create a pair plot for Reviews, Size, Price and Rating\n",
        "\n"
      ]
    },
    {
      "cell_type": "markdown",
      "metadata": {
        "id": "BIoxmpOYB2XE"
      },
      "source": [
        "**Bar Charts Revisited**"
      ]
    },
    {
      "cell_type": "markdown",
      "metadata": {
        "id": "3ZpqQLcFB2XE"
      },
      "source": [
        "- Here, you'll be using bar charts once again, this time using the **sns.barplot()** function. Check out its official documentation:https://seaborn.pydata.org/generated/seaborn.barplot.html\n",
        "- You can modify the **estimator** parameter to change the aggregation value of your barplot"
      ]
    },
    {
      "cell_type": "code",
      "execution_count": null,
      "metadata": {
        "id": "qbenBKs0B2XE"
      },
      "outputs": [],
      "source": [
        "##Plot a bar plot of Content Rating vs Average Rating\n"
      ]
    },
    {
      "cell_type": "code",
      "execution_count": null,
      "metadata": {
        "id": "Kh0PgNa9B2XE"
      },
      "outputs": [],
      "source": [
        "##Plot the bar plot again with Median Rating\n"
      ]
    },
    {
      "cell_type": "code",
      "execution_count": null,
      "metadata": {
        "id": "iRza8UjrB2XE"
      },
      "outputs": [],
      "source": [
        "##Plot the above bar plot using the estimator parameter\n",
        "\n"
      ]
    },
    {
      "cell_type": "code",
      "execution_count": null,
      "metadata": {
        "id": "scja03WoB2XE"
      },
      "outputs": [],
      "source": [
        "##Plot the bar plot with only the 5th percentile of Ratings\n"
      ]
    },
    {
      "cell_type": "code",
      "execution_count": null,
      "metadata": {
        "id": "Gg_yBgFxB2XE"
      },
      "outputs": [],
      "source": [
        "##Question - Plot the bar plot with the minimum Rating\n"
      ]
    },
    {
      "cell_type": "markdown",
      "metadata": {
        "id": "I70jpjaHB2XE"
      },
      "source": [
        "__Box Plots Revisited__\n",
        "\n",
        "- Apart from outlier analysis, box plots are great at comparing the spread and analysing a numerical variable across several categories\n",
        "- Here you'll be using **sns.boxplot()** function to plot the visualisation. Check out its documentation: https://seaborn.pydata.org/generated/seaborn.boxplot.html\n",
        "\n",
        "\n"
      ]
    },
    {
      "cell_type": "code",
      "execution_count": null,
      "metadata": {
        "id": "_wcHYQVRB2XE"
      },
      "outputs": [],
      "source": [
        "##Plot a box plot of Rating vs Content Rating\n"
      ]
    },
    {
      "cell_type": "code",
      "execution_count": null,
      "metadata": {
        "id": "SoTnjB6rB2XE"
      },
      "outputs": [],
      "source": [
        "##Question - Plot a box plot for the Rating column only\n"
      ]
    },
    {
      "cell_type": "code",
      "execution_count": null,
      "metadata": {
        "id": "oMrmOJfYB2XE"
      },
      "outputs": [],
      "source": [
        "##Question - Plot a box plot of Ratings across the 4 most popular Genres\n"
      ]
    },
    {
      "cell_type": "markdown",
      "metadata": {
        "id": "DknPC3zXB2XE"
      },
      "source": [
        "#### Heat Maps"
      ]
    },
    {
      "cell_type": "markdown",
      "metadata": {
        "id": "RXb2KoiPB2XE"
      },
      "source": [
        "Heat mapsutilise the concept of using colours and colour intensities to visualise a range of values. You must have seen heat maps in cricket or football broadcasts on television to denote the players’ areas of strength and weakness."
      ]
    },
    {
      "cell_type": "markdown",
      "metadata": {
        "id": "at6-qxcvB2XE"
      },
      "source": [
        "![HeatMap](images\\heatmap1.png)"
      ]
    },
    {
      "cell_type": "markdown",
      "metadata": {
        "id": "pR7_ZflQB2XE"
      },
      "source": [
        "- In python, you can create a heat map whenever you have a rectangular grid or table of numbers analysing any two features"
      ]
    },
    {
      "cell_type": "markdown",
      "metadata": {
        "id": "Gux9QrF1B2XE"
      },
      "source": [
        "![heatmap2](images\\heatmap2.png)"
      ]
    },
    {
      "cell_type": "markdown",
      "metadata": {
        "id": "83828CDAB2XE"
      },
      "source": [
        "- You'll be using **sns.heatmap()** to plot the visualisation. Checkout its official documentation :https://seaborn.pydata.org/generated/seaborn.heatmap.html"
      ]
    },
    {
      "cell_type": "code",
      "execution_count": null,
      "metadata": {
        "id": "japplxRvB2XE"
      },
      "outputs": [],
      "source": [
        "##Ratings vs Size vs Content Rating\n",
        "\n",
        "##Prepare buckets for the Size column using pd.qcut\n",
        "\n"
      ]
    },
    {
      "cell_type": "code",
      "execution_count": null,
      "metadata": {
        "id": "hJs51NlhB2XE"
      },
      "outputs": [],
      "source": [
        "##Create a pivot table for Size_buckets and Content Rating with values set to Rating\n"
      ]
    },
    {
      "cell_type": "code",
      "execution_count": null,
      "metadata": {
        "id": "ShbN5ohpB2XE"
      },
      "outputs": [],
      "source": [
        "##Change the aggregation to median\n"
      ]
    },
    {
      "cell_type": "code",
      "execution_count": null,
      "metadata": {
        "id": "fgZPXUSMB2XF"
      },
      "outputs": [],
      "source": [
        "##Change the aggregation to 20th percentile\n"
      ]
    },
    {
      "cell_type": "code",
      "execution_count": null,
      "metadata": {
        "id": "7te4VRXoB2XF"
      },
      "outputs": [],
      "source": [
        "##Store the pivot table in a separate variable\n"
      ]
    },
    {
      "cell_type": "code",
      "execution_count": null,
      "metadata": {
        "id": "ETTEwf84B2XF"
      },
      "outputs": [],
      "source": [
        "##Plot a heat map\n"
      ]
    },
    {
      "cell_type": "code",
      "execution_count": null,
      "metadata": {
        "id": "7LbHARUTB2XF"
      },
      "outputs": [],
      "source": [
        "##Apply customisations\n"
      ]
    },
    {
      "cell_type": "code",
      "execution_count": null,
      "metadata": {
        "id": "jCOOJegQB2XF"
      },
      "outputs": [],
      "source": [
        "##Question - Replace Content Rating with Review_buckets in the above heat map\n",
        "##Keep the aggregation at minimum value for Rating\n"
      ]
    },
    {
      "cell_type": "markdown",
      "metadata": {
        "id": "A3E7NguuB2XF"
      },
      "source": [
        "### Session 3: Additional Visualisations"
      ]
    },
    {
      "cell_type": "markdown",
      "metadata": {
        "id": "zlgHEWtKB2XF"
      },
      "source": [
        "#### Line Plots"
      ]
    },
    {
      "cell_type": "markdown",
      "metadata": {
        "id": "jvgrEujMB2XF"
      },
      "source": [
        "- A line plot tries to observe trends using time dependent data.\n",
        "-  For this part, you'll be using **pd.to_datetime()** function. Check out its documentation:https://pandas.pydata.org/pandas-docs/stable/reference/api/pandas.to_datetime.html\n"
      ]
    },
    {
      "cell_type": "code",
      "execution_count": null,
      "metadata": {
        "id": "JkY8hUMbB2XF"
      },
      "outputs": [],
      "source": [
        "## Extract the month from the Last Updated Date\n",
        "\n"
      ]
    },
    {
      "cell_type": "code",
      "execution_count": null,
      "metadata": {
        "id": "c9NslCuUB2XF"
      },
      "outputs": [],
      "source": [
        "## Find the average Rating across all the months\n",
        "\n"
      ]
    },
    {
      "cell_type": "code",
      "execution_count": null,
      "metadata": {
        "id": "Qe1Zu03PB2XF"
      },
      "outputs": [],
      "source": [
        "## Plot a line graph\n",
        "\n"
      ]
    },
    {
      "cell_type": "markdown",
      "metadata": {
        "id": "0KhdWt0mB2XF"
      },
      "source": [
        "#### Stacked Bar Charts"
      ]
    },
    {
      "cell_type": "markdown",
      "metadata": {
        "id": "lmDFxXI7B2XF"
      },
      "source": [
        "- A stacked bar chart breaks down each bar of the bar chart on the basis of a different category\n",
        "- For example, for the Campaign Response bar chart you saw earlier, the stacked bar chart is also showing the Gender bifurcation as well"
      ]
    },
    {
      "cell_type": "markdown",
      "metadata": {
        "id": "2wmSz4AmB2XF"
      },
      "source": [
        "![Stacked](images\\stacked.png)"
      ]
    },
    {
      "cell_type": "code",
      "execution_count": null,
      "metadata": {
        "id": "54bfyHiVB2XF"
      },
      "outputs": [],
      "source": [
        "## Create a pivot table for Content Rating and updated Month with the values set to Installs\n"
      ]
    },
    {
      "cell_type": "code",
      "execution_count": null,
      "metadata": {
        "id": "mm3HEGxKB2XF"
      },
      "outputs": [],
      "source": [
        "##Store the table in a separate variable\n"
      ]
    },
    {
      "cell_type": "code",
      "execution_count": null,
      "metadata": {
        "id": "q3mTv5BWB2XF"
      },
      "outputs": [],
      "source": [
        "##Plot the stacked bar chart.\n"
      ]
    },
    {
      "cell_type": "code",
      "execution_count": null,
      "metadata": {
        "id": "PCIjRpUNB2XF"
      },
      "outputs": [],
      "source": [
        "##Plot the stacked bar chart again wrt to the proportions.\n",
        "\n"
      ]
    },
    {
      "cell_type": "markdown",
      "metadata": {
        "id": "xboHWmomB2XF"
      },
      "source": [
        "#### Plotly"
      ]
    },
    {
      "cell_type": "markdown",
      "metadata": {
        "id": "t7rY0kL1B2XF"
      },
      "source": [
        "Plotly is a Python library used for creating interactive visual charts. You can take a look at how you can use it to create aesthetic looking plots with a lot of user-friendly functionalities like hover, zoom, etc."
      ]
    },
    {
      "cell_type": "markdown",
      "metadata": {
        "id": "c0KGZJfAB2XF"
      },
      "source": [
        "Check out this link for installation and documentation:https://plot.ly/python/getting-started/"
      ]
    },
    {
      "cell_type": "code",
      "execution_count": null,
      "metadata": {
        "id": "ateG_C_zB2XF"
      },
      "outputs": [],
      "source": [
        "#Install plotly\n"
      ]
    },
    {
      "cell_type": "code",
      "execution_count": null,
      "metadata": {
        "id": "07oydZvtB2XF"
      },
      "outputs": [],
      "source": [
        "#Take the table you want to plot in a separate variable\n"
      ]
    },
    {
      "cell_type": "code",
      "execution_count": null,
      "metadata": {
        "id": "Dhh6-T-gB2XF"
      },
      "outputs": [],
      "source": [
        "#Import the plotly libraries\n"
      ]
    },
    {
      "cell_type": "code",
      "execution_count": null,
      "metadata": {
        "id": "yZPr3gltB2XF"
      },
      "outputs": [],
      "source": [
        "#Prepare the plot\n"
      ]
    }
  ],
  "metadata": {
    "kernelspec": {
      "display_name": "Python 3",
      "language": "python",
      "name": "python3"
    },
    "language_info": {
      "codemirror_mode": {
        "name": "ipython",
        "version": 3
      },
      "file_extension": ".py",
      "mimetype": "text/x-python",
      "name": "python",
      "nbconvert_exporter": "python",
      "pygments_lexer": "ipython3",
      "version": "3.7.3"
    },
    "colab": {
      "provenance": []
    }
  },
  "nbformat": 4,
  "nbformat_minor": 0
}