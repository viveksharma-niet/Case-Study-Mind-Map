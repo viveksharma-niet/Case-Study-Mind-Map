{
  "cells": [
    {
      "cell_type": "markdown",
      "metadata": {
        "id": "89xI4IV3B2W-"
      },
      "source": [
        "# Google Playstore Case Study"
      ]
    },
    {
      "cell_type": "markdown",
      "metadata": {
        "id": "1XeODU4OB2W-"
      },
      "source": [
        "In this module you’ll be learning data visualisation with the help of a case study. This will enable you to understand how visualisation aids you in solving business problems."
      ]
    },
    {
      "cell_type": "markdown",
      "metadata": {
        "id": "GKLXPAgWB2W-"
      },
      "source": [
        "**Problem Statement**\n",
        "\n",
        "The team at Google Play Store wants to develop a feature that would enable them to boost visibility for the most promising apps. Now, this analysis would require a preliminary understanding of the features that define a well-performing app. You can ask questions like:\n",
        "- Does a higher size or price necessarily mean that an app would perform better than the other apps?\n",
        "- Or does a higher number of installs give a clear picture of which app would have a better rating than others?\n"
      ]
    },
    {
      "cell_type": "markdown",
      "metadata": {
        "id": "udHCbrbgB2W_"
      },
      "source": [
        "\n",
        "\n",
        "### Session 1 - Introduction to Data Visualisation"
      ]
    },
    {
      "cell_type": "code",
      "execution_count": 82,
      "metadata": {
        "id": "K41-KFLvB2W_"
      },
      "outputs": [],
      "source": [
        "#import the libraries\n",
        "import pandas as pd\n",
        "import numpy as np\n",
        "import matplotlib.pyplot as plt\n",
        "\n",
        "#import the directory\n",
        "fileloc = \"https://raw.githubusercontent.com/viveksharma-niet/Case-Study-Mind-Map/refs/heads/main/Case%20Study%20Notebook/googleplaystore_v2.csv\"\n"
      ]
    },
    {
      "cell_type": "code",
      "execution_count": 83,
      "metadata": {
        "colab": {
          "base_uri": "https://localhost:8080/",
          "height": 206
        },
        "id": "DEcQ4AZRB2W_",
        "outputId": "16597bdf-a0e6-46a1-b90e-325ca71fa754"
      },
      "outputs": [
        {
          "output_type": "execute_result",
          "data": {
            "text/plain": [
              "                                                 App        Category  Rating  \\\n",
              "0     Photo Editor & Candy Camera & Grid & ScrapBook  ART_AND_DESIGN     4.1   \n",
              "1                                Coloring book moana  ART_AND_DESIGN     3.9   \n",
              "2  U Launcher Lite – FREE Live Cool Themes, Hide ...  ART_AND_DESIGN     4.7   \n",
              "3                              Sketch - Draw & Paint  ART_AND_DESIGN     4.5   \n",
              "4              Pixel Draw - Number Art Coloring Book  ART_AND_DESIGN     4.3   \n",
              "\n",
              "  Reviews     Size     Installs  Type Price Content Rating  \\\n",
              "0     159  19000.0      10,000+  Free     0       Everyone   \n",
              "1     967  14000.0     500,000+  Free     0       Everyone   \n",
              "2   87510   8700.0   5,000,000+  Free     0       Everyone   \n",
              "3  215644  25000.0  50,000,000+  Free     0           Teen   \n",
              "4     967   2800.0     100,000+  Free     0       Everyone   \n",
              "\n",
              "                      Genres      Last Updated         Current Ver  \\\n",
              "0               Art & Design   January 7, 2018               1.0.0   \n",
              "1  Art & Design;Pretend Play  January 15, 2018               2.0.0   \n",
              "2               Art & Design    August 1, 2018               1.2.4   \n",
              "3               Art & Design      June 8, 2018  Varies with device   \n",
              "4    Art & Design;Creativity     June 20, 2018                 1.1   \n",
              "\n",
              "    Android Ver  \n",
              "0  4.0.3 and up  \n",
              "1  4.0.3 and up  \n",
              "2  4.0.3 and up  \n",
              "3    4.2 and up  \n",
              "4    4.4 and up  "
            ],
            "text/html": [
              "\n",
              "  <div id=\"df-1c1b9836-5777-42cc-9e7b-5bd81de5f8ea\" class=\"colab-df-container\">\n",
              "    <div>\n",
              "<style scoped>\n",
              "    .dataframe tbody tr th:only-of-type {\n",
              "        vertical-align: middle;\n",
              "    }\n",
              "\n",
              "    .dataframe tbody tr th {\n",
              "        vertical-align: top;\n",
              "    }\n",
              "\n",
              "    .dataframe thead th {\n",
              "        text-align: right;\n",
              "    }\n",
              "</style>\n",
              "<table border=\"1\" class=\"dataframe\">\n",
              "  <thead>\n",
              "    <tr style=\"text-align: right;\">\n",
              "      <th></th>\n",
              "      <th>App</th>\n",
              "      <th>Category</th>\n",
              "      <th>Rating</th>\n",
              "      <th>Reviews</th>\n",
              "      <th>Size</th>\n",
              "      <th>Installs</th>\n",
              "      <th>Type</th>\n",
              "      <th>Price</th>\n",
              "      <th>Content Rating</th>\n",
              "      <th>Genres</th>\n",
              "      <th>Last Updated</th>\n",
              "      <th>Current Ver</th>\n",
              "      <th>Android Ver</th>\n",
              "    </tr>\n",
              "  </thead>\n",
              "  <tbody>\n",
              "    <tr>\n",
              "      <th>0</th>\n",
              "      <td>Photo Editor &amp; Candy Camera &amp; Grid &amp; ScrapBook</td>\n",
              "      <td>ART_AND_DESIGN</td>\n",
              "      <td>4.1</td>\n",
              "      <td>159</td>\n",
              "      <td>19000.0</td>\n",
              "      <td>10,000+</td>\n",
              "      <td>Free</td>\n",
              "      <td>0</td>\n",
              "      <td>Everyone</td>\n",
              "      <td>Art &amp; Design</td>\n",
              "      <td>January 7, 2018</td>\n",
              "      <td>1.0.0</td>\n",
              "      <td>4.0.3 and up</td>\n",
              "    </tr>\n",
              "    <tr>\n",
              "      <th>1</th>\n",
              "      <td>Coloring book moana</td>\n",
              "      <td>ART_AND_DESIGN</td>\n",
              "      <td>3.9</td>\n",
              "      <td>967</td>\n",
              "      <td>14000.0</td>\n",
              "      <td>500,000+</td>\n",
              "      <td>Free</td>\n",
              "      <td>0</td>\n",
              "      <td>Everyone</td>\n",
              "      <td>Art &amp; Design;Pretend Play</td>\n",
              "      <td>January 15, 2018</td>\n",
              "      <td>2.0.0</td>\n",
              "      <td>4.0.3 and up</td>\n",
              "    </tr>\n",
              "    <tr>\n",
              "      <th>2</th>\n",
              "      <td>U Launcher Lite – FREE Live Cool Themes, Hide ...</td>\n",
              "      <td>ART_AND_DESIGN</td>\n",
              "      <td>4.7</td>\n",
              "      <td>87510</td>\n",
              "      <td>8700.0</td>\n",
              "      <td>5,000,000+</td>\n",
              "      <td>Free</td>\n",
              "      <td>0</td>\n",
              "      <td>Everyone</td>\n",
              "      <td>Art &amp; Design</td>\n",
              "      <td>August 1, 2018</td>\n",
              "      <td>1.2.4</td>\n",
              "      <td>4.0.3 and up</td>\n",
              "    </tr>\n",
              "    <tr>\n",
              "      <th>3</th>\n",
              "      <td>Sketch - Draw &amp; Paint</td>\n",
              "      <td>ART_AND_DESIGN</td>\n",
              "      <td>4.5</td>\n",
              "      <td>215644</td>\n",
              "      <td>25000.0</td>\n",
              "      <td>50,000,000+</td>\n",
              "      <td>Free</td>\n",
              "      <td>0</td>\n",
              "      <td>Teen</td>\n",
              "      <td>Art &amp; Design</td>\n",
              "      <td>June 8, 2018</td>\n",
              "      <td>Varies with device</td>\n",
              "      <td>4.2 and up</td>\n",
              "    </tr>\n",
              "    <tr>\n",
              "      <th>4</th>\n",
              "      <td>Pixel Draw - Number Art Coloring Book</td>\n",
              "      <td>ART_AND_DESIGN</td>\n",
              "      <td>4.3</td>\n",
              "      <td>967</td>\n",
              "      <td>2800.0</td>\n",
              "      <td>100,000+</td>\n",
              "      <td>Free</td>\n",
              "      <td>0</td>\n",
              "      <td>Everyone</td>\n",
              "      <td>Art &amp; Design;Creativity</td>\n",
              "      <td>June 20, 2018</td>\n",
              "      <td>1.1</td>\n",
              "      <td>4.4 and up</td>\n",
              "    </tr>\n",
              "  </tbody>\n",
              "</table>\n",
              "</div>\n",
              "    <div class=\"colab-df-buttons\">\n",
              "\n",
              "  <div class=\"colab-df-container\">\n",
              "    <button class=\"colab-df-convert\" onclick=\"convertToInteractive('df-1c1b9836-5777-42cc-9e7b-5bd81de5f8ea')\"\n",
              "            title=\"Convert this dataframe to an interactive table.\"\n",
              "            style=\"display:none;\">\n",
              "\n",
              "  <svg xmlns=\"http://www.w3.org/2000/svg\" height=\"24px\" viewBox=\"0 -960 960 960\">\n",
              "    <path d=\"M120-120v-720h720v720H120Zm60-500h600v-160H180v160Zm220 220h160v-160H400v160Zm0 220h160v-160H400v160ZM180-400h160v-160H180v160Zm440 0h160v-160H620v160ZM180-180h160v-160H180v160Zm440 0h160v-160H620v160Z\"/>\n",
              "  </svg>\n",
              "    </button>\n",
              "\n",
              "  <style>\n",
              "    .colab-df-container {\n",
              "      display:flex;\n",
              "      gap: 12px;\n",
              "    }\n",
              "\n",
              "    .colab-df-convert {\n",
              "      background-color: #E8F0FE;\n",
              "      border: none;\n",
              "      border-radius: 50%;\n",
              "      cursor: pointer;\n",
              "      display: none;\n",
              "      fill: #1967D2;\n",
              "      height: 32px;\n",
              "      padding: 0 0 0 0;\n",
              "      width: 32px;\n",
              "    }\n",
              "\n",
              "    .colab-df-convert:hover {\n",
              "      background-color: #E2EBFA;\n",
              "      box-shadow: 0px 1px 2px rgba(60, 64, 67, 0.3), 0px 1px 3px 1px rgba(60, 64, 67, 0.15);\n",
              "      fill: #174EA6;\n",
              "    }\n",
              "\n",
              "    .colab-df-buttons div {\n",
              "      margin-bottom: 4px;\n",
              "    }\n",
              "\n",
              "    [theme=dark] .colab-df-convert {\n",
              "      background-color: #3B4455;\n",
              "      fill: #D2E3FC;\n",
              "    }\n",
              "\n",
              "    [theme=dark] .colab-df-convert:hover {\n",
              "      background-color: #434B5C;\n",
              "      box-shadow: 0px 1px 3px 1px rgba(0, 0, 0, 0.15);\n",
              "      filter: drop-shadow(0px 1px 2px rgba(0, 0, 0, 0.3));\n",
              "      fill: #FFFFFF;\n",
              "    }\n",
              "  </style>\n",
              "\n",
              "    <script>\n",
              "      const buttonEl =\n",
              "        document.querySelector('#df-1c1b9836-5777-42cc-9e7b-5bd81de5f8ea button.colab-df-convert');\n",
              "      buttonEl.style.display =\n",
              "        google.colab.kernel.accessAllowed ? 'block' : 'none';\n",
              "\n",
              "      async function convertToInteractive(key) {\n",
              "        const element = document.querySelector('#df-1c1b9836-5777-42cc-9e7b-5bd81de5f8ea');\n",
              "        const dataTable =\n",
              "          await google.colab.kernel.invokeFunction('convertToInteractive',\n",
              "                                                    [key], {});\n",
              "        if (!dataTable) return;\n",
              "\n",
              "        const docLinkHtml = 'Like what you see? Visit the ' +\n",
              "          '<a target=\"_blank\" href=https://colab.research.google.com/notebooks/data_table.ipynb>data table notebook</a>'\n",
              "          + ' to learn more about interactive tables.';\n",
              "        element.innerHTML = '';\n",
              "        dataTable['output_type'] = 'display_data';\n",
              "        await google.colab.output.renderOutput(dataTable, element);\n",
              "        const docLink = document.createElement('div');\n",
              "        docLink.innerHTML = docLinkHtml;\n",
              "        element.appendChild(docLink);\n",
              "      }\n",
              "    </script>\n",
              "  </div>\n",
              "\n",
              "\n",
              "    <div id=\"df-a84a92d5-1ca7-4df7-af1f-007219279392\">\n",
              "      <button class=\"colab-df-quickchart\" onclick=\"quickchart('df-a84a92d5-1ca7-4df7-af1f-007219279392')\"\n",
              "                title=\"Suggest charts\"\n",
              "                style=\"display:none;\">\n",
              "\n",
              "<svg xmlns=\"http://www.w3.org/2000/svg\" height=\"24px\"viewBox=\"0 0 24 24\"\n",
              "     width=\"24px\">\n",
              "    <g>\n",
              "        <path d=\"M19 3H5c-1.1 0-2 .9-2 2v14c0 1.1.9 2 2 2h14c1.1 0 2-.9 2-2V5c0-1.1-.9-2-2-2zM9 17H7v-7h2v7zm4 0h-2V7h2v10zm4 0h-2v-4h2v4z\"/>\n",
              "    </g>\n",
              "</svg>\n",
              "      </button>\n",
              "\n",
              "<style>\n",
              "  .colab-df-quickchart {\n",
              "      --bg-color: #E8F0FE;\n",
              "      --fill-color: #1967D2;\n",
              "      --hover-bg-color: #E2EBFA;\n",
              "      --hover-fill-color: #174EA6;\n",
              "      --disabled-fill-color: #AAA;\n",
              "      --disabled-bg-color: #DDD;\n",
              "  }\n",
              "\n",
              "  [theme=dark] .colab-df-quickchart {\n",
              "      --bg-color: #3B4455;\n",
              "      --fill-color: #D2E3FC;\n",
              "      --hover-bg-color: #434B5C;\n",
              "      --hover-fill-color: #FFFFFF;\n",
              "      --disabled-bg-color: #3B4455;\n",
              "      --disabled-fill-color: #666;\n",
              "  }\n",
              "\n",
              "  .colab-df-quickchart {\n",
              "    background-color: var(--bg-color);\n",
              "    border: none;\n",
              "    border-radius: 50%;\n",
              "    cursor: pointer;\n",
              "    display: none;\n",
              "    fill: var(--fill-color);\n",
              "    height: 32px;\n",
              "    padding: 0;\n",
              "    width: 32px;\n",
              "  }\n",
              "\n",
              "  .colab-df-quickchart:hover {\n",
              "    background-color: var(--hover-bg-color);\n",
              "    box-shadow: 0 1px 2px rgba(60, 64, 67, 0.3), 0 1px 3px 1px rgba(60, 64, 67, 0.15);\n",
              "    fill: var(--button-hover-fill-color);\n",
              "  }\n",
              "\n",
              "  .colab-df-quickchart-complete:disabled,\n",
              "  .colab-df-quickchart-complete:disabled:hover {\n",
              "    background-color: var(--disabled-bg-color);\n",
              "    fill: var(--disabled-fill-color);\n",
              "    box-shadow: none;\n",
              "  }\n",
              "\n",
              "  .colab-df-spinner {\n",
              "    border: 2px solid var(--fill-color);\n",
              "    border-color: transparent;\n",
              "    border-bottom-color: var(--fill-color);\n",
              "    animation:\n",
              "      spin 1s steps(1) infinite;\n",
              "  }\n",
              "\n",
              "  @keyframes spin {\n",
              "    0% {\n",
              "      border-color: transparent;\n",
              "      border-bottom-color: var(--fill-color);\n",
              "      border-left-color: var(--fill-color);\n",
              "    }\n",
              "    20% {\n",
              "      border-color: transparent;\n",
              "      border-left-color: var(--fill-color);\n",
              "      border-top-color: var(--fill-color);\n",
              "    }\n",
              "    30% {\n",
              "      border-color: transparent;\n",
              "      border-left-color: var(--fill-color);\n",
              "      border-top-color: var(--fill-color);\n",
              "      border-right-color: var(--fill-color);\n",
              "    }\n",
              "    40% {\n",
              "      border-color: transparent;\n",
              "      border-right-color: var(--fill-color);\n",
              "      border-top-color: var(--fill-color);\n",
              "    }\n",
              "    60% {\n",
              "      border-color: transparent;\n",
              "      border-right-color: var(--fill-color);\n",
              "    }\n",
              "    80% {\n",
              "      border-color: transparent;\n",
              "      border-right-color: var(--fill-color);\n",
              "      border-bottom-color: var(--fill-color);\n",
              "    }\n",
              "    90% {\n",
              "      border-color: transparent;\n",
              "      border-bottom-color: var(--fill-color);\n",
              "    }\n",
              "  }\n",
              "</style>\n",
              "\n",
              "      <script>\n",
              "        async function quickchart(key) {\n",
              "          const quickchartButtonEl =\n",
              "            document.querySelector('#' + key + ' button');\n",
              "          quickchartButtonEl.disabled = true;  // To prevent multiple clicks.\n",
              "          quickchartButtonEl.classList.add('colab-df-spinner');\n",
              "          try {\n",
              "            const charts = await google.colab.kernel.invokeFunction(\n",
              "                'suggestCharts', [key], {});\n",
              "          } catch (error) {\n",
              "            console.error('Error during call to suggestCharts:', error);\n",
              "          }\n",
              "          quickchartButtonEl.classList.remove('colab-df-spinner');\n",
              "          quickchartButtonEl.classList.add('colab-df-quickchart-complete');\n",
              "        }\n",
              "        (() => {\n",
              "          let quickchartButtonEl =\n",
              "            document.querySelector('#df-a84a92d5-1ca7-4df7-af1f-007219279392 button');\n",
              "          quickchartButtonEl.style.display =\n",
              "            google.colab.kernel.accessAllowed ? 'block' : 'none';\n",
              "        })();\n",
              "      </script>\n",
              "    </div>\n",
              "\n",
              "    </div>\n",
              "  </div>\n"
            ],
            "application/vnd.google.colaboratory.intrinsic+json": {
              "type": "dataframe",
              "variable_name": "inp0",
              "summary": "{\n  \"name\": \"inp0\",\n  \"rows\": 10841,\n  \"fields\": [\n    {\n      \"column\": \"App\",\n      \"properties\": {\n        \"dtype\": \"string\",\n        \"num_unique_values\": 9660,\n        \"samples\": [\n          \"Run R Script - Online Statistical Data Analysis\",\n          \"EURES - Your Job in Europe\",\n          \"Dog Licks Screen Wallpaper\"\n        ],\n        \"semantic_type\": \"\",\n        \"description\": \"\"\n      }\n    },\n    {\n      \"column\": \"Category\",\n      \"properties\": {\n        \"dtype\": \"category\",\n        \"num_unique_values\": 34,\n        \"samples\": [\n          \"LIBRARIES_AND_DEMO\",\n          \"MEDICAL\",\n          \"PRODUCTIVITY\"\n        ],\n        \"semantic_type\": \"\",\n        \"description\": \"\"\n      }\n    },\n    {\n      \"column\": \"Rating\",\n      \"properties\": {\n        \"dtype\": \"number\",\n        \"std\": 0.5374313031477594,\n        \"min\": 1.0,\n        \"max\": 19.0,\n        \"num_unique_values\": 40,\n        \"samples\": [\n          5.0,\n          3.4,\n          3.3\n        ],\n        \"semantic_type\": \"\",\n        \"description\": \"\"\n      }\n    },\n    {\n      \"column\": \"Reviews\",\n      \"properties\": {\n        \"dtype\": \"string\",\n        \"num_unique_values\": 6002,\n        \"samples\": [\n          \"66661\",\n          \"7479\",\n          \"8978\"\n        ],\n        \"semantic_type\": \"\",\n        \"description\": \"\"\n      }\n    },\n    {\n      \"column\": \"Size\",\n      \"properties\": {\n        \"dtype\": \"number\",\n        \"std\": 20746.537567068244,\n        \"min\": 8.5,\n        \"max\": 100000.0,\n        \"num_unique_values\": 460,\n        \"samples\": [\n          45000.0,\n          9400.0,\n          975.0\n        ],\n        \"semantic_type\": \"\",\n        \"description\": \"\"\n      }\n    },\n    {\n      \"column\": \"Installs\",\n      \"properties\": {\n        \"dtype\": \"category\",\n        \"num_unique_values\": 22,\n        \"samples\": [\n          \"10,000+\",\n          \"50+\",\n          \"5,000+\"\n        ],\n        \"semantic_type\": \"\",\n        \"description\": \"\"\n      }\n    },\n    {\n      \"column\": \"Type\",\n      \"properties\": {\n        \"dtype\": \"category\",\n        \"num_unique_values\": 3,\n        \"samples\": [\n          \"Free\",\n          \"Paid\",\n          \"0\"\n        ],\n        \"semantic_type\": \"\",\n        \"description\": \"\"\n      }\n    },\n    {\n      \"column\": \"Price\",\n      \"properties\": {\n        \"dtype\": \"category\",\n        \"num_unique_values\": 93,\n        \"samples\": [\n          \"$17.99\",\n          \"$29.99\",\n          \"$37.99\"\n        ],\n        \"semantic_type\": \"\",\n        \"description\": \"\"\n      }\n    },\n    {\n      \"column\": \"Content Rating\",\n      \"properties\": {\n        \"dtype\": \"category\",\n        \"num_unique_values\": 6,\n        \"samples\": [\n          \"Everyone\",\n          \"Teen\",\n          \"Unrated\"\n        ],\n        \"semantic_type\": \"\",\n        \"description\": \"\"\n      }\n    },\n    {\n      \"column\": \"Genres\",\n      \"properties\": {\n        \"dtype\": \"category\",\n        \"num_unique_values\": 120,\n        \"samples\": [\n          \"Casual;Action & Adventure\",\n          \"Board\",\n          \"Auto & Vehicles\"\n        ],\n        \"semantic_type\": \"\",\n        \"description\": \"\"\n      }\n    },\n    {\n      \"column\": \"Last Updated\",\n      \"properties\": {\n        \"dtype\": \"category\",\n        \"num_unique_values\": 1378,\n        \"samples\": [\n          \"March 15, 2016\",\n          \"May 14, 2013\",\n          \"October 21, 2015\"\n        ],\n        \"semantic_type\": \"\",\n        \"description\": \"\"\n      }\n    },\n    {\n      \"column\": \"Current Ver\",\n      \"properties\": {\n        \"dtype\": \"category\",\n        \"num_unique_values\": 2832,\n        \"samples\": [\n          \"7.0.4.17908\",\n          \"1.2.5.4-11\",\n          \"2.5.7.1\"\n        ],\n        \"semantic_type\": \"\",\n        \"description\": \"\"\n      }\n    },\n    {\n      \"column\": \"Android Ver\",\n      \"properties\": {\n        \"dtype\": \"category\",\n        \"num_unique_values\": 33,\n        \"samples\": [\n          \"2.2 - 7.1.1\",\n          \"7.0 and up\",\n          \"3.1 and up\"\n        ],\n        \"semantic_type\": \"\",\n        \"description\": \"\"\n      }\n    }\n  ]\n}"
            }
          },
          "metadata": {},
          "execution_count": 83
        }
      ],
      "source": [
        "#read the dataset and check the first five rows\n",
        "inp0 = pd.read_csv(fileloc)\n",
        "inp0.head()\n"
      ]
    },
    {
      "cell_type": "code",
      "execution_count": 84,
      "metadata": {
        "colab": {
          "base_uri": "https://localhost:8080/"
        },
        "id": "mPJhRNJWB2W_",
        "outputId": "0f64b070-951a-442e-8064-0098233acccd"
      },
      "outputs": [
        {
          "output_type": "execute_result",
          "data": {
            "text/plain": [
              "(10841, 13)"
            ]
          },
          "metadata": {},
          "execution_count": 84
        }
      ],
      "source": [
        "#Check the shape of the dataframe\n",
        "inp0.shape\n"
      ]
    },
    {
      "cell_type": "markdown",
      "metadata": {
        "id": "tlBg5NIUB2W_"
      },
      "source": [
        "### Data Handling and Cleaning"
      ]
    },
    {
      "cell_type": "markdown",
      "metadata": {
        "id": "jxM9I0VwB2W_"
      },
      "source": [
        "The first few steps involve making sure that there are no __missing values__ or __incorrect data types__ before we proceed to the analysis stage. These aforementioned problems are handled as follows:\n",
        "\n",
        " - For Missing Values: Some common techniques to treat this issue are\n",
        "    - Dropping the rows containing the missing values\n",
        "    - Imputing the missing values\n",
        "    - Keep the missing values if they don't affect the analysis\n",
        "\n",
        "    \n",
        " - Incorrect Data Types:\n",
        "    - Clean certain values\n",
        "    - Clean and convert an entire column\n"
      ]
    },
    {
      "cell_type": "code",
      "execution_count": 85,
      "metadata": {
        "colab": {
          "base_uri": "https://localhost:8080/",
          "height": 492
        },
        "id": "cP3QJHzQB2W_",
        "outputId": "d1efcf21-8160-45e2-d770-073f3685f554"
      },
      "outputs": [
        {
          "output_type": "execute_result",
          "data": {
            "text/plain": [
              "App                object\n",
              "Category           object\n",
              "Rating            float64\n",
              "Reviews            object\n",
              "Size              float64\n",
              "Installs           object\n",
              "Type               object\n",
              "Price              object\n",
              "Content Rating     object\n",
              "Genres             object\n",
              "Last Updated       object\n",
              "Current Ver        object\n",
              "Android Ver        object\n",
              "dtype: object"
            ],
            "text/html": [
              "<div>\n",
              "<style scoped>\n",
              "    .dataframe tbody tr th:only-of-type {\n",
              "        vertical-align: middle;\n",
              "    }\n",
              "\n",
              "    .dataframe tbody tr th {\n",
              "        vertical-align: top;\n",
              "    }\n",
              "\n",
              "    .dataframe thead th {\n",
              "        text-align: right;\n",
              "    }\n",
              "</style>\n",
              "<table border=\"1\" class=\"dataframe\">\n",
              "  <thead>\n",
              "    <tr style=\"text-align: right;\">\n",
              "      <th></th>\n",
              "      <th>0</th>\n",
              "    </tr>\n",
              "  </thead>\n",
              "  <tbody>\n",
              "    <tr>\n",
              "      <th>App</th>\n",
              "      <td>object</td>\n",
              "    </tr>\n",
              "    <tr>\n",
              "      <th>Category</th>\n",
              "      <td>object</td>\n",
              "    </tr>\n",
              "    <tr>\n",
              "      <th>Rating</th>\n",
              "      <td>float64</td>\n",
              "    </tr>\n",
              "    <tr>\n",
              "      <th>Reviews</th>\n",
              "      <td>object</td>\n",
              "    </tr>\n",
              "    <tr>\n",
              "      <th>Size</th>\n",
              "      <td>float64</td>\n",
              "    </tr>\n",
              "    <tr>\n",
              "      <th>Installs</th>\n",
              "      <td>object</td>\n",
              "    </tr>\n",
              "    <tr>\n",
              "      <th>Type</th>\n",
              "      <td>object</td>\n",
              "    </tr>\n",
              "    <tr>\n",
              "      <th>Price</th>\n",
              "      <td>object</td>\n",
              "    </tr>\n",
              "    <tr>\n",
              "      <th>Content Rating</th>\n",
              "      <td>object</td>\n",
              "    </tr>\n",
              "    <tr>\n",
              "      <th>Genres</th>\n",
              "      <td>object</td>\n",
              "    </tr>\n",
              "    <tr>\n",
              "      <th>Last Updated</th>\n",
              "      <td>object</td>\n",
              "    </tr>\n",
              "    <tr>\n",
              "      <th>Current Ver</th>\n",
              "      <td>object</td>\n",
              "    </tr>\n",
              "    <tr>\n",
              "      <th>Android Ver</th>\n",
              "      <td>object</td>\n",
              "    </tr>\n",
              "  </tbody>\n",
              "</table>\n",
              "</div><br><label><b>dtype:</b> object</label>"
            ]
          },
          "metadata": {},
          "execution_count": 85
        }
      ],
      "source": [
        "#Check the datatypes of all the columns of the dataframe\n",
        "inp0.dtypes"
      ]
    },
    {
      "cell_type": "markdown",
      "metadata": {
        "id": "bY9ImAWDB2W_"
      },
      "source": [
        "#### Missing Value Treatment"
      ]
    },
    {
      "cell_type": "code",
      "execution_count": 86,
      "metadata": {
        "colab": {
          "base_uri": "https://localhost:8080/",
          "height": 492
        },
        "id": "PK3e80UxB2W_",
        "outputId": "3bc4db36-9c91-4a71-9462-ea480e4971b5"
      },
      "outputs": [
        {
          "output_type": "execute_result",
          "data": {
            "text/plain": [
              "App                  0\n",
              "Category             0\n",
              "Rating            1474\n",
              "Reviews              0\n",
              "Size                 0\n",
              "Installs             0\n",
              "Type                 1\n",
              "Price                0\n",
              "Content Rating       1\n",
              "Genres               0\n",
              "Last Updated         0\n",
              "Current Ver          8\n",
              "Android Ver          3\n",
              "dtype: int64"
            ],
            "text/html": [
              "<div>\n",
              "<style scoped>\n",
              "    .dataframe tbody tr th:only-of-type {\n",
              "        vertical-align: middle;\n",
              "    }\n",
              "\n",
              "    .dataframe tbody tr th {\n",
              "        vertical-align: top;\n",
              "    }\n",
              "\n",
              "    .dataframe thead th {\n",
              "        text-align: right;\n",
              "    }\n",
              "</style>\n",
              "<table border=\"1\" class=\"dataframe\">\n",
              "  <thead>\n",
              "    <tr style=\"text-align: right;\">\n",
              "      <th></th>\n",
              "      <th>0</th>\n",
              "    </tr>\n",
              "  </thead>\n",
              "  <tbody>\n",
              "    <tr>\n",
              "      <th>App</th>\n",
              "      <td>0</td>\n",
              "    </tr>\n",
              "    <tr>\n",
              "      <th>Category</th>\n",
              "      <td>0</td>\n",
              "    </tr>\n",
              "    <tr>\n",
              "      <th>Rating</th>\n",
              "      <td>1474</td>\n",
              "    </tr>\n",
              "    <tr>\n",
              "      <th>Reviews</th>\n",
              "      <td>0</td>\n",
              "    </tr>\n",
              "    <tr>\n",
              "      <th>Size</th>\n",
              "      <td>0</td>\n",
              "    </tr>\n",
              "    <tr>\n",
              "      <th>Installs</th>\n",
              "      <td>0</td>\n",
              "    </tr>\n",
              "    <tr>\n",
              "      <th>Type</th>\n",
              "      <td>1</td>\n",
              "    </tr>\n",
              "    <tr>\n",
              "      <th>Price</th>\n",
              "      <td>0</td>\n",
              "    </tr>\n",
              "    <tr>\n",
              "      <th>Content Rating</th>\n",
              "      <td>1</td>\n",
              "    </tr>\n",
              "    <tr>\n",
              "      <th>Genres</th>\n",
              "      <td>0</td>\n",
              "    </tr>\n",
              "    <tr>\n",
              "      <th>Last Updated</th>\n",
              "      <td>0</td>\n",
              "    </tr>\n",
              "    <tr>\n",
              "      <th>Current Ver</th>\n",
              "      <td>8</td>\n",
              "    </tr>\n",
              "    <tr>\n",
              "      <th>Android Ver</th>\n",
              "      <td>3</td>\n",
              "    </tr>\n",
              "  </tbody>\n",
              "</table>\n",
              "</div><br><label><b>dtype:</b> int64</label>"
            ]
          },
          "metadata": {},
          "execution_count": 86
        }
      ],
      "source": [
        "#Check the number of null values in the columns\n",
        "inp0.isnull().sum()\n"
      ]
    },
    {
      "cell_type": "markdown",
      "metadata": {
        "id": "2-nMMCMZB2W_"
      },
      "source": [
        "Handling missing values for rating\n",
        " - Ratings is the target variable\n",
        " - drop the records"
      ]
    },
    {
      "cell_type": "code",
      "execution_count": 87,
      "metadata": {
        "colab": {
          "base_uri": "https://localhost:8080/"
        },
        "id": "Xvr0QV6NB2XA",
        "outputId": "2d933268-55fc-42b0-b90e-111cf0fdf8bb"
      },
      "outputs": [
        {
          "output_type": "execute_result",
          "data": {
            "text/plain": [
              "(9367, 13)"
            ]
          },
          "metadata": {},
          "execution_count": 87
        }
      ],
      "source": [
        "#Drop the rows having null values in the Rating field\n",
        "inp1 =inp0[~inp0.Rating.isnull()]\n",
        "\n",
        "#Check the shape of the dataframe\n",
        "inp1.shape\n"
      ]
    },
    {
      "cell_type": "code",
      "execution_count": 88,
      "metadata": {
        "colab": {
          "base_uri": "https://localhost:8080/",
          "height": 492
        },
        "id": "ZaMI7hJoB2XA",
        "outputId": "53cfa762-b9ec-4af6-a2d4-88cae00cceeb"
      },
      "outputs": [
        {
          "output_type": "execute_result",
          "data": {
            "text/plain": [
              "App               0\n",
              "Category          0\n",
              "Rating            0\n",
              "Reviews           0\n",
              "Size              0\n",
              "Installs          0\n",
              "Type              0\n",
              "Price             0\n",
              "Content Rating    1\n",
              "Genres            0\n",
              "Last Updated      0\n",
              "Current Ver       4\n",
              "Android Ver       3\n",
              "dtype: int64"
            ],
            "text/html": [
              "<div>\n",
              "<style scoped>\n",
              "    .dataframe tbody tr th:only-of-type {\n",
              "        vertical-align: middle;\n",
              "    }\n",
              "\n",
              "    .dataframe tbody tr th {\n",
              "        vertical-align: top;\n",
              "    }\n",
              "\n",
              "    .dataframe thead th {\n",
              "        text-align: right;\n",
              "    }\n",
              "</style>\n",
              "<table border=\"1\" class=\"dataframe\">\n",
              "  <thead>\n",
              "    <tr style=\"text-align: right;\">\n",
              "      <th></th>\n",
              "      <th>0</th>\n",
              "    </tr>\n",
              "  </thead>\n",
              "  <tbody>\n",
              "    <tr>\n",
              "      <th>App</th>\n",
              "      <td>0</td>\n",
              "    </tr>\n",
              "    <tr>\n",
              "      <th>Category</th>\n",
              "      <td>0</td>\n",
              "    </tr>\n",
              "    <tr>\n",
              "      <th>Rating</th>\n",
              "      <td>0</td>\n",
              "    </tr>\n",
              "    <tr>\n",
              "      <th>Reviews</th>\n",
              "      <td>0</td>\n",
              "    </tr>\n",
              "    <tr>\n",
              "      <th>Size</th>\n",
              "      <td>0</td>\n",
              "    </tr>\n",
              "    <tr>\n",
              "      <th>Installs</th>\n",
              "      <td>0</td>\n",
              "    </tr>\n",
              "    <tr>\n",
              "      <th>Type</th>\n",
              "      <td>0</td>\n",
              "    </tr>\n",
              "    <tr>\n",
              "      <th>Price</th>\n",
              "      <td>0</td>\n",
              "    </tr>\n",
              "    <tr>\n",
              "      <th>Content Rating</th>\n",
              "      <td>1</td>\n",
              "    </tr>\n",
              "    <tr>\n",
              "      <th>Genres</th>\n",
              "      <td>0</td>\n",
              "    </tr>\n",
              "    <tr>\n",
              "      <th>Last Updated</th>\n",
              "      <td>0</td>\n",
              "    </tr>\n",
              "    <tr>\n",
              "      <th>Current Ver</th>\n",
              "      <td>4</td>\n",
              "    </tr>\n",
              "    <tr>\n",
              "      <th>Android Ver</th>\n",
              "      <td>3</td>\n",
              "    </tr>\n",
              "  </tbody>\n",
              "</table>\n",
              "</div><br><label><b>dtype:</b> int64</label>"
            ]
          },
          "metadata": {},
          "execution_count": 88
        }
      ],
      "source": [
        "# Check the number of nulls in the Rating field again to cross-verify\n",
        "inp1.isnull().sum()"
      ]
    },
    {
      "cell_type": "code",
      "execution_count": 89,
      "metadata": {
        "colab": {
          "base_uri": "https://localhost:8080/"
        },
        "id": "W_8hSLU8B2XA",
        "outputId": "6ecabd6b-71ed-4f71-8f2a-6c1c8ed0813f"
      },
      "outputs": [
        {
          "output_type": "execute_result",
          "data": {
            "text/plain": [
              "np.int64(8)"
            ]
          },
          "metadata": {},
          "execution_count": 89
        }
      ],
      "source": [
        "#Question\n",
        "#Check the number of nulls in the dataframe again and find the total number of null values\n",
        "inp1.isnull().sum().sum()\n"
      ]
    },
    {
      "cell_type": "code",
      "execution_count": 90,
      "metadata": {
        "colab": {
          "base_uri": "https://localhost:8080/",
          "height": 143
        },
        "id": "52_eADaEB2XA",
        "outputId": "053d76d6-9f72-4550-9323-52d2dda12fbf"
      },
      "outputs": [
        {
          "output_type": "execute_result",
          "data": {
            "text/plain": [
              "                                           App         Category  Rating  \\\n",
              "4453                    [substratum] Vacuum: P  PERSONALIZATION     4.4   \n",
              "4490                      Pi Dark [substratum]  PERSONALIZATION     4.5   \n",
              "10472  Life Made WI-Fi Touchscreen Photo Frame              1.9    19.0   \n",
              "\n",
              "      Reviews          Size Installs  Type     Price Content Rating  \\\n",
              "4453      230  11000.000000   1,000+  Paid     $1.49       Everyone   \n",
              "4490      189   2100.000000  10,000+  Free         0       Everyone   \n",
              "10472    3.0M  21516.529524     Free     0  Everyone            NaN   \n",
              "\n",
              "                  Genres    Last Updated Current Ver Android Ver  \n",
              "4453     Personalization   July 20, 2018         4.4         NaN  \n",
              "4490     Personalization  March 27, 2018         1.1         NaN  \n",
              "10472  February 11, 2018          1.0.19  4.0 and up         NaN  "
            ],
            "text/html": [
              "\n",
              "  <div id=\"df-0ef39ff4-f572-41e3-8396-36ec3fa2ec4e\" class=\"colab-df-container\">\n",
              "    <div>\n",
              "<style scoped>\n",
              "    .dataframe tbody tr th:only-of-type {\n",
              "        vertical-align: middle;\n",
              "    }\n",
              "\n",
              "    .dataframe tbody tr th {\n",
              "        vertical-align: top;\n",
              "    }\n",
              "\n",
              "    .dataframe thead th {\n",
              "        text-align: right;\n",
              "    }\n",
              "</style>\n",
              "<table border=\"1\" class=\"dataframe\">\n",
              "  <thead>\n",
              "    <tr style=\"text-align: right;\">\n",
              "      <th></th>\n",
              "      <th>App</th>\n",
              "      <th>Category</th>\n",
              "      <th>Rating</th>\n",
              "      <th>Reviews</th>\n",
              "      <th>Size</th>\n",
              "      <th>Installs</th>\n",
              "      <th>Type</th>\n",
              "      <th>Price</th>\n",
              "      <th>Content Rating</th>\n",
              "      <th>Genres</th>\n",
              "      <th>Last Updated</th>\n",
              "      <th>Current Ver</th>\n",
              "      <th>Android Ver</th>\n",
              "    </tr>\n",
              "  </thead>\n",
              "  <tbody>\n",
              "    <tr>\n",
              "      <th>4453</th>\n",
              "      <td>[substratum] Vacuum: P</td>\n",
              "      <td>PERSONALIZATION</td>\n",
              "      <td>4.4</td>\n",
              "      <td>230</td>\n",
              "      <td>11000.000000</td>\n",
              "      <td>1,000+</td>\n",
              "      <td>Paid</td>\n",
              "      <td>$1.49</td>\n",
              "      <td>Everyone</td>\n",
              "      <td>Personalization</td>\n",
              "      <td>July 20, 2018</td>\n",
              "      <td>4.4</td>\n",
              "      <td>NaN</td>\n",
              "    </tr>\n",
              "    <tr>\n",
              "      <th>4490</th>\n",
              "      <td>Pi Dark [substratum]</td>\n",
              "      <td>PERSONALIZATION</td>\n",
              "      <td>4.5</td>\n",
              "      <td>189</td>\n",
              "      <td>2100.000000</td>\n",
              "      <td>10,000+</td>\n",
              "      <td>Free</td>\n",
              "      <td>0</td>\n",
              "      <td>Everyone</td>\n",
              "      <td>Personalization</td>\n",
              "      <td>March 27, 2018</td>\n",
              "      <td>1.1</td>\n",
              "      <td>NaN</td>\n",
              "    </tr>\n",
              "    <tr>\n",
              "      <th>10472</th>\n",
              "      <td>Life Made WI-Fi Touchscreen Photo Frame</td>\n",
              "      <td>1.9</td>\n",
              "      <td>19.0</td>\n",
              "      <td>3.0M</td>\n",
              "      <td>21516.529524</td>\n",
              "      <td>Free</td>\n",
              "      <td>0</td>\n",
              "      <td>Everyone</td>\n",
              "      <td>NaN</td>\n",
              "      <td>February 11, 2018</td>\n",
              "      <td>1.0.19</td>\n",
              "      <td>4.0 and up</td>\n",
              "      <td>NaN</td>\n",
              "    </tr>\n",
              "  </tbody>\n",
              "</table>\n",
              "</div>\n",
              "    <div class=\"colab-df-buttons\">\n",
              "\n",
              "  <div class=\"colab-df-container\">\n",
              "    <button class=\"colab-df-convert\" onclick=\"convertToInteractive('df-0ef39ff4-f572-41e3-8396-36ec3fa2ec4e')\"\n",
              "            title=\"Convert this dataframe to an interactive table.\"\n",
              "            style=\"display:none;\">\n",
              "\n",
              "  <svg xmlns=\"http://www.w3.org/2000/svg\" height=\"24px\" viewBox=\"0 -960 960 960\">\n",
              "    <path d=\"M120-120v-720h720v720H120Zm60-500h600v-160H180v160Zm220 220h160v-160H400v160Zm0 220h160v-160H400v160ZM180-400h160v-160H180v160Zm440 0h160v-160H620v160ZM180-180h160v-160H180v160Zm440 0h160v-160H620v160Z\"/>\n",
              "  </svg>\n",
              "    </button>\n",
              "\n",
              "  <style>\n",
              "    .colab-df-container {\n",
              "      display:flex;\n",
              "      gap: 12px;\n",
              "    }\n",
              "\n",
              "    .colab-df-convert {\n",
              "      background-color: #E8F0FE;\n",
              "      border: none;\n",
              "      border-radius: 50%;\n",
              "      cursor: pointer;\n",
              "      display: none;\n",
              "      fill: #1967D2;\n",
              "      height: 32px;\n",
              "      padding: 0 0 0 0;\n",
              "      width: 32px;\n",
              "    }\n",
              "\n",
              "    .colab-df-convert:hover {\n",
              "      background-color: #E2EBFA;\n",
              "      box-shadow: 0px 1px 2px rgba(60, 64, 67, 0.3), 0px 1px 3px 1px rgba(60, 64, 67, 0.15);\n",
              "      fill: #174EA6;\n",
              "    }\n",
              "\n",
              "    .colab-df-buttons div {\n",
              "      margin-bottom: 4px;\n",
              "    }\n",
              "\n",
              "    [theme=dark] .colab-df-convert {\n",
              "      background-color: #3B4455;\n",
              "      fill: #D2E3FC;\n",
              "    }\n",
              "\n",
              "    [theme=dark] .colab-df-convert:hover {\n",
              "      background-color: #434B5C;\n",
              "      box-shadow: 0px 1px 3px 1px rgba(0, 0, 0, 0.15);\n",
              "      filter: drop-shadow(0px 1px 2px rgba(0, 0, 0, 0.3));\n",
              "      fill: #FFFFFF;\n",
              "    }\n",
              "  </style>\n",
              "\n",
              "    <script>\n",
              "      const buttonEl =\n",
              "        document.querySelector('#df-0ef39ff4-f572-41e3-8396-36ec3fa2ec4e button.colab-df-convert');\n",
              "      buttonEl.style.display =\n",
              "        google.colab.kernel.accessAllowed ? 'block' : 'none';\n",
              "\n",
              "      async function convertToInteractive(key) {\n",
              "        const element = document.querySelector('#df-0ef39ff4-f572-41e3-8396-36ec3fa2ec4e');\n",
              "        const dataTable =\n",
              "          await google.colab.kernel.invokeFunction('convertToInteractive',\n",
              "                                                    [key], {});\n",
              "        if (!dataTable) return;\n",
              "\n",
              "        const docLinkHtml = 'Like what you see? Visit the ' +\n",
              "          '<a target=\"_blank\" href=https://colab.research.google.com/notebooks/data_table.ipynb>data table notebook</a>'\n",
              "          + ' to learn more about interactive tables.';\n",
              "        element.innerHTML = '';\n",
              "        dataTable['output_type'] = 'display_data';\n",
              "        await google.colab.output.renderOutput(dataTable, element);\n",
              "        const docLink = document.createElement('div');\n",
              "        docLink.innerHTML = docLinkHtml;\n",
              "        element.appendChild(docLink);\n",
              "      }\n",
              "    </script>\n",
              "  </div>\n",
              "\n",
              "\n",
              "    <div id=\"df-d1b121a1-022d-4db4-b8c0-e758ce7f2a49\">\n",
              "      <button class=\"colab-df-quickchart\" onclick=\"quickchart('df-d1b121a1-022d-4db4-b8c0-e758ce7f2a49')\"\n",
              "                title=\"Suggest charts\"\n",
              "                style=\"display:none;\">\n",
              "\n",
              "<svg xmlns=\"http://www.w3.org/2000/svg\" height=\"24px\"viewBox=\"0 0 24 24\"\n",
              "     width=\"24px\">\n",
              "    <g>\n",
              "        <path d=\"M19 3H5c-1.1 0-2 .9-2 2v14c0 1.1.9 2 2 2h14c1.1 0 2-.9 2-2V5c0-1.1-.9-2-2-2zM9 17H7v-7h2v7zm4 0h-2V7h2v10zm4 0h-2v-4h2v4z\"/>\n",
              "    </g>\n",
              "</svg>\n",
              "      </button>\n",
              "\n",
              "<style>\n",
              "  .colab-df-quickchart {\n",
              "      --bg-color: #E8F0FE;\n",
              "      --fill-color: #1967D2;\n",
              "      --hover-bg-color: #E2EBFA;\n",
              "      --hover-fill-color: #174EA6;\n",
              "      --disabled-fill-color: #AAA;\n",
              "      --disabled-bg-color: #DDD;\n",
              "  }\n",
              "\n",
              "  [theme=dark] .colab-df-quickchart {\n",
              "      --bg-color: #3B4455;\n",
              "      --fill-color: #D2E3FC;\n",
              "      --hover-bg-color: #434B5C;\n",
              "      --hover-fill-color: #FFFFFF;\n",
              "      --disabled-bg-color: #3B4455;\n",
              "      --disabled-fill-color: #666;\n",
              "  }\n",
              "\n",
              "  .colab-df-quickchart {\n",
              "    background-color: var(--bg-color);\n",
              "    border: none;\n",
              "    border-radius: 50%;\n",
              "    cursor: pointer;\n",
              "    display: none;\n",
              "    fill: var(--fill-color);\n",
              "    height: 32px;\n",
              "    padding: 0;\n",
              "    width: 32px;\n",
              "  }\n",
              "\n",
              "  .colab-df-quickchart:hover {\n",
              "    background-color: var(--hover-bg-color);\n",
              "    box-shadow: 0 1px 2px rgba(60, 64, 67, 0.3), 0 1px 3px 1px rgba(60, 64, 67, 0.15);\n",
              "    fill: var(--button-hover-fill-color);\n",
              "  }\n",
              "\n",
              "  .colab-df-quickchart-complete:disabled,\n",
              "  .colab-df-quickchart-complete:disabled:hover {\n",
              "    background-color: var(--disabled-bg-color);\n",
              "    fill: var(--disabled-fill-color);\n",
              "    box-shadow: none;\n",
              "  }\n",
              "\n",
              "  .colab-df-spinner {\n",
              "    border: 2px solid var(--fill-color);\n",
              "    border-color: transparent;\n",
              "    border-bottom-color: var(--fill-color);\n",
              "    animation:\n",
              "      spin 1s steps(1) infinite;\n",
              "  }\n",
              "\n",
              "  @keyframes spin {\n",
              "    0% {\n",
              "      border-color: transparent;\n",
              "      border-bottom-color: var(--fill-color);\n",
              "      border-left-color: var(--fill-color);\n",
              "    }\n",
              "    20% {\n",
              "      border-color: transparent;\n",
              "      border-left-color: var(--fill-color);\n",
              "      border-top-color: var(--fill-color);\n",
              "    }\n",
              "    30% {\n",
              "      border-color: transparent;\n",
              "      border-left-color: var(--fill-color);\n",
              "      border-top-color: var(--fill-color);\n",
              "      border-right-color: var(--fill-color);\n",
              "    }\n",
              "    40% {\n",
              "      border-color: transparent;\n",
              "      border-right-color: var(--fill-color);\n",
              "      border-top-color: var(--fill-color);\n",
              "    }\n",
              "    60% {\n",
              "      border-color: transparent;\n",
              "      border-right-color: var(--fill-color);\n",
              "    }\n",
              "    80% {\n",
              "      border-color: transparent;\n",
              "      border-right-color: var(--fill-color);\n",
              "      border-bottom-color: var(--fill-color);\n",
              "    }\n",
              "    90% {\n",
              "      border-color: transparent;\n",
              "      border-bottom-color: var(--fill-color);\n",
              "    }\n",
              "  }\n",
              "</style>\n",
              "\n",
              "      <script>\n",
              "        async function quickchart(key) {\n",
              "          const quickchartButtonEl =\n",
              "            document.querySelector('#' + key + ' button');\n",
              "          quickchartButtonEl.disabled = true;  // To prevent multiple clicks.\n",
              "          quickchartButtonEl.classList.add('colab-df-spinner');\n",
              "          try {\n",
              "            const charts = await google.colab.kernel.invokeFunction(\n",
              "                'suggestCharts', [key], {});\n",
              "          } catch (error) {\n",
              "            console.error('Error during call to suggestCharts:', error);\n",
              "          }\n",
              "          quickchartButtonEl.classList.remove('colab-df-spinner');\n",
              "          quickchartButtonEl.classList.add('colab-df-quickchart-complete');\n",
              "        }\n",
              "        (() => {\n",
              "          let quickchartButtonEl =\n",
              "            document.querySelector('#df-d1b121a1-022d-4db4-b8c0-e758ce7f2a49 button');\n",
              "          quickchartButtonEl.style.display =\n",
              "            google.colab.kernel.accessAllowed ? 'block' : 'none';\n",
              "        })();\n",
              "      </script>\n",
              "    </div>\n",
              "\n",
              "    </div>\n",
              "  </div>\n"
            ],
            "application/vnd.google.colaboratory.intrinsic+json": {
              "type": "dataframe",
              "repr_error": "0"
            }
          },
          "metadata": {},
          "execution_count": 90
        }
      ],
      "source": [
        "#Inspect the nulls in the Android Version column\n",
        "inp1[inp1['Android Ver'].isnull()]"
      ]
    },
    {
      "cell_type": "code",
      "execution_count": 91,
      "metadata": {
        "colab": {
          "base_uri": "https://localhost:8080/",
          "height": 112
        },
        "id": "RLdgPjgPB2XA",
        "outputId": "ffc2c455-ffb0-4282-d3ec-7ba4abd96d3b"
      },
      "outputs": [
        {
          "output_type": "execute_result",
          "data": {
            "text/plain": [
              "                         App         Category  Rating Reviews     Size  \\\n",
              "4453  [substratum] Vacuum: P  PERSONALIZATION     4.4     230  11000.0   \n",
              "4490    Pi Dark [substratum]  PERSONALIZATION     4.5     189   2100.0   \n",
              "\n",
              "     Installs  Type  Price Content Rating           Genres    Last Updated  \\\n",
              "4453   1,000+  Paid  $1.49       Everyone  Personalization   July 20, 2018   \n",
              "4490  10,000+  Free      0       Everyone  Personalization  March 27, 2018   \n",
              "\n",
              "     Current Ver Android Ver  \n",
              "4453         4.4         NaN  \n",
              "4490         1.1         NaN  "
            ],
            "text/html": [
              "\n",
              "  <div id=\"df-06280b51-aac8-4065-ad88-82e13c36fc16\" class=\"colab-df-container\">\n",
              "    <div>\n",
              "<style scoped>\n",
              "    .dataframe tbody tr th:only-of-type {\n",
              "        vertical-align: middle;\n",
              "    }\n",
              "\n",
              "    .dataframe tbody tr th {\n",
              "        vertical-align: top;\n",
              "    }\n",
              "\n",
              "    .dataframe thead th {\n",
              "        text-align: right;\n",
              "    }\n",
              "</style>\n",
              "<table border=\"1\" class=\"dataframe\">\n",
              "  <thead>\n",
              "    <tr style=\"text-align: right;\">\n",
              "      <th></th>\n",
              "      <th>App</th>\n",
              "      <th>Category</th>\n",
              "      <th>Rating</th>\n",
              "      <th>Reviews</th>\n",
              "      <th>Size</th>\n",
              "      <th>Installs</th>\n",
              "      <th>Type</th>\n",
              "      <th>Price</th>\n",
              "      <th>Content Rating</th>\n",
              "      <th>Genres</th>\n",
              "      <th>Last Updated</th>\n",
              "      <th>Current Ver</th>\n",
              "      <th>Android Ver</th>\n",
              "    </tr>\n",
              "  </thead>\n",
              "  <tbody>\n",
              "    <tr>\n",
              "      <th>4453</th>\n",
              "      <td>[substratum] Vacuum: P</td>\n",
              "      <td>PERSONALIZATION</td>\n",
              "      <td>4.4</td>\n",
              "      <td>230</td>\n",
              "      <td>11000.0</td>\n",
              "      <td>1,000+</td>\n",
              "      <td>Paid</td>\n",
              "      <td>$1.49</td>\n",
              "      <td>Everyone</td>\n",
              "      <td>Personalization</td>\n",
              "      <td>July 20, 2018</td>\n",
              "      <td>4.4</td>\n",
              "      <td>NaN</td>\n",
              "    </tr>\n",
              "    <tr>\n",
              "      <th>4490</th>\n",
              "      <td>Pi Dark [substratum]</td>\n",
              "      <td>PERSONALIZATION</td>\n",
              "      <td>4.5</td>\n",
              "      <td>189</td>\n",
              "      <td>2100.0</td>\n",
              "      <td>10,000+</td>\n",
              "      <td>Free</td>\n",
              "      <td>0</td>\n",
              "      <td>Everyone</td>\n",
              "      <td>Personalization</td>\n",
              "      <td>March 27, 2018</td>\n",
              "      <td>1.1</td>\n",
              "      <td>NaN</td>\n",
              "    </tr>\n",
              "  </tbody>\n",
              "</table>\n",
              "</div>\n",
              "    <div class=\"colab-df-buttons\">\n",
              "\n",
              "  <div class=\"colab-df-container\">\n",
              "    <button class=\"colab-df-convert\" onclick=\"convertToInteractive('df-06280b51-aac8-4065-ad88-82e13c36fc16')\"\n",
              "            title=\"Convert this dataframe to an interactive table.\"\n",
              "            style=\"display:none;\">\n",
              "\n",
              "  <svg xmlns=\"http://www.w3.org/2000/svg\" height=\"24px\" viewBox=\"0 -960 960 960\">\n",
              "    <path d=\"M120-120v-720h720v720H120Zm60-500h600v-160H180v160Zm220 220h160v-160H400v160Zm0 220h160v-160H400v160ZM180-400h160v-160H180v160Zm440 0h160v-160H620v160ZM180-180h160v-160H180v160Zm440 0h160v-160H620v160Z\"/>\n",
              "  </svg>\n",
              "    </button>\n",
              "\n",
              "  <style>\n",
              "    .colab-df-container {\n",
              "      display:flex;\n",
              "      gap: 12px;\n",
              "    }\n",
              "\n",
              "    .colab-df-convert {\n",
              "      background-color: #E8F0FE;\n",
              "      border: none;\n",
              "      border-radius: 50%;\n",
              "      cursor: pointer;\n",
              "      display: none;\n",
              "      fill: #1967D2;\n",
              "      height: 32px;\n",
              "      padding: 0 0 0 0;\n",
              "      width: 32px;\n",
              "    }\n",
              "\n",
              "    .colab-df-convert:hover {\n",
              "      background-color: #E2EBFA;\n",
              "      box-shadow: 0px 1px 2px rgba(60, 64, 67, 0.3), 0px 1px 3px 1px rgba(60, 64, 67, 0.15);\n",
              "      fill: #174EA6;\n",
              "    }\n",
              "\n",
              "    .colab-df-buttons div {\n",
              "      margin-bottom: 4px;\n",
              "    }\n",
              "\n",
              "    [theme=dark] .colab-df-convert {\n",
              "      background-color: #3B4455;\n",
              "      fill: #D2E3FC;\n",
              "    }\n",
              "\n",
              "    [theme=dark] .colab-df-convert:hover {\n",
              "      background-color: #434B5C;\n",
              "      box-shadow: 0px 1px 3px 1px rgba(0, 0, 0, 0.15);\n",
              "      filter: drop-shadow(0px 1px 2px rgba(0, 0, 0, 0.3));\n",
              "      fill: #FFFFFF;\n",
              "    }\n",
              "  </style>\n",
              "\n",
              "    <script>\n",
              "      const buttonEl =\n",
              "        document.querySelector('#df-06280b51-aac8-4065-ad88-82e13c36fc16 button.colab-df-convert');\n",
              "      buttonEl.style.display =\n",
              "        google.colab.kernel.accessAllowed ? 'block' : 'none';\n",
              "\n",
              "      async function convertToInteractive(key) {\n",
              "        const element = document.querySelector('#df-06280b51-aac8-4065-ad88-82e13c36fc16');\n",
              "        const dataTable =\n",
              "          await google.colab.kernel.invokeFunction('convertToInteractive',\n",
              "                                                    [key], {});\n",
              "        if (!dataTable) return;\n",
              "\n",
              "        const docLinkHtml = 'Like what you see? Visit the ' +\n",
              "          '<a target=\"_blank\" href=https://colab.research.google.com/notebooks/data_table.ipynb>data table notebook</a>'\n",
              "          + ' to learn more about interactive tables.';\n",
              "        element.innerHTML = '';\n",
              "        dataTable['output_type'] = 'display_data';\n",
              "        await google.colab.output.renderOutput(dataTable, element);\n",
              "        const docLink = document.createElement('div');\n",
              "        docLink.innerHTML = docLinkHtml;\n",
              "        element.appendChild(docLink);\n",
              "      }\n",
              "    </script>\n",
              "  </div>\n",
              "\n",
              "\n",
              "    <div id=\"df-a1739ff6-f252-427d-9ce1-9ff1988fc557\">\n",
              "      <button class=\"colab-df-quickchart\" onclick=\"quickchart('df-a1739ff6-f252-427d-9ce1-9ff1988fc557')\"\n",
              "                title=\"Suggest charts\"\n",
              "                style=\"display:none;\">\n",
              "\n",
              "<svg xmlns=\"http://www.w3.org/2000/svg\" height=\"24px\"viewBox=\"0 0 24 24\"\n",
              "     width=\"24px\">\n",
              "    <g>\n",
              "        <path d=\"M19 3H5c-1.1 0-2 .9-2 2v14c0 1.1.9 2 2 2h14c1.1 0 2-.9 2-2V5c0-1.1-.9-2-2-2zM9 17H7v-7h2v7zm4 0h-2V7h2v10zm4 0h-2v-4h2v4z\"/>\n",
              "    </g>\n",
              "</svg>\n",
              "      </button>\n",
              "\n",
              "<style>\n",
              "  .colab-df-quickchart {\n",
              "      --bg-color: #E8F0FE;\n",
              "      --fill-color: #1967D2;\n",
              "      --hover-bg-color: #E2EBFA;\n",
              "      --hover-fill-color: #174EA6;\n",
              "      --disabled-fill-color: #AAA;\n",
              "      --disabled-bg-color: #DDD;\n",
              "  }\n",
              "\n",
              "  [theme=dark] .colab-df-quickchart {\n",
              "      --bg-color: #3B4455;\n",
              "      --fill-color: #D2E3FC;\n",
              "      --hover-bg-color: #434B5C;\n",
              "      --hover-fill-color: #FFFFFF;\n",
              "      --disabled-bg-color: #3B4455;\n",
              "      --disabled-fill-color: #666;\n",
              "  }\n",
              "\n",
              "  .colab-df-quickchart {\n",
              "    background-color: var(--bg-color);\n",
              "    border: none;\n",
              "    border-radius: 50%;\n",
              "    cursor: pointer;\n",
              "    display: none;\n",
              "    fill: var(--fill-color);\n",
              "    height: 32px;\n",
              "    padding: 0;\n",
              "    width: 32px;\n",
              "  }\n",
              "\n",
              "  .colab-df-quickchart:hover {\n",
              "    background-color: var(--hover-bg-color);\n",
              "    box-shadow: 0 1px 2px rgba(60, 64, 67, 0.3), 0 1px 3px 1px rgba(60, 64, 67, 0.15);\n",
              "    fill: var(--button-hover-fill-color);\n",
              "  }\n",
              "\n",
              "  .colab-df-quickchart-complete:disabled,\n",
              "  .colab-df-quickchart-complete:disabled:hover {\n",
              "    background-color: var(--disabled-bg-color);\n",
              "    fill: var(--disabled-fill-color);\n",
              "    box-shadow: none;\n",
              "  }\n",
              "\n",
              "  .colab-df-spinner {\n",
              "    border: 2px solid var(--fill-color);\n",
              "    border-color: transparent;\n",
              "    border-bottom-color: var(--fill-color);\n",
              "    animation:\n",
              "      spin 1s steps(1) infinite;\n",
              "  }\n",
              "\n",
              "  @keyframes spin {\n",
              "    0% {\n",
              "      border-color: transparent;\n",
              "      border-bottom-color: var(--fill-color);\n",
              "      border-left-color: var(--fill-color);\n",
              "    }\n",
              "    20% {\n",
              "      border-color: transparent;\n",
              "      border-left-color: var(--fill-color);\n",
              "      border-top-color: var(--fill-color);\n",
              "    }\n",
              "    30% {\n",
              "      border-color: transparent;\n",
              "      border-left-color: var(--fill-color);\n",
              "      border-top-color: var(--fill-color);\n",
              "      border-right-color: var(--fill-color);\n",
              "    }\n",
              "    40% {\n",
              "      border-color: transparent;\n",
              "      border-right-color: var(--fill-color);\n",
              "      border-top-color: var(--fill-color);\n",
              "    }\n",
              "    60% {\n",
              "      border-color: transparent;\n",
              "      border-right-color: var(--fill-color);\n",
              "    }\n",
              "    80% {\n",
              "      border-color: transparent;\n",
              "      border-right-color: var(--fill-color);\n",
              "      border-bottom-color: var(--fill-color);\n",
              "    }\n",
              "    90% {\n",
              "      border-color: transparent;\n",
              "      border-bottom-color: var(--fill-color);\n",
              "    }\n",
              "  }\n",
              "</style>\n",
              "\n",
              "      <script>\n",
              "        async function quickchart(key) {\n",
              "          const quickchartButtonEl =\n",
              "            document.querySelector('#' + key + ' button');\n",
              "          quickchartButtonEl.disabled = true;  // To prevent multiple clicks.\n",
              "          quickchartButtonEl.classList.add('colab-df-spinner');\n",
              "          try {\n",
              "            const charts = await google.colab.kernel.invokeFunction(\n",
              "                'suggestCharts', [key], {});\n",
              "          } catch (error) {\n",
              "            console.error('Error during call to suggestCharts:', error);\n",
              "          }\n",
              "          quickchartButtonEl.classList.remove('colab-df-spinner');\n",
              "          quickchartButtonEl.classList.add('colab-df-quickchart-complete');\n",
              "        }\n",
              "        (() => {\n",
              "          let quickchartButtonEl =\n",
              "            document.querySelector('#df-a1739ff6-f252-427d-9ce1-9ff1988fc557 button');\n",
              "          quickchartButtonEl.style.display =\n",
              "            google.colab.kernel.accessAllowed ? 'block' : 'none';\n",
              "        })();\n",
              "      </script>\n",
              "    </div>\n",
              "\n",
              "    </div>\n",
              "  </div>\n"
            ],
            "application/vnd.google.colaboratory.intrinsic+json": {
              "type": "dataframe",
              "repr_error": "0"
            }
          },
          "metadata": {},
          "execution_count": 91
        }
      ],
      "source": [
        "#Drop the row having shifted values\n",
        "inp1[(inp1['Android Ver'].isnull()) & (inp1.Category =='1.9')]\n",
        "\n",
        "#Check the nulls againin Android version column to cross-verify\n",
        "inp2 = inp1[~((inp1['Android Ver'].isnull()) & (inp1.Category =='1.9'))]\n",
        "inp2[inp2['Android Ver'].isnull()]"
      ]
    },
    {
      "cell_type": "markdown",
      "metadata": {
        "id": "DkqlaCMgB2XA"
      },
      "source": [
        "Imputing Missing Values\n",
        "\n",
        "- For numerical variables use mean and median\n",
        "- For categorical variables use mode"
      ]
    },
    {
      "cell_type": "code",
      "execution_count": 92,
      "metadata": {
        "colab": {
          "base_uri": "https://localhost:8080/",
          "height": 35
        },
        "id": "KZpUIk7kB2XA",
        "outputId": "8dbeb349-3cb2-45e6-ae22-5ea2a985da07"
      },
      "outputs": [
        {
          "output_type": "execute_result",
          "data": {
            "text/plain": [
              "'4.1 and up'"
            ],
            "application/vnd.google.colaboratory.intrinsic+json": {
              "type": "string"
            }
          },
          "metadata": {},
          "execution_count": 92
        }
      ],
      "source": [
        "#Check the most common value in the Android version column\n",
        "inp2['Android Ver'].value_counts()\n",
        "inp2['Android Ver'].mode()[0]\n"
      ]
    },
    {
      "cell_type": "code",
      "execution_count": 93,
      "metadata": {
        "id": "tTViOHfjB2XA",
        "colab": {
          "base_uri": "https://localhost:8080/"
        },
        "outputId": "fa1ba06f-a0b7-404b-918f-5c64e913bb73"
      },
      "outputs": [
        {
          "output_type": "stream",
          "name": "stderr",
          "text": [
            "/tmp/ipython-input-172924181.py:2: SettingWithCopyWarning: \n",
            "A value is trying to be set on a copy of a slice from a DataFrame.\n",
            "Try using .loc[row_indexer,col_indexer] = value instead\n",
            "\n",
            "See the caveats in the documentation: https://pandas.pydata.org/pandas-docs/stable/user_guide/indexing.html#returning-a-view-versus-a-copy\n",
            "  inp2['Android Ver'] = inp2['Android Ver'].fillna(inp2['Android Ver'].mode()[0])\n"
          ]
        }
      ],
      "source": [
        "#Fill up the nulls in the Android Version column with the above value\n",
        "inp2['Android Ver'] = inp2['Android Ver'].fillna(inp2['Android Ver'].mode()[0])\n"
      ]
    },
    {
      "cell_type": "code",
      "execution_count": 94,
      "metadata": {
        "colab": {
          "base_uri": "https://localhost:8080/",
          "height": 492
        },
        "id": "qrmNNgD4B2XA",
        "outputId": "3a947f62-89c4-4ab4-c8fa-d7a7c94ae85a"
      },
      "outputs": [
        {
          "output_type": "execute_result",
          "data": {
            "text/plain": [
              "App               0\n",
              "Category          0\n",
              "Rating            0\n",
              "Reviews           0\n",
              "Size              0\n",
              "Installs          0\n",
              "Type              0\n",
              "Price             0\n",
              "Content Rating    0\n",
              "Genres            0\n",
              "Last Updated      0\n",
              "Current Ver       4\n",
              "Android Ver       0\n",
              "dtype: int64"
            ],
            "text/html": [
              "<div>\n",
              "<style scoped>\n",
              "    .dataframe tbody tr th:only-of-type {\n",
              "        vertical-align: middle;\n",
              "    }\n",
              "\n",
              "    .dataframe tbody tr th {\n",
              "        vertical-align: top;\n",
              "    }\n",
              "\n",
              "    .dataframe thead th {\n",
              "        text-align: right;\n",
              "    }\n",
              "</style>\n",
              "<table border=\"1\" class=\"dataframe\">\n",
              "  <thead>\n",
              "    <tr style=\"text-align: right;\">\n",
              "      <th></th>\n",
              "      <th>0</th>\n",
              "    </tr>\n",
              "  </thead>\n",
              "  <tbody>\n",
              "    <tr>\n",
              "      <th>App</th>\n",
              "      <td>0</td>\n",
              "    </tr>\n",
              "    <tr>\n",
              "      <th>Category</th>\n",
              "      <td>0</td>\n",
              "    </tr>\n",
              "    <tr>\n",
              "      <th>Rating</th>\n",
              "      <td>0</td>\n",
              "    </tr>\n",
              "    <tr>\n",
              "      <th>Reviews</th>\n",
              "      <td>0</td>\n",
              "    </tr>\n",
              "    <tr>\n",
              "      <th>Size</th>\n",
              "      <td>0</td>\n",
              "    </tr>\n",
              "    <tr>\n",
              "      <th>Installs</th>\n",
              "      <td>0</td>\n",
              "    </tr>\n",
              "    <tr>\n",
              "      <th>Type</th>\n",
              "      <td>0</td>\n",
              "    </tr>\n",
              "    <tr>\n",
              "      <th>Price</th>\n",
              "      <td>0</td>\n",
              "    </tr>\n",
              "    <tr>\n",
              "      <th>Content Rating</th>\n",
              "      <td>0</td>\n",
              "    </tr>\n",
              "    <tr>\n",
              "      <th>Genres</th>\n",
              "      <td>0</td>\n",
              "    </tr>\n",
              "    <tr>\n",
              "      <th>Last Updated</th>\n",
              "      <td>0</td>\n",
              "    </tr>\n",
              "    <tr>\n",
              "      <th>Current Ver</th>\n",
              "      <td>4</td>\n",
              "    </tr>\n",
              "    <tr>\n",
              "      <th>Android Ver</th>\n",
              "      <td>0</td>\n",
              "    </tr>\n",
              "  </tbody>\n",
              "</table>\n",
              "</div><br><label><b>dtype:</b> int64</label>"
            ]
          },
          "metadata": {},
          "execution_count": 94
        }
      ],
      "source": [
        "#Check the nulls in the Android version column again to cross-verify\n",
        "inp2.isnull().sum()"
      ]
    },
    {
      "cell_type": "code",
      "execution_count": 95,
      "metadata": {
        "id": "0urivchMB2XA",
        "colab": {
          "base_uri": "https://localhost:8080/",
          "height": 492
        },
        "outputId": "0dc0c73b-67c1-47f1-877d-386d29d8c59d"
      },
      "outputs": [
        {
          "output_type": "execute_result",
          "data": {
            "text/plain": [
              "App               0\n",
              "Category          0\n",
              "Rating            0\n",
              "Reviews           0\n",
              "Size              0\n",
              "Installs          0\n",
              "Type              0\n",
              "Price             0\n",
              "Content Rating    0\n",
              "Genres            0\n",
              "Last Updated      0\n",
              "Current Ver       4\n",
              "Android Ver       0\n",
              "dtype: int64"
            ],
            "text/html": [
              "<div>\n",
              "<style scoped>\n",
              "    .dataframe tbody tr th:only-of-type {\n",
              "        vertical-align: middle;\n",
              "    }\n",
              "\n",
              "    .dataframe tbody tr th {\n",
              "        vertical-align: top;\n",
              "    }\n",
              "\n",
              "    .dataframe thead th {\n",
              "        text-align: right;\n",
              "    }\n",
              "</style>\n",
              "<table border=\"1\" class=\"dataframe\">\n",
              "  <thead>\n",
              "    <tr style=\"text-align: right;\">\n",
              "      <th></th>\n",
              "      <th>0</th>\n",
              "    </tr>\n",
              "  </thead>\n",
              "  <tbody>\n",
              "    <tr>\n",
              "      <th>App</th>\n",
              "      <td>0</td>\n",
              "    </tr>\n",
              "    <tr>\n",
              "      <th>Category</th>\n",
              "      <td>0</td>\n",
              "    </tr>\n",
              "    <tr>\n",
              "      <th>Rating</th>\n",
              "      <td>0</td>\n",
              "    </tr>\n",
              "    <tr>\n",
              "      <th>Reviews</th>\n",
              "      <td>0</td>\n",
              "    </tr>\n",
              "    <tr>\n",
              "      <th>Size</th>\n",
              "      <td>0</td>\n",
              "    </tr>\n",
              "    <tr>\n",
              "      <th>Installs</th>\n",
              "      <td>0</td>\n",
              "    </tr>\n",
              "    <tr>\n",
              "      <th>Type</th>\n",
              "      <td>0</td>\n",
              "    </tr>\n",
              "    <tr>\n",
              "      <th>Price</th>\n",
              "      <td>0</td>\n",
              "    </tr>\n",
              "    <tr>\n",
              "      <th>Content Rating</th>\n",
              "      <td>0</td>\n",
              "    </tr>\n",
              "    <tr>\n",
              "      <th>Genres</th>\n",
              "      <td>0</td>\n",
              "    </tr>\n",
              "    <tr>\n",
              "      <th>Last Updated</th>\n",
              "      <td>0</td>\n",
              "    </tr>\n",
              "    <tr>\n",
              "      <th>Current Ver</th>\n",
              "      <td>4</td>\n",
              "    </tr>\n",
              "    <tr>\n",
              "      <th>Android Ver</th>\n",
              "      <td>0</td>\n",
              "    </tr>\n",
              "  </tbody>\n",
              "</table>\n",
              "</div><br><label><b>dtype:</b> int64</label>"
            ]
          },
          "metadata": {},
          "execution_count": 95
        }
      ],
      "source": [
        "#Check the nulls in the entire dataframe again\n",
        "inp2.isnull().sum()"
      ]
    },
    {
      "cell_type": "code",
      "execution_count": 96,
      "metadata": {
        "id": "9X4YT4_5B2XA",
        "colab": {
          "base_uri": "https://localhost:8080/",
          "height": 115
        },
        "outputId": "4652be75-c134-448c-fec2-22f10398525b"
      },
      "outputs": [
        {
          "output_type": "execute_result",
          "data": {
            "text/plain": [
              "0    Varies with device\n",
              "Name: Current Ver, dtype: object"
            ],
            "text/html": [
              "<div>\n",
              "<style scoped>\n",
              "    .dataframe tbody tr th:only-of-type {\n",
              "        vertical-align: middle;\n",
              "    }\n",
              "\n",
              "    .dataframe tbody tr th {\n",
              "        vertical-align: top;\n",
              "    }\n",
              "\n",
              "    .dataframe thead th {\n",
              "        text-align: right;\n",
              "    }\n",
              "</style>\n",
              "<table border=\"1\" class=\"dataframe\">\n",
              "  <thead>\n",
              "    <tr style=\"text-align: right;\">\n",
              "      <th></th>\n",
              "      <th>Current Ver</th>\n",
              "    </tr>\n",
              "  </thead>\n",
              "  <tbody>\n",
              "    <tr>\n",
              "      <th>0</th>\n",
              "      <td>Varies with device</td>\n",
              "    </tr>\n",
              "  </tbody>\n",
              "</table>\n",
              "</div><br><label><b>dtype:</b> object</label>"
            ]
          },
          "metadata": {},
          "execution_count": 96
        }
      ],
      "source": [
        "#Check the most common value in the Current version column\n",
        "inp2['Current Ver'].mode()"
      ]
    },
    {
      "cell_type": "code",
      "execution_count": 97,
      "metadata": {
        "id": "c66OiK1OB2XA",
        "colab": {
          "base_uri": "https://localhost:8080/"
        },
        "outputId": "a839e569-2988-420c-8c1d-7266e92d0ffb"
      },
      "outputs": [
        {
          "output_type": "stream",
          "name": "stderr",
          "text": [
            "/tmp/ipython-input-2049401854.py:2: SettingWithCopyWarning: \n",
            "A value is trying to be set on a copy of a slice from a DataFrame.\n",
            "Try using .loc[row_indexer,col_indexer] = value instead\n",
            "\n",
            "See the caveats in the documentation: https://pandas.pydata.org/pandas-docs/stable/user_guide/indexing.html#returning-a-view-versus-a-copy\n",
            "  inp2['Current Ver'] = inp2['Current Ver'].fillna(inp2['Current Ver'].mode()[0])\n"
          ]
        }
      ],
      "source": [
        "#Replace the nulls in the Current version column with the above value\n",
        "inp2['Current Ver'] = inp2['Current Ver'].fillna(inp2['Current Ver'].mode()[0])\n"
      ]
    },
    {
      "cell_type": "code",
      "execution_count": 98,
      "metadata": {
        "id": "pkTbxiknB2XA",
        "colab": {
          "base_uri": "https://localhost:8080/",
          "height": 115
        },
        "outputId": "07df5ac1-f155-4b79-a576-ff659a14dede"
      },
      "outputs": [
        {
          "output_type": "execute_result",
          "data": {
            "text/plain": [
              "0    Varies with device\n",
              "Name: Current Ver, dtype: object"
            ],
            "text/html": [
              "<div>\n",
              "<style scoped>\n",
              "    .dataframe tbody tr th:only-of-type {\n",
              "        vertical-align: middle;\n",
              "    }\n",
              "\n",
              "    .dataframe tbody tr th {\n",
              "        vertical-align: top;\n",
              "    }\n",
              "\n",
              "    .dataframe thead th {\n",
              "        text-align: right;\n",
              "    }\n",
              "</style>\n",
              "<table border=\"1\" class=\"dataframe\">\n",
              "  <thead>\n",
              "    <tr style=\"text-align: right;\">\n",
              "      <th></th>\n",
              "      <th>Current Ver</th>\n",
              "    </tr>\n",
              "  </thead>\n",
              "  <tbody>\n",
              "    <tr>\n",
              "      <th>0</th>\n",
              "      <td>Varies with device</td>\n",
              "    </tr>\n",
              "  </tbody>\n",
              "</table>\n",
              "</div><br><label><b>dtype:</b> object</label>"
            ]
          },
          "metadata": {},
          "execution_count": 98
        }
      ],
      "source": [
        "# Question : Check the most common value in the Current version column again\n",
        "inp2['Current Ver'].isnull().sum()\n",
        "inp2['Current Ver'].mode()"
      ]
    },
    {
      "cell_type": "markdown",
      "metadata": {
        "id": "r6vpXyRZB2XA"
      },
      "source": [
        "#### Handling Incorrect Data Types"
      ]
    },
    {
      "cell_type": "code",
      "execution_count": 99,
      "metadata": {
        "id": "TuXXpYVwB2XA",
        "colab": {
          "base_uri": "https://localhost:8080/",
          "height": 492
        },
        "outputId": "bb45f239-28a4-4346-fd8a-31599ca29bc2"
      },
      "outputs": [
        {
          "output_type": "execute_result",
          "data": {
            "text/plain": [
              "App                object\n",
              "Category           object\n",
              "Rating            float64\n",
              "Reviews            object\n",
              "Size              float64\n",
              "Installs           object\n",
              "Type               object\n",
              "Price              object\n",
              "Content Rating     object\n",
              "Genres             object\n",
              "Last Updated       object\n",
              "Current Ver        object\n",
              "Android Ver        object\n",
              "dtype: object"
            ],
            "text/html": [
              "<div>\n",
              "<style scoped>\n",
              "    .dataframe tbody tr th:only-of-type {\n",
              "        vertical-align: middle;\n",
              "    }\n",
              "\n",
              "    .dataframe tbody tr th {\n",
              "        vertical-align: top;\n",
              "    }\n",
              "\n",
              "    .dataframe thead th {\n",
              "        text-align: right;\n",
              "    }\n",
              "</style>\n",
              "<table border=\"1\" class=\"dataframe\">\n",
              "  <thead>\n",
              "    <tr style=\"text-align: right;\">\n",
              "      <th></th>\n",
              "      <th>0</th>\n",
              "    </tr>\n",
              "  </thead>\n",
              "  <tbody>\n",
              "    <tr>\n",
              "      <th>App</th>\n",
              "      <td>object</td>\n",
              "    </tr>\n",
              "    <tr>\n",
              "      <th>Category</th>\n",
              "      <td>object</td>\n",
              "    </tr>\n",
              "    <tr>\n",
              "      <th>Rating</th>\n",
              "      <td>float64</td>\n",
              "    </tr>\n",
              "    <tr>\n",
              "      <th>Reviews</th>\n",
              "      <td>object</td>\n",
              "    </tr>\n",
              "    <tr>\n",
              "      <th>Size</th>\n",
              "      <td>float64</td>\n",
              "    </tr>\n",
              "    <tr>\n",
              "      <th>Installs</th>\n",
              "      <td>object</td>\n",
              "    </tr>\n",
              "    <tr>\n",
              "      <th>Type</th>\n",
              "      <td>object</td>\n",
              "    </tr>\n",
              "    <tr>\n",
              "      <th>Price</th>\n",
              "      <td>object</td>\n",
              "    </tr>\n",
              "    <tr>\n",
              "      <th>Content Rating</th>\n",
              "      <td>object</td>\n",
              "    </tr>\n",
              "    <tr>\n",
              "      <th>Genres</th>\n",
              "      <td>object</td>\n",
              "    </tr>\n",
              "    <tr>\n",
              "      <th>Last Updated</th>\n",
              "      <td>object</td>\n",
              "    </tr>\n",
              "    <tr>\n",
              "      <th>Current Ver</th>\n",
              "      <td>object</td>\n",
              "    </tr>\n",
              "    <tr>\n",
              "      <th>Android Ver</th>\n",
              "      <td>object</td>\n",
              "    </tr>\n",
              "  </tbody>\n",
              "</table>\n",
              "</div><br><label><b>dtype:</b> object</label>"
            ]
          },
          "metadata": {},
          "execution_count": 99
        }
      ],
      "source": [
        "#Check the datatypes of all the columns\n",
        "inp2.dtypes"
      ]
    },
    {
      "cell_type": "code",
      "execution_count": 100,
      "metadata": {
        "id": "6HJTTNF7B2XA"
      },
      "outputs": [],
      "source": [
        "#Question - Try calculating the average price of all apps having the Android version as \"4.1 and up\"\n",
        "\n",
        "# inp2[inp2['Android Ver'] == '4.1 and up'].Price.mean()\n"
      ]
    },
    {
      "cell_type": "code",
      "execution_count": 101,
      "metadata": {
        "id": "8frL0-2fB2XA",
        "colab": {
          "base_uri": "https://localhost:8080/",
          "height": 490
        },
        "outputId": "881cf687-360b-4946-e430-31d1190520a2"
      },
      "outputs": [
        {
          "output_type": "execute_result",
          "data": {
            "text/plain": [
              "Price\n",
              "0        8719\n",
              "$2.99     114\n",
              "$0.99     107\n",
              "$4.99      70\n",
              "$1.99      59\n",
              "         ... \n",
              "$2.95       1\n",
              "$2.90       1\n",
              "$1.97       1\n",
              "$2.56       1\n",
              "$1.20       1\n",
              "Name: count, Length: 73, dtype: int64"
            ],
            "text/html": [
              "<div>\n",
              "<style scoped>\n",
              "    .dataframe tbody tr th:only-of-type {\n",
              "        vertical-align: middle;\n",
              "    }\n",
              "\n",
              "    .dataframe tbody tr th {\n",
              "        vertical-align: top;\n",
              "    }\n",
              "\n",
              "    .dataframe thead th {\n",
              "        text-align: right;\n",
              "    }\n",
              "</style>\n",
              "<table border=\"1\" class=\"dataframe\">\n",
              "  <thead>\n",
              "    <tr style=\"text-align: right;\">\n",
              "      <th></th>\n",
              "      <th>count</th>\n",
              "    </tr>\n",
              "    <tr>\n",
              "      <th>Price</th>\n",
              "      <th></th>\n",
              "    </tr>\n",
              "  </thead>\n",
              "  <tbody>\n",
              "    <tr>\n",
              "      <th>0</th>\n",
              "      <td>8719</td>\n",
              "    </tr>\n",
              "    <tr>\n",
              "      <th>$2.99</th>\n",
              "      <td>114</td>\n",
              "    </tr>\n",
              "    <tr>\n",
              "      <th>$0.99</th>\n",
              "      <td>107</td>\n",
              "    </tr>\n",
              "    <tr>\n",
              "      <th>$4.99</th>\n",
              "      <td>70</td>\n",
              "    </tr>\n",
              "    <tr>\n",
              "      <th>$1.99</th>\n",
              "      <td>59</td>\n",
              "    </tr>\n",
              "    <tr>\n",
              "      <th>...</th>\n",
              "      <td>...</td>\n",
              "    </tr>\n",
              "    <tr>\n",
              "      <th>$2.95</th>\n",
              "      <td>1</td>\n",
              "    </tr>\n",
              "    <tr>\n",
              "      <th>$2.90</th>\n",
              "      <td>1</td>\n",
              "    </tr>\n",
              "    <tr>\n",
              "      <th>$1.97</th>\n",
              "      <td>1</td>\n",
              "    </tr>\n",
              "    <tr>\n",
              "      <th>$2.56</th>\n",
              "      <td>1</td>\n",
              "    </tr>\n",
              "    <tr>\n",
              "      <th>$1.20</th>\n",
              "      <td>1</td>\n",
              "    </tr>\n",
              "  </tbody>\n",
              "</table>\n",
              "<p>73 rows × 1 columns</p>\n",
              "</div><br><label><b>dtype:</b> int64</label>"
            ]
          },
          "metadata": {},
          "execution_count": 101
        }
      ],
      "source": [
        "#Analyse the Price column to check the issue\n",
        "inp2.Price.value_counts()\n"
      ]
    },
    {
      "cell_type": "code",
      "execution_count": 102,
      "metadata": {
        "id": "WzivaIjyB2XA",
        "colab": {
          "base_uri": "https://localhost:8080/"
        },
        "outputId": "d0d4d826-9a56-459c-a703-5a7d26346b2c"
      },
      "outputs": [
        {
          "output_type": "stream",
          "name": "stderr",
          "text": [
            "/tmp/ipython-input-3620547822.py:3: SettingWithCopyWarning: \n",
            "A value is trying to be set on a copy of a slice from a DataFrame.\n",
            "Try using .loc[row_indexer,col_indexer] = value instead\n",
            "\n",
            "See the caveats in the documentation: https://pandas.pydata.org/pandas-docs/stable/user_guide/indexing.html#returning-a-view-versus-a-copy\n",
            "  inp2.Price = inp2.Price.apply(lambda x : float(x.replace('$', '')))\n"
          ]
        }
      ],
      "source": [
        "#Write the function to make the changes\n",
        "\n",
        "inp2.Price = inp2.Price.apply(lambda x : float(x.replace('$', '')))"
      ]
    },
    {
      "cell_type": "code",
      "execution_count": 103,
      "metadata": {
        "id": "MFJEVZATB2XA",
        "colab": {
          "base_uri": "https://localhost:8080/"
        },
        "outputId": "2a0ccf13-b808-44b0-ca06-0d9297d1ed40"
      },
      "outputs": [
        {
          "output_type": "execute_result",
          "data": {
            "text/plain": [
              "dtype('float64')"
            ]
          },
          "metadata": {},
          "execution_count": 103
        }
      ],
      "source": [
        "#Verify the dtype of Price once again\n",
        "inp2.Price.dtype"
      ]
    },
    {
      "cell_type": "code",
      "execution_count": 104,
      "metadata": {
        "id": "UmR6CnzQB2XA",
        "colab": {
          "base_uri": "https://localhost:8080/",
          "height": 241
        },
        "outputId": "1fb2ea06-b7fe-48a5-e343-4370c9090abd"
      },
      "outputs": [
        {
          "output_type": "execute_result",
          "data": {
            "text/plain": [
              "0       159\n",
              "1       967\n",
              "2     87510\n",
              "3    215644\n",
              "4       967\n",
              "Name: Reviews, dtype: object"
            ],
            "text/html": [
              "<div>\n",
              "<style scoped>\n",
              "    .dataframe tbody tr th:only-of-type {\n",
              "        vertical-align: middle;\n",
              "    }\n",
              "\n",
              "    .dataframe tbody tr th {\n",
              "        vertical-align: top;\n",
              "    }\n",
              "\n",
              "    .dataframe thead th {\n",
              "        text-align: right;\n",
              "    }\n",
              "</style>\n",
              "<table border=\"1\" class=\"dataframe\">\n",
              "  <thead>\n",
              "    <tr style=\"text-align: right;\">\n",
              "      <th></th>\n",
              "      <th>Reviews</th>\n",
              "    </tr>\n",
              "  </thead>\n",
              "  <tbody>\n",
              "    <tr>\n",
              "      <th>0</th>\n",
              "      <td>159</td>\n",
              "    </tr>\n",
              "    <tr>\n",
              "      <th>1</th>\n",
              "      <td>967</td>\n",
              "    </tr>\n",
              "    <tr>\n",
              "      <th>2</th>\n",
              "      <td>87510</td>\n",
              "    </tr>\n",
              "    <tr>\n",
              "      <th>3</th>\n",
              "      <td>215644</td>\n",
              "    </tr>\n",
              "    <tr>\n",
              "      <th>4</th>\n",
              "      <td>967</td>\n",
              "    </tr>\n",
              "  </tbody>\n",
              "</table>\n",
              "</div><br><label><b>dtype:</b> object</label>"
            ]
          },
          "metadata": {},
          "execution_count": 104
        }
      ],
      "source": [
        "#Analyse the Reviews column\n",
        "inp2.Reviews.head()\n"
      ]
    },
    {
      "cell_type": "code",
      "execution_count": 105,
      "metadata": {
        "id": "Rbo4XtW_B2XA",
        "colab": {
          "base_uri": "https://localhost:8080/",
          "height": 439
        },
        "outputId": "60f3c728-809c-4f1d-bf8f-f11133c945a5"
      },
      "outputs": [
        {
          "output_type": "stream",
          "name": "stderr",
          "text": [
            "/tmp/ipython-input-76809277.py:2: SettingWithCopyWarning: \n",
            "A value is trying to be set on a copy of a slice from a DataFrame.\n",
            "Try using .loc[row_indexer,col_indexer] = value instead\n",
            "\n",
            "See the caveats in the documentation: https://pandas.pydata.org/pandas-docs/stable/user_guide/indexing.html#returning-a-view-versus-a-copy\n",
            "  inp2.Reviews = inp2.Reviews.astype(int)\n"
          ]
        },
        {
          "output_type": "execute_result",
          "data": {
            "text/plain": [
              "count    9.366000e+03\n",
              "mean     5.140498e+05\n",
              "std      3.144042e+06\n",
              "min      1.000000e+00\n",
              "25%      1.862500e+02\n",
              "50%      5.930500e+03\n",
              "75%      8.153275e+04\n",
              "max      7.815831e+07\n",
              "Name: Reviews, dtype: float64"
            ],
            "text/html": [
              "<div>\n",
              "<style scoped>\n",
              "    .dataframe tbody tr th:only-of-type {\n",
              "        vertical-align: middle;\n",
              "    }\n",
              "\n",
              "    .dataframe tbody tr th {\n",
              "        vertical-align: top;\n",
              "    }\n",
              "\n",
              "    .dataframe thead th {\n",
              "        text-align: right;\n",
              "    }\n",
              "</style>\n",
              "<table border=\"1\" class=\"dataframe\">\n",
              "  <thead>\n",
              "    <tr style=\"text-align: right;\">\n",
              "      <th></th>\n",
              "      <th>Reviews</th>\n",
              "    </tr>\n",
              "  </thead>\n",
              "  <tbody>\n",
              "    <tr>\n",
              "      <th>count</th>\n",
              "      <td>9.366000e+03</td>\n",
              "    </tr>\n",
              "    <tr>\n",
              "      <th>mean</th>\n",
              "      <td>5.140498e+05</td>\n",
              "    </tr>\n",
              "    <tr>\n",
              "      <th>std</th>\n",
              "      <td>3.144042e+06</td>\n",
              "    </tr>\n",
              "    <tr>\n",
              "      <th>min</th>\n",
              "      <td>1.000000e+00</td>\n",
              "    </tr>\n",
              "    <tr>\n",
              "      <th>25%</th>\n",
              "      <td>1.862500e+02</td>\n",
              "    </tr>\n",
              "    <tr>\n",
              "      <th>50%</th>\n",
              "      <td>5.930500e+03</td>\n",
              "    </tr>\n",
              "    <tr>\n",
              "      <th>75%</th>\n",
              "      <td>8.153275e+04</td>\n",
              "    </tr>\n",
              "    <tr>\n",
              "      <th>max</th>\n",
              "      <td>7.815831e+07</td>\n",
              "    </tr>\n",
              "  </tbody>\n",
              "</table>\n",
              "</div><br><label><b>dtype:</b> float64</label>"
            ]
          },
          "metadata": {},
          "execution_count": 105
        }
      ],
      "source": [
        "#Change the dtype of this column\n",
        "inp2.Reviews = inp2.Reviews.astype(int)\n",
        "\n",
        "#Check the quantitative spread of this dataframe\n",
        "inp2.Reviews.describe()\n"
      ]
    },
    {
      "cell_type": "code",
      "execution_count": 106,
      "metadata": {
        "id": "EQ6-SqqOB2XA",
        "colab": {
          "base_uri": "https://localhost:8080/",
          "height": 241
        },
        "outputId": "dc719a32-7b6a-48c3-e5d4-cb6b550b8a9d"
      },
      "outputs": [
        {
          "output_type": "execute_result",
          "data": {
            "text/plain": [
              "0        10,000+\n",
              "1       500,000+\n",
              "2     5,000,000+\n",
              "3    50,000,000+\n",
              "4       100,000+\n",
              "Name: Installs, dtype: object"
            ],
            "text/html": [
              "<div>\n",
              "<style scoped>\n",
              "    .dataframe tbody tr th:only-of-type {\n",
              "        vertical-align: middle;\n",
              "    }\n",
              "\n",
              "    .dataframe tbody tr th {\n",
              "        vertical-align: top;\n",
              "    }\n",
              "\n",
              "    .dataframe thead th {\n",
              "        text-align: right;\n",
              "    }\n",
              "</style>\n",
              "<table border=\"1\" class=\"dataframe\">\n",
              "  <thead>\n",
              "    <tr style=\"text-align: right;\">\n",
              "      <th></th>\n",
              "      <th>Installs</th>\n",
              "    </tr>\n",
              "  </thead>\n",
              "  <tbody>\n",
              "    <tr>\n",
              "      <th>0</th>\n",
              "      <td>10,000+</td>\n",
              "    </tr>\n",
              "    <tr>\n",
              "      <th>1</th>\n",
              "      <td>500,000+</td>\n",
              "    </tr>\n",
              "    <tr>\n",
              "      <th>2</th>\n",
              "      <td>5,000,000+</td>\n",
              "    </tr>\n",
              "    <tr>\n",
              "      <th>3</th>\n",
              "      <td>50,000,000+</td>\n",
              "    </tr>\n",
              "    <tr>\n",
              "      <th>4</th>\n",
              "      <td>100,000+</td>\n",
              "    </tr>\n",
              "  </tbody>\n",
              "</table>\n",
              "</div><br><label><b>dtype:</b> object</label>"
            ]
          },
          "metadata": {},
          "execution_count": 106
        }
      ],
      "source": [
        "#Analyse the Installs Column\n",
        "inp2.Installs.head()\n"
      ]
    },
    {
      "cell_type": "code",
      "execution_count": 107,
      "metadata": {
        "id": "3169ohCZB2XA",
        "colab": {
          "base_uri": "https://localhost:8080/",
          "height": 359
        },
        "outputId": "cbc8cc29-e9a1-4470-c463-0de6a0cee277"
      },
      "outputs": [
        {
          "output_type": "error",
          "ename": "TypeError",
          "evalue": "Could not convert string '10,000+500,000+5,000,000+50,000,000+100,000+50,000+50,000+1,000,000+1,000,000+10,000+1,000,000+1,000,000+10,000,000+100,000+100,000+5,000+500,000+10,000+5,000,000+10,000,000+100,000+100,000+500,000+50,000+10,000+500,000+100,000+10,000+100,000+100,000+50,000+100,000+100,000+10,000+100,000+500,000+5,000,000+10,000+500,000+10,000+100,000+10,000,000+100,000+10,000+10,000,000+100,000+100,000+100,000+100,000+1,000,000+100,000+1,000,000+100,000+100,000+100,000+50,000+100,000+100,000+100,000+10,000+100,000+1,000,000+100,000+100,000+10,000+50,000+5,000,000+100,000+5,000,000+5,000,000+500,000+10,000,000+100,000+500,000+50,000+100,000+1,000,000+100,000+1,000,000+50,000+1,000,000+500,000+100,000+1,000,000+1,000,000+100,000+100,000+1,000,000+100,000+100,000+1,000,000+1,000,000+1,000,000+1,000,000+500,000+500,000+100,000+500,000+1,000,000+100,000+500,000+1,000,000+500,000+100,000+1,000,000+50,000+1,000,000+10,000+1,000,000+100,000+10,000+50,000+10,000+10,000+10,000+10,000,000+500,000+1,000,000+50,000+10,000+1,000,000+500,000+500,000+10,000+5,000+100,000+5,000+100,000+10,000+1,000,000+50,000+10,000+100,000,000+50,000+100,000+10,000,000+100,000,000+10,000,000+10,000,000+10,000,000+100,000+1,000,000+10,000,000+500,000+1,000,000+1,000,000,000+5,000,000+100,000+10,000,000+500,000+10,000,000+1,000,000+1,000,000+500,000+1,000,000+500,000+5,000,000+100,000+5,000,000+500,000+1,000,000+500,000+500,000+1,000,000+5,000,000+10,000,000+100,000+100,000+100,000+50,000+500,000+10,000,000+1,000,000+1,000,000+1,000,000+500,000+10,000,000+10,000,000+50,000,000+10,000,000+5,000,000+1,000,000+50,000,000+5,000,000+100,000,000+1,000,000+1,000,000+500,000+10,000,000+5,000,000+1,000,000+50,000,000+10,000,000+1,000,000+10,000,000+5,000,000+5,000,000+5,000,000+5,000,000+100,000+1,000,000+1,000,000+1,000,000+10,000,000+5,000,000+1,000,000+5,000,000+100,000+10,000,000+1,000,000+1,000,000+100,000+5,000,000+1,000,000+100,000+50,000,000+5,000,000+1,000,000+5,000,000+1,000,000+10,000,000+10,000,000+1,000,000+100,000+100,000+10,000,000+50,000+5,000,000+5,000,000+5,000,000+100,000+100,000+1,000,000+500,000+100,000+500,000+500,000+1,000,000+1,000,000+1,000,000+100,000+100,000+1,000,000+1,000,000+10,000,000+10,000,000+100,000+100,000+5,000,000+50,000+1,000,000+1,000,000+500,000+10,000,000+10,000,000+50,000+5,000,000+5,000,000+5,000,000+100,000+100,000+1,000,000+500,000+100,000+500,000+500,000+1,000,000+1,000,000+1,000,000+100,000+100,000+1,000,000+1,000,000+1,000,000+5,000,000+1,000,000+10,000,000+10,000,000+1,000,000+100,000+100,000+50,000,000+100,000,000+5,000,000+10,000+1,000,000+10,000,000+500,000+1,000,000+500,000+50,000+50,000+50,000+1,000,000+10,000+10,000+10,000+10,000+10,000+100,000+5,000,000+100,000+1,000,000+100,000+1,000,000+1,000,000+1,000,000+1,000,000+100,000+5,000,000+100,000+10,000+10,000+5,000+500,000+1,000,000+5,000+1,000+5,000,000+10,000+50,000+1,000,000+100,000+1,000,000,000+1,000,000,000+10,000,000+1,000,000,000+100,000,000+1,000,000,000+1,000,000,000+500,000,000+5,000,000+100,000,000+100,000,000+100,000,000+500,000,000+50,000,000+5,000,000+5,000,000+100,000,000+10,000,000+10,000,000+10,000,000+10,000,000+100,000,000+1,000,000+1,000,000+10,000,000+5,000,000+10,000,000+10,000,000+100,000,000+5,000,000+100,000,000+100,000,000+10,000,000+1,000,000+100,000,000+100,000,000+500,000,000+10,000,000+1,000,000+100,000+10,000,000+10,000,000+10,000,000+500,000,000+5,000,000+5,000,000+1,000,000,000+1,000,000,000+500,000,000+10,000,000+500,000,000+1,000,000,000+10,000,000+5,000,000+50,000,000+100,000,000+1,000,000,000+100,000,000+100,000,000+10,000,000+100,000,000+100,000,000+1,000,000+10,000,000+10,000,000+10,000,000+10,000,000+10,000,000+500,000,000+10,000,000+1,000,000+100,000,000+100,000,000+1,000,000+1,000,000+10,000,000+1,000,000,000+100,000,000+50,000,000+10,000,000+100,000,000+1,000,000+100,000,000+50,000,000+100,000,000+500,000,000+1,000,000+1,000,000+1,000,000+10,000,000+500,000+500,000+100,000+10,000,000+10,000,000+5,000,000+500,000,000+1,000,000+1,000,000+5,000,000+10,000,000+1,000,000+10,000,000+1,000,000+1,000,000+10,000,000+10,000,000+5,000,000+10,000,000+5,000,000+1,000,000+1,000,000+5,000,000+1,000,000+100,000,000+1,000,000+1,000,000,000+100,000,000+5,000,000+10,000,000+1,000,000+1,000,000+1,000,000+10,000,000+50,000,000+10,000+5,000,000+1,000,000+500,000+1,000,000,000+500,000,000+50,000,000+500,000,000+1,000,000,000+100,000,000+1,000,000+5,000,000+10,000,000+10,000,000+500,000,000+100,000,000+10,000+1,000+100+10,000,000+10,000,000+10,000,000+100,000+500,000+5,000,000+1,000,000+10,000,000+1,000,000+10,000,000+5,000,000+5,000,000+100,000+500,000+1,000,000+1,000,000+10,000+1,000,000+1,000,000+100,000+10,000,000+1,000,000+100,000+500,000+5,000+500,000+5,000,000+1,000,000+100,000+1,000,000+1,000,000+100,000+100,000+500,000+500,000+500,000+100,000+500,000+500,000+100,000+50,000+1,000,000+1,000,000+100,000+100,000+100,000+10,000+100,000+1,000,000+100,000+10,000,000+500,000+100,000+1,000,000+50,000+5,000,000+500,000+100,000+100,000+500,000+10,000,000+1,000,000+100,000+500,000+100,000+1,000,000+5,000,000+500,000+500,000+10,000,000+10,000+10,000,000+100,000+100,000+1,000,000+500,000+100,000+1,000,000+100,000+1,000,000+10,000,000+50,000+500,000+1,000,000+100,000+10,000+500,000+1,000,000+100,000+10,000+10,000+10,000+10,000,000+1,000,000+500,000+500,000+500,000+1,000,000+100,000+500,000+10,000+100,000+100,000+500,000+100,000+1,000,000+10,000+10,000+1,000,000+10,000,000+10,000+100,000+10,000+1,000,000+1,000,000+50,000+10,000+500,000+5,000,000+1,000,000+1,000+5,000+1,000+500+5,000+10,000+100+10,000+100+1,000+1,000+100+500+5,000+100+5,000+10+500+500+100+100+500+1,000+100+10,000+500+1,000+100+1,000,000+100,000+100,000+5,000+1,000,000+5,000+5,000,000+500+100+100,000+1,000,000+500,000+1,000+10,000+100+500,000+10,000+10,000+1,000+500+5,000+10,000+10,000+50,000+10,000+100,000+5,000+10,000+1,000+10,000+5,000,000+100,000+1,000,000+100,000,000+10,000,000+100,000+5,000,000+10,000,000+5,000,000+1,000,000+500,000+500,000+1,000,000+1,000,000+5,000,000+1,000,000+500,000+5,000,000+500,000+1,000,000+10,000,000+10,000,000+1,000,000+5,000,000+50,000+1,000,000+1,000,000+1,000,000+1,000,000+1,000,000+500,000+1,000,000+5,000,000+1,000,000+500,000+500,000+100,000+10,000,000+100,000+5,000,000+10,000,000+5,000,000+10,000,000+10,000,000+1,000,000+5,000,000+1,000,000+5,000,000+5,000,000+10,000,000+10,000,000+1,000,000+1,000,000+1,000,000+1,000,000+10,000+50,000+1,000,000+1,000,000+1,000,000+1,000,000+1,000,000+1,000,000+1,000,000+1,000,000+1,000,000+1,000,000+1,000,000+100,000+1,000,000+100,000+10,000+10,000+50,000+500,000+100,000+100,000+100,000+10,000+100,000+100,000+50,000+50,000+100,000+100,000+5,000,000+10,000,000+100,000,000+10,000,000+5,000,000+1,000,000+1,000,000+1,000,000+5,000,000+10,000,000+1,000,000+10,000,000+1,000,000+1,000,000+10,000,000+1,000,000+5,000,000+100,000,000+5,000,000+5,000,000+1,000,000+500,000+1,000,000+1,000,000+10,000,000+10,000,000+10,000,000+1,000,000+500,000+1,000,000+1,000,000+50,000+1,000,000+100,000+100,000+100,000+100,000+10,000,000+10,000,000+100,000+10,000+10,000,000+10,000,000+10,000,000+100,000,000+500,000+5,000,000+5,000,000+500,000+5,000,000+10,000,000+10,000,000+500,000+10,000,000+1,000,000+1,000,000+1,000,000+1,000,000+1,000,000+100,000+10,000,000+10,000,000+5,000,000+10,000,000+10,000,000+5,000,000+1,000,000+100,000+1,000,000+1,000+1,000+500,000+100,000+100,000,000+1,000,000+1,000,000+10,000,000+50,000,000+10,000,000+5,000,000+5,000,000+10,000,000+5,000,000+1,000,000,000+100,000,000+5,000,000+1,000,000+5,000,000+5,000,000+1,000,000+1,000,000+10,000,000+100,000,000+5,000,000+10,000,000+1,000,000+10,000,000+50,000,000+5,000,000+10,000,000+1,000,000+10,000,000+1,000,000+10,000,000+50,000,000+1,000,000+100,000,000+50,000,000+1,000,000+5,000,000+50,000,000+100,000,000+1,000,000+100,000+1,000,000+1,000,000+10,000,000+10,000,000+100,000+100,000+1,000,000+100,000,000+100,000,000+500,000+100,000+100,000+1,000,000+1,000,000+10,000,000+1,000,000+10,000,000+10,000,000+10,000,000+50,000+1,000,000+10,000,000+1,000,000+5,000,000+1,000,000+5,000,000+1,000,000+10,000,000+10,000,000+1,000,000+1,000,000+1,000,000+1,000,000+1,000,000+100,000,000+100,000,000+10,000,000+10,000,000+10,000,000+10,000,000+10,000,000+10,000,000+10,000,000+5,000,000+5,000,000+500,000+5,000,000+1,000,000+10,000,000+10,000,000+1,000,000+1,000,000+500,000+1,000,000+1,000,000+1,000,000+1,000,000+10,000,000+1,000,000+10,000,000+10,000,000+1,000,000+100,000,000+10,000,000+10,000,000+10,000,000+10,000,000+10,000,000+10,000,000+10,000,000+500,000+5,000,000+10,000,000+1,000,000+1,000,000+10,000,000+5,000,000+10,000,000+1,000,000+10,000,000+100,000+1,000,000+1,000,000+1,000,000+1,000,000+1,000,000+1,000,000+1,000,000+10,000,000+1,000,000+1,000,000+10,000+10,000,000+100,000+100,000+5,000,000+10,000,000+10,000,000+100,000+100,000+1,000,000+1,000,000+1,000,000+1,000,000+10,000,000+100,000+10,000,000+10,000,000+100,000+5,000,000+500,000+50,000+5,000,000+1,000,000+10,000+1,000,000+100,000+1,000,000+100,000+100,000+100,000+50,000+1,000+1,000,000+10,000+500+50,000+100,000+100,000+500+100,000+100+100,000+100,000+1,000+100,000+100+50,000+100,000+1,000+500+10,000,000+1,000,000+5,000,000+5,000,000+5,000,000+10,000,000+500,000+5,000,000+10,000,000+1,000,000+1,000,000+10,000,000+5,000,000+1,000,000+1,000,000+10,000,000+1,000,000+5,000,000+1,000,000+1,000,000+5,000,000+1,000,000+5,000,000+1,000,000+1,000,000+10,000,000+10,000,000+1,000,000+50,000,000+10,000,000+1,000,000+1,000,000+1,000,000+10,000,000+1,000,000+100,000,000+5,000,000+1,000,000+5,000,000+1,000,000+10,000,000+10,000+1,000,000+100,000+100,000+100,000+1,000,000+1,000,000+100,000,000+1,000,000+1,000,000+5,000,000+100,000+500,000+1,000,000+100,000+500,000+1,000,000+1,000,000+100,000+100,000+1,000,000+1,000,000+50,000+1,000,000+100,000+10,000,000+100,000+1,000,000+5,000,000+1,000,000+100,000+1,000,000+100,000+1,000,000+1,000,000+50,000+1,000,000+5,000,000+500,000+1,000,000+1,000,000+1,000,000+5,000,000+1,000,000+100,000+500,000+1,000,000+1,000,000+1,000,000+500,000+1,000,000+5,000,000+500,000+100,000+1,000,000+1,000,000+5,000,000+5,000,000+50,000+1,000,000+5,000,000+100,000+1,000,000+500,000+1,000,000+500,000+100,000+50,000,000+1,000,000+100,000+100,000+1,000,000+1,000,000+5,000,000+100,000,000+50,000+10,000,000+10,000+5,000,000+10,000,000+10,000,000+1,000,000+5,000,000+1,000,000+10,000,000+10,000,000+1,000,000+10,000,000+10,000,000+1,000,000+100,000+1,000,000+10,000,000+1,000,000+500,000+10,000,000+500,000+50,000+1,000,000+1,000,000+1,000,000+500,000+5,000,000+1,000,000+5,000,000+1,000,000+10,000,000+100,000+10,000,000+5,000,000+5,000,000+1,000,000+10,000,000+5,000,000+1,000,000+1,000,000+1,000,000+1,000,000+100,000+100,000+1,000,000+50,000+500,000+500,000+100,000+1,000,000+1,000,000+100,000+100,000+5,000,000+500,000+100,000+1,000,000+10,000+50,000+5,000,000+10,000+50,000+1,000,000+1,000,000+10,000,000+1,000,000+1,000,000+1,000,000+5,000,000+10,000,000+10,000,000+50,000+5,000,000+100,000+1,000,000+10,000,000+1,000,000+1,000,000+100,000+10,000,000+100,000+1,000,000+5,000,000+10,000,000+1,000,000+5,000,000+5,000,000+10,000,000+10,000,000+10,000,000+500,000+5,000,000+1,000,000+10,000,000+10,000,000+10,000,000+10,000,000+10,000,000+10,000,000+1,000,000+10,000,000+1,000,000+100,000+500,000+100,000+500,000+5,000,000+1,000,000+10,000,000+50,000+10,000,000+500,000+100,000+1,000,000+10,000,000+500,000+10,000,000+5,000,000+1,000,000+50,000,000+100,000+5,000,000+10,000,000+1,000,000+100,000+10,000,000+1,000,000+500,000+100,000+10,000,000+1,000,000+5,000,000+1,000,000+500,000+1,000,000+1,000,000+1,000,000+10,000,000+10,000,000+5,000,000+1,000,000+5,000,000+10,000,000+500,000+10,000,000+10,000,000+1,000,000+5,000,000+1,000,000+10,000,000+10,000,000+1,000,000+10,000,000+5,000,000+1,000,000+5,000,000+10,000,000+10,000,000+1,000,000+5,000,000+100,000+1,000,000+100,000+1,000,000+500,000+500,000+100,000+1,000,000+10,000+500,000+100,000+100,000+1,000,000+5,000,000+100,000+5,000,000+500,000+10,000,000+100,000+5,000,000+100,000+1,000,000+1,000,000+1,000,000+1,000,000+5,000,000+1,000,000+1,000,000+1,000,000+500,000+10,000,000+500,000+1,000,000+100,000,000+10,000,000+50,000,000+5,000,000+5,000,000+500,000+1,000,000+1,000,000+1,000,000+10,000,000+50,000+50,000+1,000,000+10,000,000+1,000,000+5,000,000+5,000,000+1,000,000+1,000,000+5,000,000+5,000,000+10,000,000+10,000,000+5,000,000+10,000,000+1,000,000+50,000,000+10,000,000+10,000,000+10,000,000+10,000,000+10,000,000+1,000,000+500,000+1,000,000+1,000,000+100,000+10,000,000+1,000,000+100,000+50,000+500,000+1,000,000+100,000+50,000,000+10,000,000+1,000,000+500,000+5,000,000+1,000,000+1,000,000+10,000,000+100,000+100,000+1,000,000+100,000+5,000,000+1,000,000+50,000+500,000+100,000+50,000,000+10,000,000+500,000+1,000,000+100,000+1,000,000+500,000+100,000+500,000+1,000,000+1,000,000+500,000+500,000+100,000+1,000,000+5,000,000+500,000+5,000,000+5,000,000+1,000,000+5,000,000+1,000,000+500,000+10,000,000+5,000,000+10,000,000+100,000+1,000,000+10,000,000+5,000,000+1,000,000+1,000,000+1,000,000+10,000,000+10,000,000+500,000+100,000+1,000,000+1,000,000+1,000,000+1,000,000+1,000,000+100,000+5,000,000+1,000,000+1,000,000+1,000,000+5,000,000+10,000+100,000+500,000+1,000,000+100,000+1,000,000+100,000+1,000,000+500,000+500,000+5,000,000+500,000+100,000+10,000+50,000+100,000+100,000+1,000,000+100,000+500,000+1,000,000+50,000+10,000,000+1,000,000+500,000+1,000,000+1,000,000+500,000+500,000+1,000,000+1,000,000+10,000,000+10,000,000+10,000,000+500,000+1,000,000+5,000,000+1,000,000+10,000,000+50,000+50,000+10,000+100,000+100,000+5,000,000+50,000+10,000,000+1,000+100,000+50,000+100,000+50,000+100,000+50,000+50,000+100,000+10,000,000+10,000+500,000+5,000,000+100,000+1,000,000+10,000+1,000,000+1,000+500,000+1,000,000+100,000+1,000,000+1,000,000+500,000+500,000+100,000+500,000+1,000,000+100,000+5,000,000+10,000,000+100,000+10,000,000+5,000,000+1,000,000+5,000,000+1,000,000+10,000,000+1,000,000+1,000,000+5,000,000+10,000,000+500,000+5,000,000+10,000,000+1,000,000+1,000,000+10,000,000+5,000,000+1,000,000+10,000,000+50,000,000+1,000,000+500,000+500,000+1,000,000+5,000,000+1,000,000+1,000,000+100,000+1,000,000+1,000,000+10,000,000+1,000,000+1,000,000+10,000,000+500,000+10,000,000+1,000,000+1,000,000+100,000+100,000+10,000,000+500,000+1,000,000+1,000,000+1,000,000+100,000+100,000+1,000,000+1,000,000+10,000,000+100,000+500,000+500,000+10,000+100,000+5,000,000+1,000,000+500,000+500,000+10,000+1,000,000+100,000+10,000,000+500,000+500,000+10,000+1,000,000+100,000+10,000,000+100,000+50,000+5,000+100,000+1,000,000+100,000+50,000+1,000,000+100,000+1,000,000+5,000,000+500,000+500,000+1,000,000+500,000+1,000,000+100,000+1,000,000+100,000+100,000,000+1,000,000,000+500,000,000+10,000,000+10,000,000+50,000,000+100,000,000+100,000,000+500,000,000+500,000,000+100,000,000+5,000,000+100,000,000+100,000,000+100,000,000+100,000,000+1,000,000+100,000,000+50,000,000+5,000,000+100,000,000+1,000,000+100,000,000+50,000,000+50,000,000+10,000,000+50,000,000+100,000,000+100,000,000+10,000,000+10,000,000+10,000,000+100,000,000+5,000,000+10,000,000+50,000,000+100,000,000+50,000,000+10,000,000+10,000,000+10,000,000+100,000,000+100,000,000+10,000,000+100,000,000+100,000,000+100,000,000+1,000,000,000+100,000,000+500,000,000+100,000,000+100,000,000+500,000,000+100,000,000+100,000,000+10,000,000+100,000,000+100,000,000+10,000,000+50,000,000+10,000,000+10,000,000+10,000,000+100,000,000+10,000,000+100,000,000+5,000,000+50,000,000+100,000,000+500,000,000+100,000,000+50,000,000+10,000,000+100,000,000+10,000,000+1,000,000+500,000,000+100,000,000+5,000,000+10,000,000+100,000,000+1,000,000+100,000,000+100,000,000+100,000,000+10,000,000+100,000,000+100,000,000+10,000,000+100,000,000+100,000,000+100,000,000+10,000,000+50,000,000+1,000,000+100,000,000+100,000,000+1,000,000,000+500,000,000+10,000,000+50,000,000+50,000,000+100,000,000+100,000,000+100,000,000+100,000,000+500,000,000+50,000,000+50,000,000+50,000,000+100,000,000+100,000,000+10,000,000+10,000,000+50,000,000+10,000,000+1,000,000+10,000,000+5,000,000+5,000,000+100,000,000+1,000,000+1,000,000+10,000,000+10,000,000+50,000,000+500,000+1,000,000+100,000,000+5,000,000+5,000,000+10,000,000+50,000,000+50,000,000+10,000,000+10,000,000+10,000,000+50,000,000+10,000,000+100,000,000+5,000,000+50,000,000+10,000,000+1,000,000+10,000,000+1,000,000+10,000,000+10,000,000+5,000,000+10,000,000+10,000,000+1,000,000+5,000,000+5,000,000+5,000,000+10,000,000+5,000,000+5,000,000+1,000,000+5,000,000+10,000,000+1,000,000+1,000,000+5,000,000+1,000,000+10,000,000+10,000,000+10,000,000+1,000,000+1,000,000+5,000,000+10,000,000+5,000,000+10,000,000+100,000+1,000,000+1,000,000+100,000+100,000+100,000+100,000+100,000+100,000+100,000+100,000+100,000+100,000+5,000,000+100,000,000+500,000,000+100,000,000+100,000,000+10,000,000+10,000,000+50,000,000+10,000,000+5,000,000+10,000,000+50,000,000+5,000,000+10,000,000+10,000,000+5,000,000+10,000,000+10,000,000+500,000+1,000,000+5,000,000+50,000,000+5,000,000+10,000,000+500,000+1,000,000+50,000,000+5,000,000+1,000,000+500,000,000+100,000,000+100,000,000+1,000,000,000+100,000,000+1,000,000+10,000,000+10,000,000+50,000,000+100,000,000+100,000,000+100,000,000+100,000,000+10,000,000+5,000,000+1,000,000+500,000,000+500,000,000+100,000,000+10,000,000+10,000,000+100,000,000+100,000,000+100,000,000+100,000,000+50,000,000+10,000,000+10,000,000+100,000,000+10,000,000+50,000,000+1,000,000+50,000,000+100,000,000+10,000,000+10,000,000+100,000,000+100,000,000+50,000,000+500,000,000+100,000,000+100,000,000+10,000,000+5,000,000+10,000,000+100,000,000+100,000,000+50,000,000+1,000,000,000+100,000,000+100,000,000+500,000,000+100,000,000+50,000,000+100,000,000+10,000,000+100,000,000+50,000,000+50,000,000+10,000,000+50,000,000+50,000,000+10,000,000+100,000,000+10,000,000+10,000,000+5,000,000+50,000,000+10,000,000+50,000,000+50,000,000+10,000,000+10,000,000+10,000,000+10,000,000+100,000+10,000,000+10,000,000+100,000,000+1,000,000+100,000,000+1,000,000+1,000,000+5,000,000+10,000,000+10,000,000+10,000,000+10,000,000+100,000,000+5,000,000+5,000,000+10,000,000+100,000+50,000,000+5,000,000+50,000,000+10,000,000+500,000,000+100,000,000+5,000,000+100,000,000+100,000,000+10,000,000+10,000,000+10,000,000+5,000,000+10,000,000+100,000,000+100,000,000+50,000,000+5,000,000+10,000,000+100,000,000+10,000,000+10,000,000+100,000,000+50,000,000+100,000,000+1,000,000+100,000,000+10,000,000+100,000,000+10,000,000+100,000,000+5,000,000+10,000,000+1,000,000+50,000,000+10,000,000+10,000,000+50,000,000+50,000,000+5,000,000+10,000,000+10,000,000+100,000,000+5,000,000+10,000,000+100,000,000+100,000,000+50,000,000+50,000,000+100,000,000+50,000,000+10,000,000+50,000,000+10,000,000+100,000,000+1,000,000+5,000,000+5,000,000+1,000,000+1,000,000+5,000,000+1,000,000+100,000+5,000,000+50,000,000+1,000,000+500,000+10,000,000+500,000+5,000,000+1,000,000+500,000+10,000,000+500,000+1,000,000+50,000,000+10,000,000+1,000,000+10,000,000+5,000,000+1,000,000+5,000,000+500,000+10,000,000+1,000,000+1,000,000+10,000,000+10,000,000+100,000,000+10,000,000+10,000,000+1,000,000+10,000,000+1,000,000+100,000,000+10,000,000+100,000+5,000,000+100,000+10,000+5,000+5,000,000+100,000+1,000,000+1,000,000+5,000,000+1,000,000+1,000,000+1,000,000+1,000,000+5,000,000+500,000+500,000+1,000,000+1,000,000+50,000+1,000,000+1,000,000+10,000,000+100,000+100,000+500,000+500,000+5,000+1,000+500+100,000,000+10,000,000+100,000,000+10,000,000+1,000,000+10,000,000+100,000+10,000,000+1,000,000+5,000,000+500,000+10,000,000+1,000,000+1,000,000+100,000+50,000+50,000,000+500,000+10,000,000+500,000+1,000,000+10,000,000+1,000,000+5,000,000+1,000,000+1,000,000+10,000,000+1,000,000+10,000,000+10,000,000+50,000,000+10,000,000+5,000,000+100,000+10,000,000+5,000,000+10,000,000+1,000,000+50,000,000+1,000,000+10,000,000+1,000,000+10,000,000+5,000,000+10,000,000+10,000,000+10,000,000+5,000,000+1,000,000+50,000,000+1,000,000+10,000,000+500,000+500,000+500,000+100,000+100,000+1,000,000+10,000+10,000,000+500,000+100,000+500,000+10,000+10,000+1,000+10,000,000+5,000,000+1,000,000+1,000,000+1,000,000+100,000+100,000+50,000+500,000+100,000+5,000,000+1,000+100,000+1,000+50,000+1,000+100+100+1,000+5,000+5,000+1,000+10,000+10,000+5,000+10,000,000+1,000,000+1,000,000+1,000,000+100,000+100,000+100,000+5,000,000+100,000+1,000+10,000+10,000+50,000+10,000,000+1,000,000+1,000,000+1,000,000+100,000+100,000+100,000+5,000,000+100,000+1,000+10,000+10,000+50,000+100,000,000+10,000,000+50,000,000+10,000,000+5,000,000+10,000,000+5,000,000+10,000,000+5,000,000+5,000,000+100,000,000+5,000,000+10,000,000+10,000,000+5,000,000+1,000,000+10,000,000+10,000,000+5,000,000+50,000,000+10,000,000+5,000,000+1,000,000+10,000,000+5,000,000+1,000,000+1,000,000+1,000,000+10,000,000+1,000,000+1,000,000+5,000,000+5,000,000+10,000,000+10,000,000+10,000,000+1,000,000+100,000+10,000+10,000+10,000+10,000+10,000+5,000+5,000+100,000+50,000+1,000+10,000+50,000+1,000+1,000+10,000+1,000+1,000+1,000+100+5,000+5,000+1,000+10,000+1,000+100+1,000+500+5,000+1,000+500+1,000+5,000+10,000+1,000+10,000+1,000+5,000+10,000+1,000+1,000+100+50,000+1,000+1,000+5,000+5,000+1,000+10,000+1,000+10,000+1,000+1,000+500+500+1,000+5,000+1,000,000+1,000,000+1,000,000+1,000,000+1,000,000+500,000+50,000+5,000,000+1,000,000+1,000,000+100,000+500,000+10,000+1,000,000+500,000+500,000+5,000,000+50,000+500,000+1,000,000+500,000+100,000+100,000+100,000+100,000+500,000+100,000+1,000,000+1,000,000+50,000+1,000,000+100,000+100,000+100,000+100,000+1,000,000+50,000+100,000+100,000+1,000+500,000+1,000,000+10,000+1,000,000+1,000+100,000+500,000+100,000+50,000+500,000+10,000+1,000,000+100,000+100,000+100,000+100,000+5,000+100,000+100,000+100,000+50,000+1,000+100,000+1,000,000+5,000+10,000+10,000+50,000+100,000+10,000+100,000+100,000+50,000+10,000+10,000+50,000+10,000+10,000+10,000+50,000+100,000+1,000+50,000+1,000+5,000+1,000+1,000+100,000+100,000+100,000+10,000+5,000+10,000+10,000+10,000+5,000+1,000+1,000+1,000+5,000+10,000+1,000+10,000+5,000+100+1,000+10,000+10,000+5,000+100+50,000+5,000+1,000+10,000+1,000+100,000+500+100+500+1,000+100+10+100+5+50+1+50+10+10+5+100+5,000+10+100+100+10+10+5+500,000+100,000+1,000,000+1,000,000+10,000+1,000+10,000+50,000+50,000+1,000+1,000+100,000+100,000+10,000+50,000+100,000+1,000+100,000+100,000+5,000+1,000,000+10,000+500+5,000+10,000+500,000+100+10,000+10,000+100,000+100+5,000+10,000+10,000+50,000+1,000+1,000+1,000+50,000+50,000+100+1,000+50,000+10,000+100,000+1,000+10,000+100,000+5,000+1,000,000+1,000,000,000+1,000,000,000+500,000,000+10,000,000+100,000,000+1,000,000+500,000,000+100,000+100,000,000+10,000,000+1,000,000,000+1,000,000+1,000,000+1,000,000+5,000,000+100,000+1,000,000+5,000,000+5,000,000+1,000,000+5,000,000+10,000,000+5,000,000+1,000,000+500,000+5,000,000+50,000+10,000,000+1,000,000+5,000,000+1,000,000+1,000,000+10,000,000+10,000,000+10,000,000+10,000,000+10,000,000+1,000,000+100,000,000+1,000,000+10,000,000+5,000,000+5,000,000+10,000,000+100,000,000+10,000,000+10,000,000+10,000,000+100,000,000+50,000,000+10,000,000+50,000,000+10,000,000+5,000,000+10,000,000+100,000,000+5,000,000+500,000+100,000+500,000,000+1,000,000,000+1,000,000+500,000+10,000,000+10,000,000+500,000+500,000,000+1,000,000,000+100,000,000+5,000,000+50,000,000+1,000,000+10,000,000+50,000,000+50,000,000+5,000,000+1,000,000+100,000,000+10,000,000+100,000,000+10,000,000+10,000,000+1,000,000+100,000,000+5,000,000+50,000,000+50,000,000+10,000,000+10,000,000+100,000+5,000,000+5,000,000+50,000,000+10,000,000+10,000,000+10,000,000+100,000+5,000,000+50,000,000+50,000,000+10,000,000+10,000,000+50,000,000+100,000,000+10,000,000+10,000,000+10,000,000+10,000,000+1,000,000+5,000,000+10,000,000+100,000,000+10,000,000+10,000,000+10,000,000+5,000,000+100,000,000+10,000,000+100,000,000+50,000,000+100,000,000+50,000,000+50,000,000+1,000,000+10,000,000+5,000,000+5,000,000+1,000,000+1,000,000+10,000,000+50,000,000+10,000,000+10,000,000+1,000,000+5,000,000+10,000,000+1,000,000+10,000,000+1,000,000+10,000,000+50,000,000+10,000,000+10,000,000+10,000,000+10,000,000+10,000,000+10,000,000+10,000,000+10,000,000+50,000,000+10,000,000+10,000,000+10,000,000+10,000,000+100,000,000+5,000,000+1,000,000+5,000,000+1,000,000+1,000,000+1,000,000+1,000,000+10,000,000+500,000+500,000+1,000,000+10,000,000+10,000,000+100,000,000+1,000,000+10,000,000+10,000,000+50,000,000+5,000,000+10,000,000+1,000,000+10,000,000+10,000,000+50,000+1,000,000+1,000,000+10,000,000+10,000,000+1,000,000+5,000,000+1,000,000+1,000,000+10,000,000+50,000,000+1,000,000+10,000,000+100,000+500,000+1,000,000+100,000,000+10,000,000+500,000+500,000+5,000,000+500,000+100,000+10,000,000+1,000,000+10,000,000+1,000,000+100,000,000+10,000,000+5,000,000+10,000,000+5,000,000+1,000,000+10,000,000+100,000,000+5,000,000+1,000,000+1,000,000+5,000,000+500,000+10,000,000+100,000,000+10,000,000+1,000,000+1,000,000+10,000,000+10,000,000+10,000,000+10,000,000+10,000,000+1,000,000+10,000,000+100,000,000+5,000,000+500,000+500,000+1,000,000+5,000,000+5,000,000+1,000,000+10,000,000+50,000,000+100,000,000+500,000+1,000,000+10,000,000+100,000+1,000,000+100,000,000+1,000,000+100,000+1,000,000+10,000,000+5,000,000+100,000,000+5,000,000+1,000,000+500,000+10,000,000+1,000,000+5,000,000+1,000,000+500,000+50,000+1,000,000+1,000,000+1,000,000,000+50,000,000+5,000,000+10,000,000+10,000,000+10,000,000+50,000,000+1,000,000+100,000,000+1,000,000+100,000+5,000,000+1,000,000+5,000,000+1,000,000+1,000,000+5,000,000+50,000,000+500,000+10,000,000+10,000,000+50,000,000+500,000+1,000,000+1,000,000+100,000,000+1,000,000+100,000,000+50,000,000+10,000,000+1,000,000+1,000,000+5,000,000+10,000,000+1,000,000+1,000,000+5,000,000+10,000,000+10,000,000+100,000,000+10,000,000+100,000,000+10,000,000+1,000,000+5,000,000+1,000,000,000+5,000,000+10,000,000+10,000,000+5,000,000+50,000,000+100,000,000+10,000,000+50,000,000+100,000,000+10,000,000+5,000,000+100,000,000+10,000,000+100,000,000+1,000,000+100,000,000+50,000,000+1,000,000+100,000,000+1,000,000+1,000,000+1,000,000+1,000,000+5,000,000+100,000,000+10,000,000+1,000,000+10,000,000+5,000,000+1,000,000+1,000,000,000+5,000,000+10,000,000+10,000,000+5,000,000+5,000,000+10,000,000+10,000,000+10,000,000+5,000,000+1,000,000+10,000,000+10,000,000+100,000,000+10,000,000+10,000,000+10,000,000+1,000,000+50,000,000+5,000,000+100,000,000+10,000,000+100,000+10,000,000+100,000,000+100,000,000+50,000,000+100,000,000+1,000,000+100,000+50,000,000+50,000,000+50,000,000+10,000,000+5,000,000+10,000,000+10,000,000+100,000,000+100,000,000+1,000,000+5,000,000+10,000,000+10,000,000+1,000,000+10,000,000+50,000,000+50,000,000+50,000,000+50,000,000+10,000,000+10,000,000+100,000,000+50,000,000+100,000,000+100,000,000+100,000,000+10,000,000+50,000,000+100,000,000+100,000,000+100,000,000+100,000,000+5,000,000+10,000,000+50,000,000+100,000,000+1,000,000+10,000,000+1,000,000+10,000,000+5,000,000+5,000,000+10,000,000+100,000,000+10,000,000+10,000,000+100,000+10,000,000+5,000,000+50,000,000+10,000,000+10,000,000+500,000+10,000,000+1,000,000+5,000,000+5,000,000+5,000,000+10,000,000+1,000,000+10,000,000+5,000,000+5,000,000+5,000,000+5,000,000+5,000,000+1,000,000+1,000,000+10,000,000+5,000,000+10,000,000+10,000,000+5,000,000+100,000+1,000,000+1,000,000+1,000,000+5,000,000+100,000+500,000+500,000+500,000+1,000,000+10,000,000+100,000+5,000,000+100,000+100,000+500,000+10,000,000+100,000+1,000,000+500,000+5,000,000+100,000+5,000,000+10,000,000+50,000,000+5,000,000+5,000,000+10,000,000+5,000,000+10,000,000+1,000,000+10,000,000+5,000,000+5,000,000+5,000,000+10,000,000+100,000+1,000,000+1,000,000+100,000+1,000,000+100,000+1,000,000+1,000,000+100,000+50,000+500,000+100,000+1,000,000+100,000+100,000+1,000,000+50,000+1,000,000+1,000,000+5,000,000+1,000,000+1,000,000+5,000,000+1,000,000+1,000,000+10,000,000+1,000,000+5,000,000+10,000+50,000+100,000+1,000,000+10,000,000+5,000,000+100,000+1,000,000+10,000+10,000,000+5,000,000+5,000,000+10,000,000+5,000,000+500,000+1,000,000+10,000,000+5,000,000+10,000,000+100,000+5,000,000+10,000,000+5,000,000+50,000,000+500,000+500,000+500,000+10,000+1,000,000+5,000,000+5,000,000+10,000,000+10,000,000+50,000,000+10,000,000+100,000+10,000,000+500,000+1,000,000+5,000,000+1,000,000+5,000,000+1,000,000+10,000,000+1,000,000+5,000,000+5,000,000+1,000,000+1,000,000+1,000,000+10,000,000+10,000,000+50,000,000+5,000,000+1,000,000+500,000+1,000,000+10,000,000+10,000,000+500,000+10,000,000+100,000,000+1,000,000+5,000,000+100,000,000+10,000,000+1,000,000,000+50,000,000+5,000,000+5,000,000+100,000,000+10,000,000+5,000,000+10,000,000+50,000,000+10,000,000+1,000,000,000+10,000,000+10,000,000+10,000,000+1,000,000+1,000,000+1,000,000+5,000,000+500,000+100,000,000+100,000+5,000,000+5,000,000+1,000,000+1,000,000+10,000,000+10,000,000+10,000,000+10,000,000+5,000,000+5,000,000+10,000,000+10,000,000+1,000,000+50,000,000+5,000,000+1,000,000+5,000,000+1,000,000+100,000,000+1,000,000+5,000,000+1,000,000+5,000,000+10,000,000+10,000,000+10,000,000+1,000,000+100,000+1,000+100,000+5,000,000+10,000,000+100,000,000+1,000,000+1,000,000+5,000,000+5,000,000+10,000,000+1,000,000+100,000+1,000,000+5,000,000+5,000,000+1,000,000+1,000,000+5,000,000+1,000,000+5,000,000+1,000,000+10,000,000+5,000,000+5,000,000+1,000,000+1,000,000+10,000,000+1,000,000+10,000,000+5,000,000+1,000,000+1,000,000+1,000,000+1,000,000+5,000,000+100,000+50,000,000+10,000,000+5,000,000+10,000,000+1,000,000+10,000,000+1,000,000+1,000,000+10,000,000+100,000,000+5,000,000+1,000,000+100,000,000+10,000,000+5,000,000+10,000,000+1,000,000+100,000+1,000,000+10,000,000+5,000,000+1,000,000,000+10,000,000+1,000,000+5,000,000+1,000,000+1,000,000+500,000+500,000+1,000,000+1,000,000,000+10,000,000+1,000,000,000+500,000,000+10,000,000+50,000,000+50,000,000+100,000,000+1,000,000+10,000,000+100,000,000+100,000,000+100,000,000+10,000,000+50,000,000+50,000,000+10,000,000+10,000,000+5,000,000+10,000,000+10,000,000+100,000+500,000,000+10,000,000+10,000,000+5,000,000+10,000,000+100,000,000+10,000,000+10,000,000+10,000,000+500,000,000+100,000,000+10,000,000+10,000,000+10,000,000+10,000,000+10,000,000+100,000,000+10,000,000+1,000,000+500,000+10,000,000+10,000,000+50,000+100,000+100,000+10,000,000+10,000,000+1,000,000+5,000,000+1,000,000+10,000,000+50,000,000+10,000,000+100,000,000+10,000,000+50,000,000+10,000,000+5,000,000+50,000,000+10,000,000+5,000,000+5,000,000+50,000,000+5,000,000+10,000,000+5,000,000+5,000,000+1,000,000+1,000,000+1,000,000+1,000,000+10,000,000+10,000,000+1,000,000+5,000,000+1,000,000+100,000+1,000,000+100,000+50,000,000+5,000,000+1,000,000+1,000,000+50,000,000+10,000,000+1,000,000+1,000,000+5,000,000+5,000,000+10,000,000+500,000,000+10,000,000+50,000,000+100,000,000+10,000,000+10,000,000+1,000,000+100,000,000+10,000,000+1,000,000+1,000,000+10,000,000+5,000,000+1,000,000+1,000,000+10,000,000+10,000,000+100,000,000+10,000,000+1,000,000+1,000,000+10,000,000+100,000,000+10,000,000+10,000,000+1,000,000+50,000,000+1,000,000+100,000,000+5,000,000+100,000+5,000,000+5,000,000+1,000,000+100,000,000+500,000+1,000,000+1,000,000+1,000,000+50,000,000+1,000,000+10,000,000+10,000,000+10,000,000+10,000,000+10,000,000+10,000,000+10,000,000+100,000,000+10,000,000+10,000,000+500,000+10,000,000+10,000,000+1,000,000+1,000,000+50,000,000+1,000,000+10,000,000+100,000,000+500,000+1,000,000+1,000,000+10,000,000+5,000,000+5,000,000+500,000+500,000+5,000,000+100,000+500,000+100,000+100,000,000+10,000,000+50,000,000+5,000,000+1,000,000+1,000,000+1,000,000+1,000,000+1,000,000+5,000,000+10,000+10,000,000+5,000,000+10,000,000+5,000,000+10,000,000+5,000,000+1,000,000+10,000,000+10,000,000+10,000,000+10,000,000+10,000,000+10,000,000+10,000,000+5,000,000+100,000,000+100,000,000+1,000,000+5,000,000+50,000,000+1,000,000+1,000,000+1,000,000+1,000,000+5,000,000+1,000,000+50,000,000+10,000,000+10,000,000+10,000,000+1,000,000+10,000,000+10,000+100,000+10,000,000+10,000,000+10,000,000+100,000,000+1,000,000+10,000,000+1,000,000+500,000,000+10,000,000+100,000,000+10,000,000+1,000,000,000+10,000,000+10,000,000+100,000,000+10,000,000+100,000,000+5,000,000+1,000,000+10,000,000+100,000,000+50,000,000+100,000,000+10,000,000+100,000,000+5,000,000+100,000,000+10,000,000+10,000,000+1,000,000+500,000,000+10,000,000+10,000,000+500,000,000+100,000,000+10,000,000+5,000,000+5,000,000+5,000,000+100,000,000+10,000,000+50,000,000+10,000,000+100,000,000+5,000,000+50,000,000+100,000,000+50,000,000+50,000,000+50,000,000+100,000,000+1,000,000+50,000,000+1,000,000+500,000+1,000,000+1,000,000+10,000,000+1,000,000+10,000,000+1,000,000+10,000,000+1,000,000+1,000,000+100,000,000+10,000,000+5,000,000+100,000,000+10,000,000+1,000,000+10,000,000+100,000,000+1,000,000+50,000,000+100,000+5,000,000+10,000,000+1,000,000+1,000,000+500,000,000+1,000,000,000+100,000,000+10,000,000+100,000,000+100,000,000+100,000,000+10,000,000+100,000,000+100,000,000+100,000,000+500,000,000+100,000,000+100,000,000+5,000,000+1,000,000+5,000,000+1,000,000+10,000,000+1,000,000+5,000,000+10,000,000+1,000,000+100,000,000+10,000,000+100,000,000+10,000,000+10,000,000+100,000,000+500,000+1,000,000+1,000,000+1,000,000+1,000,000+1,000,000+5,000,000+5,000,000+1,000,000+10,000,000+5,000,000+500,000,000+10,000,000+100,000+1,000,000,000+5,000,000+100,000,000+100,000+500,000,000+1,000,000+1,000,000+1,000,000+5,000,000+500,000,000+10,000+5,000,000+1,000,000+100,000+10,000+1,000,000+50,000+100,000+1,000,000+10,000+1,000,000+1,000,000+10,000+50,000+10,000+50,000+1,000,000+500,000+100,000+100,000+100,000+100,000+1,000,000+5,000+500,000+100,000+10,000+500,000+10,000+100,000+1,000,000+100,000+100,000+100,000+1,000,000+1,000,000+100,000+1,000,000+100,000+10,000+1,000,000+50,000,000+1,000,000+50,000,000+10,000+10,000,000+1,000,000+10,000,000+1,000,000+1,000,000+1,000,000+10,000,000+5,000,000+500,000+10,000,000+1,000,000+5,000,000+5,000,000+1,000,000+10,000,000+5,000,000+1,000,000+5,000,000+1,000,000+50,000,000+1,000,000+100,000+10,000,000+1,000,000+10,000,000+500,000+1,000,000+10,000,000+100,000+1,000,000+500,000+500,000+5,000,000+100,000+1,000,000+1,000,000,000+1,000,000+10,000,000+1,000,000+1,000,000+100,000,000+10,000,000+100,000,000+100,000+500,000+100,000,000+10,000,000+50,000,000+1,000,000+1,000,000+10,000,000+1,000,000+5,000,000+1,000,000+10,000,000+10,000,000+50,000,000+1,000,000,000+10,000,000+1,000,000+50,000,000+50,000,000+1,000,000+50,000,000+5,000,000+1,000,000+5,000,000+1,000,000+1,000,000+1,000,000+10,000,000+10,000,000+10,000,000+500,000,000+1,000,000+1,000,000+1,000,000+1,000,000+10,000+100,000+500,000,000+5,000,000+10,000,000+1,000,000+10,000,000+10,000,000+1,000,000+1,000,000+10,000,000+1,000,000+1,000,000+5,000,000+1,000,000+10,000,000+5,000,000+10,000,000+1,000,000+10,000,000+50,000,000+1,000,000+500,000+1,000,000+10,000,000+10,000,000+100,000+1,000,000,000+10,000,000+10,000,000+500,000,000+10,000,000+500,000+500,000+1,000,000+1,000,000+1,000,000+1,000,000+5,000,000+5,000,000+50,000+1,000,000+1,000,000+1,000,000+1,000,000+5,000,000+500,000,000+1,000,000+1,000,000+5,000,000+1,000,000+1,000,000+500,000+1,000,000+10,000+1,000,000+1,000,000,000+5,000,000+500,000,000+1,000,000+100,000+1,000,000+100,000+5,000,000+1,000,000+1,000,000+1,000,000+5,000,000+10,000,000+100,000+1,000,000+10,000,000+1,000,000+1,000,000+1,000,000+10,000,000+10,000,000+100,000+1,000,000+5,000,000+500,000+5,000,000+1,000,000+10,000,000+1,000,000+10,000,000+10,000,000+500,000,000+10,000,000+10,000,000+1,000,000+10,000,000+1,000,000+10,000,000+1,000,000+100,000+1,000,000+1,000,000+5,000,000+5,000,000+1,000,000+1,000,000+10,000,000+10,000,000+5,000,000+10,000,000+10,000,000+1,000,000,000+1,000,000+5,000,000+500,000,000+100,000,000+5,000,000+10,000,000+10,000,000+5,000,000+5,000,000+1,000,000+100,000,000+50,000,000+500,000+10,000,000+1,000,000+1,000,000+1,000,000+10,000,000+1,000,000+100,000+5,000,000+5,000,000+5,000,000+5,000,000+1,000,000+1,000,000+1,000,000+1,000,000+100,000+100,000+1,000,000+1,000,000+5,000,000+1,000,000+1,000,000+5,000,000+1,000,000+1,000,000+5,000,000+1,000,000+5,000,000+1,000,000+1,000,000+10,000,000+100,000+5,000,000+1,000,000+1,000,000+10,000,000+50,000+1,000,000+1,000,000+5,000,000+500,000,000+10,000,000+50,000,000+1,000,000+1,000,000+500,000+10,000,000+50,000,000+5,000,000+500,000,000+100,000,000+1,000,000+10,000+100,000,000+10,000,000+50,000,000+500,000+10,000+500,000,000+100,000,000+10,000+500,000+50,000,000+500,000+5,000,000+100,000,000+1,000,000,000+100,000,000+1,000,000+500,000+10,000,000+50,000,000+50,000,000+50,000+1,000,000,000+10,000,000+100,000,000+500,000,000+100,000,000+1,000,000,000+100,000,000+50,000,000+100,000,000+100,000,000+10,000,000+10,000,000+100,000,000+500,000+500,000+10,000,000+50,000,000+50,000,000+100,000,000+10,000,000+10,000,000+1,000,000+5,000,000+5,000,000+1,000,000,000+5,000,000+100,000,000+500,000+10,000,000+500,000+500,000,000+5,000,000+10,000,000+500,000+1,000,000+1,000,000+100,000,000+100,000,000+5,000,000+1,000,000,000+1,000,000+100,000,000+100,000,000+1,000,000+1,000,000+10,000,000+50,000+100,000,000+50,000,000+100,000,000+10,000+10,000+10,000,000+100+10,000,000+50,000,000+10,000+500,000+1,000,000+5,000+10,000+1,000+50,000,000+100+50,000+50,000+500,000,000+50,000+100,000,000+50,000,000+100,000,000+10,000,000+1,000+1,000+5,000+50,000,000+100,000+50,000+1,000+500+100,000,000+100,000,000+1,000,000+1,000,000+50,000+100,000+10,000,000+50,000+500,000,000+1,000,000+1,000,000,000+10,000+50,000+1,000,000+10,000,000+50,000+1,000+10,000+100,000+500,000,000+10,000+1,000,000+10,000+100,000+1,000+5,000+50,000+5,000+10,000+100,000+5,000+100,000,000+10,000+100,000+100,000+50,000+1,000+100,000+5,000+5,000+50,000+5,000+10,000+10,000+5,000+100,000,000+100,000,000+10,000,000+10,000,000+10,000,000+100,000,000+100,000,000+50,000,000+500,000,000+100,000,000+500,000,000+50,000,000+100,000,000+100,000,000+100,000+50,000,000+100,000+500,000,000+50,000,000+10,000,000+100,000,000+100,000,000+1,000,000+100,000,000+100,000,000+100,000,000+100,000+500,000+100,000,000+50,000,000+100,000,000+1,000,000+10,000,000+10,000,000+5,000,000+100,000+1,000,000+100,000,000+10,000,000+10,000,000+5,000,000+100,000,000+10,000,000+100,000,000+1,000,000+10,000,000+500,000+500,000+10,000,000+100,000,000+100,000+500,000+100,000,000+100,000,000+100,000+5,000,000+100,000,000+100,000,000+10,000,000+10,000,000+500,000+1,000,000+100,000+5,000,000+5,000,000+1,000,000,000+500,000+1,000,000,000+100,000,000+10,000,000+100,000,000+100,000,000+1,000,000+1,000,000,000+500,000,000+100,000,000+50,000,000+10,000+500,000+1,000,000+100,000,000+100,000+5,000+50,000+500,000,000+100,000+50,000+50,000+500,000+1,000+50,000+500,000,000+100,000,000+500,000+5,000+50,000,000+10+100,000+5,000+500,000+100,000+500,000+10,000+50,000+500,000+500+10,000,000+5,000+10,000+1,000,000,000+50,000,000+50,000,000+500,000,000+50,000,000+5,000,000+1,000,000,000+100,000,000+100,000+1,000,000,000+1,000,000+100,000+5,000+10,000+1,000+50,000,000+5,000,000+1,000+100,000+500,000+100,000+100+100+10,000+50,000+5,000+1,000,000,000+50,000+5,000+500+50,000+5,000+50,000+500+1,000+10,000+100+100,000,000+5,000,000+100,000+10,000,000+10,000,000+100,000+100,000,000+5,000+5,000+1,000,000+500+1,000+500,000+10,000+5,000+100+1,000,000+5,000+5,000,000+10,000+10,000+10,000+10,000,000+50,000+1,000,000+100+1,000+10,000+100,000,000+50,000+50,000+10,000+1,000,000+50,000+100,000,000+10,000,000+500,000+5,000,000+500,000,000+500,000+50,000,000+1,000,000+1,000,000+100,000,000+1,000,000+100,000,000+500,000+10,000,000+50,000,000+10,000,000+1,000,000,000+100,000,000+1,000,000+5,000,000+5,000,000+10,000,000+5,000,000+10,000,000+5,000,000+10,000,000+10,000,000+1,000,000+1,000,000+100,000,000+10,000,000+100,000,000+100,000+10,000+50,000,000+10,000+10,000,000+50,000,000+100,000,000+10,000+100,000+1,000,000+50,000,000+10,000,000+1,000+50,000+1,000+10,000,000+1,000+10,000+1,000+1,000+10,000+10,000+10,000+100,000,000+50,000+500,000+10,000+100,000+50,000,000+10,000,000+100,000+10,000,000+1,000+100,000+100,000+100,000+100,000+500+5,000+1,000,000+500,000+100,000+1,000+1,000+10,000,000+1,000+100,000,000+1,000+100,000+10,000+5,000+1,000+10,000+5,000+1,000,000+100,000+100+10,000+10,000+10,000+10,000,000+100,000,000+50,000,000+50,000,000+5,000,000+50,000,000+50,000,000+10,000,000+500,000+100,000,000+1,000,000+50,000+50,000+100,000+10,000,000+1,000,000+500,000+1,000,000+100,000,000+10,000,000+100,000+100,000+50,000+10,000,000+10,000,000+100,000+50,000,000+10,000,000+10,000,000+1,000,000+10,000+1,000,000+1,000,000+50,000,000+100,000+50,000,000+10,000+100,000+1,000+10,000+100,000+5,000+10,000+50,000+5,000+500,000,000+100,000+10,000+1,000,000+10,000,000+100,000+10,000+10,000+10,000+100,000+10,000+10,000+10,000,000+10,000+1,000,000+100,000+5,000,000+1,000,000+1,000,000+500,000+1,000,000+10,000+10,000,000+10,000+50,000+1,000,000+1,000+100,000+100,000+10,000+5,000+1,000,000+100,000+5,000,000+5,000,000+10,000+1,000,000+1,000,000+1,000+500,000+10,000+50,000+1,000,000+50,000+1,000+100,000+10,000+100,000+100,000+10,000+50,000+1,000+5,000+10,000+10,000+1,000,000+100,000,000+100,000,000+10,000+100,000+1,000,000+10,000,000+10,000+50,000+10,000+100,000+50,000+100+50,000+1,000,000+500,000+5,000+1,000,000+100,000+100,000+5,000+500,000+10,000,000+100,000+50,000+10,000,000+10,000,000+100,000,000+1,000+100+100+1,000+100,000+1,000,000+100+500+100+10,000+5,000+10,000,000+100+10,000+100+50,000+500+5,000+10,000+100,000,000+100,000+100+1,000+10,000+100,000+10,000+1,000+10,000+10,000+5,000+500+10,000+5,000+100,000+500,000+1,000,000+500,000+500,000+10,000+50,000+1,000,000+1,000,000+10,000,000+1,000,000+10,000,000+500,000+100,000+1,000+100+5,000+10,000+100,000+10,000+500,000+10,000+100,000+100,000+50,000,000+10,000,000+1,000+50+10,000+10,000+5,000+5,000+100,000+100,000,000+100,000+10,000+1,000+1,000+500,000+1,000+100,000+1,000,000+1,000+10,000+10,000+50,000+10,000+1,000+100,000+5,000+50+100,000+5,000+100,000+1,000+5,000+50,000+100,000+100+100,000+500,000,000+1,000,000+100,000,000+1,000,000+1,000,000+1,000+100,000+10,000,000+100,000,000+10,000,000+1,000,000+1,000+100,000,000+1,000,000+50,000,000+500,000+50,000+50,000+1,000,000+100+100,000,000+100,000,000+10,000,000+50,000,000+10,000,000+10,000,000+100,000,000+50,000,000+1,000,000+1,000,000+10,000+100,000+1,000,000+1,000,000+10,000,000+5,000,000+100,000,000+10,000,000+500,000+50,000,000+10,000+10,000,000+10,000+10,000,000+1,000,000+5,000,000+100,000+10,000+10,000,000+1,000+5,000+5,000+5,000,000+10,000+1,000+10,000+100,000+1,000,000+5,000+50,000+1,000,000+1,000,000+1,000,000+500,000+5,000,000+10,000,000+10,000,000+100,000,000+100,000,000+500,000+10,000+5,000+100,000+10,000+50,000+50,000+50,000+100,000+1,000+500,000+10,000+100,000+500,000+5,000+10,000+10,000+100,000+10,000+100,000+50,000+10,000,000+10,000+500,000+5,000+10,000+100,000+100,000+10,000+100,000+100,000+100,000+500,000+100,000+5,000+10,000+10,000,000+1,000,000+50,000,000+100,000+5,000,000+500,000,000+1,000,000+100,000+500,000+10,000,000+100,000,000+10,000,000+50,000,000+1,000,000+50,000,000+50,000,000+100,000+100,000,000+500,000+5,000+100,000+1,000,000+100,000+100,000+100,000+100,000,000+1,000,000+10,000+50,000+10,000+1,000+100,000+500,000+5,000+5,000+10,000+50,000+100,000+100,000+10,000+100,000,000+5,000+5,000+100,000,000+500+100,000,000+10,000,000+5,000+100,000,000+1,000+50,000,000+50,000+10,000,000+50,000,000+10,000+10,000,000+5,000+100,000+10,000,000+10,000+1,000,000+10,000+1,000,000+5,000+5,000,000+50,000+10,000,000+10,000,000+5,000,000+10,000+10,000,000+10,000+100,000,000+50,000,000+5,000,000+5,000,000+100,000,000+100,000+5,000,000+100,000+5,000,000+100,000+50,000+5,000+10,000,000+1,000,000+1,000,000+10,000+100,000+1,000,000+5,000,000+10,000,000+1,000+500,000+10,000+1,000,000+100,000+10,000+1,000,000+1,000,000+500,000+5,000+50,000+100,000+500,000+1,000,000+10,000+100,000+1,000+1,000,000+1,000,000+1,000,000+100,000+100,000+500,000+100,000+10,000+100,000+100,000+1,000,000+50,000,000+500,000+10,000,000+10,000,000+100,000,000+50,000,000+10,000,000+100,000,000+10,000,000+10,000,000+1,000,000+5,000,000+5,000,000+5,000,000+5,000,000+100,000,000+100,000,000+10,000,000+1,000,000+100,000,000+50,000+10,000,000+10,000,000+10,000,000+5,000,000+50,000,000+1,000,000+1,000,000+50,000,000+10,000,000+1,000,000+100,000,000+5,000,000+100,000+10,000,000+1,000,000+1,000,000+5,000,000+50,000+10,000+100,000+1,000+100,000+500,000+1,000,000+10,000+1,000,000+10,000+5,000,000+1,000,000+10,000+10,000+1,000,000+500,000+100,000+5,000+1,000,000+10,000+5,000,000+10,000,000+500,000+10,000,000+1,000+1,000,000+10,000,000+5,000,000+10,000,000+10,000,000+1,000,000+100,000,000+100,000+100,000+100,000+50,000+100,000,000+10,000,000+5,000+10,000,000+1,000,000+50,000,000+1,000,000+10,000+100,000+500,000+10,000+100,000+1,000+10,000+100,000+50,000+50,000,000+10,000+1,000,000+100,000,000+10,000+1,000,000+1,000+1,000,000+1,000,000+10,000+1,000,000+100,000+500,000+500,000+100,000+1,000,000+500,000+100,000+5,000+10,000+1,000,000+50,000+100,000+10,000+10,000+10,000+100,000+5,000+50,000+5,000+50,000+1,000,000+100,000+10,000+100,000+100,000+50,000+10,000+10,000+10,000+1,000,000+100,000+10,000,000+1,000,000+100,000+100,000+50,000+1,000+50,000+100,000+1,000+10,000+1,000,000+500,000+10,000,000+500,000+1,000,000+1,000,000+10,000+500,000+10,000,000+50,000,000+1,000,000+10,000+50,000+50,000+1,000,000+10,000+50,000+1,000,000+10,000+50,000+1,000,000+10,000+100,000+1,000+10,000+1,000,000+10,000+100,000+100,000+1,000+100,000+5,000+1,000,000+100+5,000,000+500,000+50,000+1,000+50,000+5,000,000+10,000+100,000+100,000+1,000+100,000+100,000+100,000+5,000,000+10+10,000,000+1,000,000+1,000,000+5,000,000+50,000+100,000+5,000+10,000+100,000+1,000,000+500,000+50,000+500,000+1,000,000+100,000+1,000,000+100,000+1,000,000+50,000+50,000+500,000+100,000+1,000,000+1,000+10,000+5,000,000+1,000+1,000+100,000+100,000+10,000+10,000+10,000+10,000+10,000,000+10,000+10,000+1,000,000+500,000+50,000+10,000+1,000+5,000,000+10,000+1,000+10,000,000+10,000+10,000+5,000+100+10,000,000+1,000+100,000+10,000+10,000+1,000+5,000,000+10,000,000+500+10,000+5,000+100,000,000+10,000,000+500,000+10,000,000+5,000,000+1,000+1,000,000+1,000+1,000,000+5,000,000+1,000+10,000,000+10,000,000+10,000,000+10,000,000+5,000,000+100,000,000+10,000,000+1,000,000+1,000,000+500,000+1,000,000+500+10,000+10,000+5,000+10,000+10,000+1,000+5,000+100,000+5,000+1,000+10,000+1,000+100+50+10,000+100+10,000+500+50,000+100+100,000+1,000+10,000+50,000+100+10,000+100+100+100,000+100+5,000+100+50+100+500+100,000+100,000+100+50,000+1,000,000+100,000+50,000+5,000+1,000,000+1,000+50,000+1,000,000+10,000+100,000+10,000+50,000+50,000+1,000,000+10,000+1,000,000+10,000+5,000+100+1,000+1,000+100+1,000+100,000+100,000+500+1,000,000+1,000+100,000+5,000+5,000,000+10,000,000+100+100,000+100+1,000+5,000+1,000+10,000+500+10,000+5,000,000+50,000+50,000+100,000+10,000+1,000,000+100+1,000,000+500+10,000+100+500+500+1,000+1,000+100+10+10+10,000+100+100+5,000+50+1,000+10+100,000+50+500,000+10+100,000+100,000+500,000+50,000+1,000+10,000+1,000+5,000+10,000+10,000,000+50,000+10,000+500+1,000,000+1,000+100+10,000,000+10,000,000+10,000+5,000+500+5,000+10,000+5,000,000+100+5,000,000+1,000+50,000+10,000,000+50,000+50,000+1,000+10,000+10,000+10,000+10,000,000+50,000+500,000+10,000,000+10,000,000+10,000,000+1,000,000+100,000+1,000,000+50,000+1,000,000+100,000+1,000,000+5,000,000+100,000+5,000,000+500,000+10,000+50,000+500,000+1,000,000+1,000,000+10,000+1,000,000+100,000+50,000+10,000,000+50,000+50,000+100,000+10,000,000+100,000+100,000+10,000+10,000,000+10,000+10,000+50,000+1,000+1,000+5,000+1,000+10,000+5,000+1,000,000+1,000+1,000+10,000+10,000+10,000+5,000+10,000+5,000+100,000+1,000+100,000+100,000+100,000+500,000+10,000+1,000,000+1,000,000+10,000,000+100,000+10,000,000+10,000,000+10,000,000+5,000,000+10,000,000+10,000,000+10,000,000+1,000,000+5,000,000+10,000,000+5,000,000+5,000,000+1,000,000,000+10,000,000+5,000,000+1,000,000+10,000,000+1,000,000+100,000+1,000,000+5,000+1,000+1,000,000+10,000+10,000,000+100,000+1,000,000+100,000+100,000+1,000,000+10,000,000+10,000,000+100,000,000+10,000,000+10,000,000+5,000,000+1,000,000+5,000,000+5,000,000+10,000,000+5,000,000+100,000+10,000,000+1,000,000+10,000,000+10,000,000+100,000+10,000,000+10,000,000+5,000,000+1,000,000+1,000,000+10,000,000+50,000,000+10,000+100,000+100,000+10,000,000+5,000,000+10,000,000+10,000+10,000,000+1,000,000+1,000,000+5,000+1,000+100,000+10,000+10,000+10,000+10,000+5,000+5,000+1,000+5,000+10,000+500,000+100,000+1,000+10+100,000+10,000+10,000+5,000+10,000+10,000+10,000+1,000,000+100+500+5,000+1,000+100+50,000+10+1,000,000+5,000+5,000+1,000+10+1,000,000+1,000+1,000,000+100,000+500,000+100,000+500+500+10,000+1,000+10,000,000+50+1,000+10+50,000,000+10,000+1,000,000+10,000,000+10,000,000+50,000,000+10,000,000+5,000,000+1,000,000+10,000,000+5,000,000+10,000,000+1,000,000+5,000,000+5,000,000+10,000+100,000+1,000,000+5,000,000+1,000,000+50,000+10,000,000+1,000,000+5,000,000+10,000,000+100,000+1,000+10,000,000+100,000+50,000+5,000,000+10,000,000+1,000,000+100,000+100,000+50,000,000+10,000+100,000+10,000+10,000+10,000+1,000,000+5,000+10,000+1,000+5,000+10,000+1,000,000+1,000,000+5,000+10,000+1,000+100,000+1,000+5,000+1,000,000+10,000+50,000+10,000+1,000,000+5,000,000+100,000+100,000+1,000,000+100,000+10,000+10,000,000+10,000,000+100,000+50,000+500,000+50,000+1,000+5,000,000+10,000,000+10,000,000+5,000,000+5,000,000+10,000,000+10,000,000+10,000,000+500,000,000+5,000,000+10,000,000+5,000,000+5,000,000+100,000,000+5,000,000+5,000,000+1,000,000+50,000,000+50,000,000+5,000,000+1,000,000+10,000,000+10,000,000+10,000,000+50,000,000+5,000,000+500,000+1,000,000+1,000,000+10,000,000+10,000,000+1,000,000+5,000,000+5,000,000+5,000,000+5,000,000+1,000,000+5,000,000+1,000,000+500,000+100,000+5,000,000+1,000,000+1,000,000+1,000,000+1,000,000+100,000+10,000,000+100,000+1,000,000+500,000+100,000+5,000,000+100,000+100,000+100,000+500,000+100,000+10,000+100,000+100,000+50,000+1,000,000+100,000,000+1,000,000+1,000,000+10,000+1,000+1,000,000+100,000+50,000+100,000+10,000+10,000+1,000+100,000+1,000,000+100,000+100,000+1,000+10,000+100,000+10,000+1,000+50,000+10,000+1,000+1,000,000+500,000+10,000+100,000+1,000+10,000+1,000,000+1,000,000+10,000+50,000+100,000,000+100,000+100,000+10,000+5,000+1,000+1,000+10,000,000+1,000+10,000,000+10,000+100,000+5,000+100,000+1,000,000+50,000+1,000+5,000+10,000,000+50,000+50,000+10,000+1,000+50,000,000+10,000,000+50,000+10,000+10,000+5,000+1,000+10,000+1,000,000+10,000,000+5,000+10,000,000+1,000,000+100+100,000+1,000+1,000,000+5,000+100,000+100,000+100,000+50,000+500+1,000,000+1,000+100,000+50,000+1,000+100,000+500+5,000+50,000+1,000,000+5,000,000+1,000+100,000+5,000+10,000,000+10,000+10,000,000+100,000+1,000,000+100,000+100,000+100,000+1,000+100+1,000+1,000,000+100,000+10,000+100,000+500,000+10,000+1,000,000+10,000+10,000+100,000+5,000+100,000+50,000+1,000+50+5,000+5,000+10,000+1,000,000+10+50,000+50,000+10,000+1,000+100,000+10,000+1,000+500,000+500+1,000+1,000+100+500,000+100+5,000+5,000+100+5,000+100+500+500,000+10,000+10,000+1,000+10,000+100,000+10,000+1,000+1,000,000,000+10,000+1,000,000+10,000,000+5,000,000+10,000,000+10,000,000+10,000,000+10,000,000+10,000,000+5,000,000+5,000,000+10,000,000+100,000+10,000+1,000,000+1,000,000+100,000+500,000+5,000+10,000+10,000+10,000+10,000+1,000+500+100,000+10,000+1,000+10,000+500+10,000+50,000+10,000+10,000+1,000+100+1,000+10,000+10,000+1,000,000+100,000+1,000+5,000+10,000+100,000+5,000+10,000+10,000+50,000+1,000+1,000,000+1,000+500+5,000+1,000+5,000+500,000+1+10,000+10,000+10,000+10,000+100,000+10,000+10,000+10,000+50,000+1,000+100,000+10,000+50,000+50,000+50,000+10,000+100+1,000+5,000+1,000,000+100,000+10,000,000+100,000+100,000,000+5,000,000+100,000+10,000,000+5,000+500,000+1,000+100,000+1,000+1,000+100+1,000+5,000+5,000,000+50,000+50+500+100+500+1,000,000+1,000+50,000+5,000+10,000+50+10,000+500+1,000+100,000+1,000+1,000+1,000+500+100+1,000+1,000+500+100,000+500+100+1,000+5,000,000+1,000,000+10,000+5,000+1,000,000+500,000+500,000+10,000+10,000+5,000+500,000+50,000+1,000+5,000+10,000+100,000+1,000+10,000+1,000+1,000+10,000+500+500+100+1,000+100,000+50,000+5,000+50,000+10,000+500+10,000+500,000+100,000+5,000+100+100,000+100,000+5,000+500,000+10,000+1,000,000+100,000+500+5,000+100+10+500+100+100,000+100,000+10,000,000+500,000+100,000+100,000,000+100+1,000+50,000+100,000+10,000,000+100,000+1,000+10,000+5,000,000+100,000+1,000,000+1,000+50,000,000+50,000,000+100,000+50,000,000+5,000,000+5,000+5,000+100,000+10,000,000+10,000+50,000,000+100,000+10,000,000+10,000,000+1,000,000+5,000,000+1,000,000+10,000,000+10,000,000+10,000,000+1,000+10,000+10,000+10,000+50,000+1,000,000+50,000+100,000+5,000,000+10,000,000+10,000+1,000+100,000+50,000+1,000+5,000,000+100,000+1,000,000+500,000+1,000+1,000+100,000+5,000+1,000,000+5,000+10,000+50+50,000+50,000+100,000+1,000,000+100,000+1,000+10,000+1,000+500+1,000+10,000+500+100,000+1,000+100+1,000+10,000+5,000+10,000+10,000,000+1,000+1,000+5,000+100+1,000+1,000+100,000+50,000+1,000,000+1,000,000+500+1,000+100+1,000+1,000,000+5,000,000+100,000+50,000+10+10,000,000+100,000+5,000,000+1,000+10,000+500,000+1,000,000+1,000,000+5,000,000+100,000+10,000+10,000+100,000+100+100,000+100,000,000+100,000+50,000+10,000,000+50,000+100,000+1,000,000+500,000+10,000,000+1,000,000+5,000,000+10,000+100,000+100,000+500+100,000+1,000,000+10,000+1,000+1,000+10,000+500+1,000+100,000+10+100,000+10+1,000+1,000+5,000+10,000+1,000+50,000+50,000+1,000,000+50,000+1,000+10,000+500+5,000+100,000+500,000+100,000+10,000+1,000+5,000+10,000+100,000,000+1,000+10,000+100+10,000+10,000+100+10,000+1,000+10,000+10,000,000+5,000+5,000+1,000,000+1,000,000+10,000,000+50+10,000,000+10,000,000+10,000,000+50,000,000+10,000,000+10,000,000+10,000,000+50,000,000+5,000,000+5,000,000+10,000,000+1,000,000+10,000,000+10,000,000+5,000,000+5,000,000+100,000+500,000+10,000+10,000+50,000+500+10,000+100+500+1,000+5,000+50,000+1,000+10,000+500,000+10,000+5,000,000+50,000+10,000,000+100+1,000,000+500+10,000,000+10,000,000+100+10+1,000,000+1,000,000+100+100,000+10,000+100,000+100,000+100,000+500,000+100,000+100,000+5,000,000+5,000,000+100,000+5,000+10,000+5,000+50+100+100,000+1,000+10,000+500+100+100,000,000+100,000+1,000+1,000+10,000+1,000+10,000+1,000+1,000+10,000+5,000+10,000+50,000+10,000+10,000+10,000+100+5,000+10,000+1,000+10,000+50+500,000+10,000+10,000+100,000+10,000+10,000+100,000+1,000,000+1,000,000+5,000+10,000+100,000+100,000+10+100,000+50,000+10,000+100,000+100,000+1,000+10,000+1,000+100+10,000+500,000+50,000+5,000+100+10,000+500+10,000+1,000+10,000+1,000+100+500+10,000+100,000+100,000,000+1,000,000+50,000+1,000,000+50,000+100,000+100+1,000+10,000+500+10,000+10,000+50,000+100,000+1,000+1,000+100+10,000+100,000+500+100,000+1,000+100+1,000,000+1,000,000+10,000+100+1,000+10+10+500+1,000+10,000,000+500,000+100,000+500,000+100,000+100,000+10,000+100+10,000+500,000+5,000+10,000+1,000+100+10,000+10,000+5,000+1,000+5,000+50,000+10,000+5,000+5,000+10,000+1,000+1,000+5,000+50,000+1,000+5,000+10,000+1,000+10,000+1,000+10,000+10,000+5,000+1,000+100,000,000+100,000+1,000,000+1,000+10,000+50,000,000+50,000,000+1,000+100,000,000+10,000+500+100,000+5,000,000+10,000,000+10,000+1,000,000+1,000+1,000,000+1,000,000+1,000+10,000,000+5,000,000+10,000,000+10,000+5,000,000+5,000+10,000,000+50,000,000+50,000,000+1,000,000+10,000+10,000+10,000+10,000+5,000,000+1,000,000+500,000+1,000+1,000+1,000,000+100,000+10,000,000+1,000+10,000+1,000+10,000+10,000+10,000+1,000+500+1,000+100+50+1,000+500,000+5,000+1,000+1,000+1,000+1,000+100,000+50,000+1,000+1,000+1,000+1,000+10,000+50+500,000+10,000+1,000,000+1,000,000+5,000+1,000,000+100+5,000+1,000,000+1,000+1,000+5,000,000+100+50+10,000+5,000+50,000+5,000+100,000+100,000+10,000,000+1,000+500,000+1,000,000+10,000+10,000,000+1,000,000+50,000+5,000,000+5,000,000+100,000+1,000,000+1,000,000+100,000+50,000+10,000,000+100,000+5,000+5,000+10,000+1,000+500+5,000+100,000+10,000+100,000+10,000+100,000+100+5+50,000+10,000+10,000,000+100,000+10,000+100,000+5,000,000+1,000,000+1,000,000+10,000+10,000,000+10,000+10,000,000+100,000+1,000,000+50,000+1,000+1,000,000+500,000+50+50+1,000+50,000+5,000+100+10,000+100+5,000+1,000+50,000+50+100,000+10,000+50,000+10,000+100,000+100,000+1,000,000+100,000+10,000+10,000+1,000+1,000,000+1,000+5,000,000+100,000+1,000,000+1,000+500,000+5,000+10,000+10,000+10,000+5,000+500,000+50,000+10,000+10,000,000+1,000,000+100,000+500+5,000,000+500+500+1,000,000+1,000+1,000,000+500,000+1,000+10,000+10,000+100,000+500+10,000+10,000+5,000+1,000,000+50,000+500+50,000+100+5,000+1,000,000+1,000+10,000+10,000+10+1,000+10,000+1,000+1,000,000+500+1,000+1,000+100+1,000+500+500+50,000,000+10,000+1,000+100,000,000+100+100+100+1,000,000+1,000+100,000+100+500+100+10+500,000+100,000+10,000,000+5,000,000+100,000+10,000+5,000,000+100,000+50,000+1,000+1,000,000+1,000,000+100,000+1,000+5,000+1,000+10,000+50,000+100,000+10,000+1,000+5,000+100,000+10,000+100,000+1,000+5,000+5,000+1,000,000+100+1,000,000+1,000,000+50+10+10,000+1,000+10,000+100,000+1,000+50,000+1,000+5,000+10,000+1,000+1,000,000+500,000+50,000+5,000+10,000+1,000,000+10,000+100+5,000+100+10,000+100+50+5,000+5,000+1,000+1,000+10,000+500+100,000+5,000,000+1,000,000+500+10,000,000+5,000,000+1,000,000+1,000+10,000+1,000,000+10,000,000+10,000,000+5,000+1,000,000+10,000+500,000+500,000+500,000+1,000+1,000,000+500,000+50,000+5,000,000+1,000,000+500,000+500,000+10,000,000+1,000,000+100,000+100,000+1,000,000+1,000,000+10,000,000+1,000,000+1,000,000+100,000+50,000,000+5,000,000+1,000,000+100,000+500,000+100,000+100,000+500,000+1,000,000+1,000,000+100,000+100,000+500,000+500,000+5,000,000+50,000+500,000+100,000+5,000,000+100,000+1,000,000+100,000+100,000+1,000,000+500,000+100,000+100,000+1,000,000+1,000,000+1,000,000+1,000,000+100+100,000+1,000+100+10,000+1,000+1,000+10+50,000+50+1,000+100,000+10,000+5,000+1,000,000+1,000+1,000+50,000+500+10,000+100+500,000+100+1,000+1,000+5,000+1,000+10,000+10,000+10,000,000+1,000+100,000+5,000,000+10,000+100,000+1,000,000+500+1,000+10,000+10,000+5,000+1,000+1,000,000+100,000+100+5,000+10,000+100+1,000,000+10,000+100,000+100,000+50,000,000+100+1,000,000+1,000+1,000+100,000+10,000+50,000+100,000+500+1,000,000+10+100,000+1,000+1,000+100+500+100+1,000+1,000+50+10,000+10+50+5,000+500+500+50,000+5+500+5,000,000+10,000+1,000,000+500,000+50,000+1,000+10,000+500+10,000+500+10,000+1,000+100,000+100+1,000+5,000+10,000+10,000+1,000+10,000+100+10,000+1,000+10,000+5,000+10,000+100+1,000+50,000+50,000+1,000+100,000+1,000+500+1,000+100+5,000+50,000,000+10,000,000+10,000,000+5,000,000+100,000+1,000+10,000+100+5,000,000+100,000+1,000+100+1,000+100+100+500+500+1,000+100+100+10,000+1,000+100+10,000,000+100+100+500+50,000+10,000+5,000,000+10,000+5,000+1,000+1,000+10,000+5,000+100,000+100+10,000+10,000+1,000+500+500+1,000+1,000+5,000+5,000+50,000+500+100+10,000+1,000+1,000+10,000+10,000+500+1,000+10+1,000+100,000+1,000+5,000+1,000+5,000+10,000,000+1,000,000+100,000+50,000+5,000+1,000+1,000+1,000,000+500+10,000+1,000,000+1,000+100+500,000+100,000+500,000+100,000+5,000,000+1,000+1,000,000+100,000+10,000+50,000+10,000+50,000+1,000+10,000+1,000+500,000+100,000+100+500,000+100+100+5,000+5,000+10,000+10+100,000+100,000+100+1,000+1,000+1,000+100,000+50+5,000,000+10+1,000+50,000,000+1,000+5,000+5,000,000+100+10,000+10,000+1,000,000+1,000,000+5,000+1,000,000+100+1,000+500+500,000+100+100+100,000+100,000+500,000+100+100,000+10,000,000+50,000+1,000+100+500+50,000+50,000+1,000,000+500+10,000,000+100+1,000,000+10+10,000,000+100,000+10,000+5,000,000+1,000,000+1,000,000+500,000+10,000,000+10,000+50,000+100,000+10,000,000+10,000+50,000+10,000+100+100+10+5,000,000+5,000+1,000+5,000+500+5,000+1,000,000+10+10+1,000+100,000+5,000+10+100+50,000+5,000,000+10,000+10,000,000+1,000,000+10,000+10,000+100,000+100,000+100,000+1,000+10,000+50,000,000+1,000+5,000+500,000+100,000+500,000+1,000+1,000+10,000+5,000+50,000,000+100+1,000+10,000,000+5,000,000+100+500+10,000,000+5,000+10,000+100+50+100+500,000,000+100,000,000+100,000+100,000,000+50,000,000+1,000,000+10,000,000+5,000,000+5,000,000+100,000+100,000+500,000+5,000,000+100,000+100,000,000+100,000+1,000,000+50,000,000+1,000,000+10,000+100,000+100,000+100,000+10,000+100,000+50,000+100,000+100,000+500,000+500+10,000+500,000+10,000+10,000+1,000,000+10,000+10,000,000+10,000+100,000+100,000+500,000+1,000,000+10,000+5,000+100+10,000,000+100,000+10,000+100,000+100,000+10,000+1,000,000+10,000,000+100,000+500,000+1,000,000+10,000,000+5,000,000+1,000,000+5,000,000+1,000,000+10,000,000+5,000,000+500,000+1,000,000+1,000,000+5,000,000+10,000,000+1,000,000+1,000,000+1,000,000+1,000,000+1,000,000+100,000+500,000+100,000+5,000,000+10,000+5,000,000+1,000,000+10,000+50,000+10,000+10,000+1,000,000+100+1,000,000+10,000+10,000+5,000+10,000+1,000,000+10,000+100,000+1,000+10,000+5,000+1,000+5,000+1,000+10,000+1,000,000+10,000+100,000+10,000+10,000+1,000+50,000+50,000+1,000+500,000+1,000+10,000+1,000,000+5,000+1,000+10,000+100+500+5,000,000+10,000+1,000,000+1,000+1,000+1,000+1,000+1,000,000+100,000+50,000+10,000+100,000+500+10,000+500,000+10,000+1,000+1,000+100,000+1,000+5,000+5,000+1,000,000+10,000+50,000+10,000+100,000+1,000,000+500+1,000,000+1,000+100+100+100+1,000+100,000+10,000+1,000,000+500+100+500+1,000,000+500+10,000+5,000,000+10,000+1,000+1,000,000+100,000+1,000+100,000+500+10+5,000+5+100,000+100,000+10,000+100+100,000+500,000+10,000+1,000+10,000+10,000,000+10,000+100,000+50,000+5,000,000+5,000,000+100,000+50+1,000+100+100,000+100,000+1,000+10,000+1,000,000+5,000,000+10,000,000+500,000+100,000+100,000+500+100,000+10,000+1,000,000+500,000+500+100+1,000,000+10,000+1,000,000+500,000+50,000+10,000+500,000+5,000+10,000+1,000+1,000+5,000+100+10,000+100,000+50,000+5,000+5,000,000+100+100+500+50,000+5,000+50+100+1,000,000+100,000,000+1,000,000+500,000+1,000,000+10,000,000+5,000,000+1,000+100,000+10,000+100,000+100,000+50,000+10,000+50,000+100+5,000+100,000+500,000+10,000+1,000+100,000+10,000+10,000+1,000,000+500,000+1,000+1,000,000+100+10,000+5,000+10,000+50,000+1,000+50,000+10,000+500,000+5,000+100,000+10,000+50,000+10,000+5,000+50,000+50,000+50,000+1,000+5,000+10,000+1,000+1,000+1,000+1,000+500+1,000+5,000+10,000+10,000+100,000+5,000+1,000+5,000+50,000+10,000+1,000+10,000+1,000+10,000+100+1,000,000+100+100,000+10,000+5,000+1,000+1,000+50+100+10,000+100,000+10,000+10,000+1,000+100,000+50,000+10,000+10,000+10,000+10,000+10,000+10,000+10,000+10,000+50,000+50,000+50,000+10,000+10,000+10,000+50,000+100,000+50,000+10,000+1,000+50,000+10,000+5,000+100+5,000,000+50,000+1,000,000+5,000,000+10,000,000+10,000,000+100,000,000+10,000,000+500,000+1,000,000+10,000+100,000+1,000,000+1,000,000+100,000+10,000+500,000+5,000+100,000+100,000+10,000+10,000+50,000+100,000+100,000+100,000+1,000+1,000,000+50,000+1,000,000+100,000+1,000+5,000+1,000,000+10,000+10,000+100,000+5,000+10,000+5,000+100,000+10,000+10,000+10,000+10,000+50,000+1,000+1,000+100,000+10,000+50,000+10,000+100,000+5,000+5,000+5,000,000+500,000+5,000+50,000+10,000+100,000+100+5,000,000+100,000+100+50,000+5,000+100+1,000,000+500+100+100+10,000+100+1,000,000+5,000+5,000+100+1,000,000+100+10+500,000+1,000+100,000+1,000+100,000+1,000+500,000+50,000+50,000+10,000,000+5,000+500,000+1,000+1,000,000+5,000,000+5,000,000+5,000+100,000+1,000+10,000+10,000+1,000,000+10,000+10,000+10,000+1,000+50,000+500+1,000+1,000+1,000+500+100,000+500+5,000+10,000+5,000+100+10,000+50+500+1,000+500,000+10,000+100,000+1,000+100,000,000+1,000,000+50,000+100,000+100+5,000+5,000,000+500+1,000+10,000+1,000+100+50,000+1,000+5,000+100+100+100+1,000,000+500+1,000,000+10,000,000+1,000,000+5,000+1,000,000+100,000+500,000+10,000+10,000+10,000+1,000,000+10,000,000+100,000+10,000+10,000+1,000+1,000,000+10,000+10,000+500,000+100,000+100,000+1,000,000+1,000+50,000+50,000+50,000+5+1,000+10,000+100,000+100,000+100+100,000+10+5,000+500+100,000+10,000+500,000+1,000,000+10,000+100,000+10,000,000+5,000,000+10,000,000+50,000,000+10,000+5,000,000+1,000,000+5,000,000+10,000,000+1,000,000+10,000,000+1,000,000+5,000,000+10,000,000+10,000,000+10,000,000+50,000+10,000,000+5,000,000+10,000+10,000,000+10,000,000+10,000,000+10,000,000+5,000,000+10,000,000+10,000,000+50,000+50,000+10,000,000+5,000,000+5,000+500,000+5,000+10,000+10,000+500+50+500,000+1,000+10,000+500+500+10,000+10,000+1,000+10,000+10,000+10,000+5,000+5,000+100+10,000+10,000+100+100,000+10+5,000+1,000+1,000+1,000+10,000+10,000,000+1,000,000+5,000,000+10,000,000+500,000+5,000,000+50,000+10,000+10,000,000+1,000,000+10,000+1,000+5,000,000+1,000+1,000,000+5,000+50,000,000+10,000,000+500+5,000+50,000+1,000+5,000,000+1,000+10,000+50,000+10,000,000+50,000,000+500,000+100+5,000+100,000+5,000+500+10,000+5,000+5,000+10+5,000+10,000,000+10,000,000+10,000,000+5,000,000+10,000,000+10,000,000+5,000,000+1,000,000+10,000,000+10,000,000+50,000,000+1,000,000+10,000,000+1,000,000+10,000,000+5,000,000+10,000,000+1,000,000+100,000,000+50,000,000+50,000,000+5,000,000+50,000,000+10,000,000+10,000,000+5,000,000+10,000,000+10,000,000+100,000+10,000,000+10,000+1,000+10,000+100+50,000+1,000+10+100+500,000+10,000,000+100+500,000+1,000+5,000,000+5,000,000+100,000+10,000+10,000+50+1,000+1,000,000+10,000+1,000+1,000+1,000+100+10,000,000+500+10,000+10,000+10+1,000+1,000,000+500+10,000+1,000+100+500,000+100+100+10,000+100+10+10,000+10,000+100+10,000,000+5,000,000+10,000,000+50,000,000+5,000,000+100,000+1,000+5,000,000+10,000,000+1,000,000+1,000,000+10,000,000+100,000+10,000+50,000+100+1,000,000+500,000+1,000,000+10,000+1,000+5,000,000+100,000+500,000+10,000,000+10,000+5,000,000+1,000,000+1,000,000+100,000+10,000,000+100,000+100,000+10,000,000+10,000,000+1,000+10,000,000+1,000,000+1,000,000+100,000,000+10,000,000+50,000,000+10,000,000+10,000,000+500,000+100,000,000+10,000,000+100,000+5,000,000+500,000+10,000,000+10,000,000+100,000,000+1,000,000+50,000,000+10,000,000+50,000,000+10,000,000+100,000,000+10,000,000+10,000,000+5,000,000+10,000,000+10,000,000+1,000,000+100,000+100,000+100,000+1,000,000+1,000+1,000+1,000+50,000+1,000+5,000+10,000+10,000+100,000+1,000+10,000+50,000+10,000+1,000+100,000+500+1,000,000+50,000+100,000+50,000+10,000+100+10+10,000+10+1,000,000+10,000+500+100+100,000+50,000+10,000,000+5,000,000+50,000,000+10,000,000+100,000+1,000,000+10,000,000+1,000,000+1,000,000+1,000+5,000,000+10,000+5,000+5,000,000+10+100,000+10,000,000+5,000,000+10,000+1,000,000+1,000,000+1,000,000+50,000+10,000,000+10,000+10,000,000+1,000,000+100,000+1,000,000+1,000,000+1,000,000+10,000+10,000+5,000+5,000+100,000+1,000+1,000+1,000+5,000+10,000+1,000+1,000+1,000+5,000+1,000+1,000+100+1,000+5,000+5,000+500,000+50+500+5,000+100+10,000+10,000+1,000+100+50,000+10,000+10+100,000+5,000+100,000+10+100+5,000+50,000+100,000+100,000+1,000,000+1,000,000+100,000+500,000+50,000+50,000+1,000,000+50,000+50,000+10,000+5,000,000+5,000,000+1,000,000+1,000,000+100,000,000+1,000,000+10,000,000+10,000,000+10,000,000+5,000,000+1,000,000+10,000,000+100,000,000+100,000+5,000,000+50,000,000+10,000,000+1,000,000+1,000,000+10,000,000+1,000,000+100,000+10,000,000+500,000+1,000,000+100,000+1,000,000+1,000,000+500,000+100,000+1,000,000+1,000,000+500,000+100,000+100,000,000+1,000,000+100,000+100,000+50,000+1,000,000+100,000+100,000+1,000,000+10,000,000+1,000,000+100,000+10,000,000+500,000+10,000+100,000+500,000+1,000,000+100,000+5,000+500,000+50,000+100,000+100,000+10,000+500,000+100,000+5,000+100,000+100,000+1,000+1,000,000+5,000+1,000+10,000+10,000+100,000+100,000+50,000+5,000+100,000+10,000+10,000+10,000+5,000+5,000+1,000+10,000+500,000+5,000+1,000+5,000+10,000+50,000+100,000+100,000+10,000+500,000+100+50,000+1,000+10,000+10,000+100,000+10,000+1,000,000+100,000+10,000,000+500+100,000+1,000,000+1,000,000+100,000+10,000+500,000+100,000+100,000+100,000+100,000+100,000+10,000,000+10,000+100,000+1,000,000+1,000,000+1,000,000+1,000,000+1,000,000+1,000,000+1,000+1,000,000+100,000+10,000,000+1,000+50,000,000+10,000,000+100,000,000+5,000,000+100,000+500,000+1,000,000+1,000,000+1,000,000+1,000,000+10,000,000+500,000+1,000,000+10,000,000+1,000,000+10,000+500,000+500,000+10,000,000+1,000,000+5,000,000+10,000+500+50,000+100,000+100,000+1,000,000+1,000,000+10,000+50,000+100,000+100+1,000,000+100,000+10,000+10,000+1,000+10,000+10,000,000+50,000+1,000,000+1,000,000+1,000+500,000+100,000+50,000+1,000,000+5,000+1,000,000+1,000,000+1,000,000+10,000,000+500,000+1,000,000+500,000+5,000,000+500,000+1,000,000+1,000,000+100,000+500,000+50,000+50,000+100,000+500+1,000+100+100+500+100,000+1,000+100,000+1,000+1,000,000+1,000,000+10,000,000+1,000+500+10,000+100+100,000+10+1,000,000+5,000,000+10,000+1,000+500+50+500+10,000+1,000+5,000+500+1,000,000+500+1,000+1,000,000+10,000,000+1,000+100+1,000+10+100+50+10,000,000+100,000+5,000,000+1,000+1,000+10,000,000+1,000+100+100,000+10,000+50,000+10,000+500,000+100,000,000+1,000,000+100,000,000+10,000,000+10,000,000+1,000,000+100,000+10,000,000+1,000,000+1,000,000+5,000,000+100,000+50,000+500,000+500,000+5,000,000+1,000,000+50,000+100,000+50,000+100,000+100,000+50,000+100,000+50,000+50,000+50,000+5,000,000+100,000+50,000+10,000,000+10,000,000+5,000+10,000,000+1,000,000+50,000+10,000+1,000+5,000+10,000+10,000+10,000+1,000+10,000+1,000+50,000+10,000+1,000,000+100,000+100+5,000+50,000+10,000+100+50,000+10,000+1,000+100+100,000+1,000+1,000+100+1,000+10,000+5,000+500,000+100,000+100+100+10,000+5,000+1,000+100,000+100,000+100,000+1,000,000+100,000+10,000+10,000+10,000+100,000+1,000+1,000,000+50,000+5,000+1,000+10,000+1,000+1,000+1,000+500,000+10,000+1,000+500+10,000+100+1,000+5,000+100,000+10,000+100+100+1,000+10,000+5,000+10,000+500,000+500,000+10,000+5,000+500,000+100,000+5,000+1,000+5,000+1,000,000+1,000+10,000+100,000+1,000+100,000+10+10,000+50,000+500+10,000+500+5,000+10,000+5,000+5,000+5,000+500+50+50+500+100+100+5,000+50+500+10,000+10,000+50,000+100+1,000+10,000+100+5,000+100+10+10,000+50,000+50,000+10,000+10,000+100,000+10,000+10,000,000+50+1,000,000+100,000+100,000+100,000+10,000+10,000+50,000+100,000+10,000+1,000+50,000+100,000+5,000+50,000+10,000+1,000,000+100,000+100,000+5,000+10,000+100+1,000+5,000+500+100,000+10,000+10,000+1,000+10,000+10,000+10,000+10,000+5,000+10,000+50,000,000+50,000,000+50,000,000+10,000,000+10,000,000+10,000,000+10,000,000+10,000,000+10,000,000+500,000+1,000,000+10,000,000+5,000,000+500,000+1,000+5,000,000+1,000,000+1,000,000+10,000,000+5,000,000+1,000,000+5,000,000+10,000,000+10,000,000+1,000,000+100,000,000+1,000,000+100,000+100,000+1,000,000+1,000,000+1,000,000+1,000,000+10,000,000+100+10,000+10,000+10+100+1,000+500,000+100,000+1,000,000+5,000+50+10,000,000+100,000+1,000+50+100,000+5,000+100,000+10,000+100,000+1,000+100+1,000+10,000+1,000+10,000+5,000+10,000+50,000+100,000+100,000+5+10,000+1,000+1,000,000+1,000,000+5,000+100,000+100,000+500+1,000+10,000+10,000+50,000+100,000+1,000+1,000+1,000+10,000+1,000+100+10,000+100+500+10+50,000+100+500+500+1,000+100+1,000+100+1,000+10+100+100,000+50,000+10,000+10,000+100,000+50,000+100,000+5,000+10,000+50,000+50,000+1,000+10,000+1,000+100+1,000+5,000+1,000+500+10,000+500+50+5,000+100+500+50+50+50,000+10,000+1,000+10,000+5,000+1,000+1,000,000+10,000,000+100+10,000+50,000+1,000+100,000+1,000+10,000+500+1,000+1,000+50+100,000+1,000,000+1,000,000+100,000+10,000+100+10,000+1,000,000+1,000,000+50,000,000+100,000+1,000,000+500,000+500,000+50,000+100,000+1,000,000+1,000,000+1,000,000+100,000+50,000+1,000,000+10,000,000+10,000+10,000,000+1,000,000+100,000+10,000+100+1,000+1,000+100,000+500,000+5,000+5,000,000+10,000+1,000,000+1,000,000+10,000,000+50,000+10,000+500,000+5,000,000+500,000+10,000,000+1,000,000+500,000+1,000,000+100,000+5,000,000+10,000,000+5,000,000+5,000,000+500,000+500,000+10,000,000+100,000+10,000,000+100,000+100,000+10,000,000+10,000,000+10,000+1,000,000+100,000+5,000,000+10,000+1,000,000+100+10,000+1,000+10,000+100+5,000+500,000+1,000,000+5,000+10+1,000,000+1,000,000+5,000,000+10,000,000+10,000+50,000+5,000+1,000,000+1,000+5,000,000+10,000,000+10,000,000+1,000,000+1,000+50,000+100+1,000,000+100+1,000,000+1,000+1,000,000+1,000+1,000,000+10,000,000+10+1,000,000+1,000,000+1,000,000+1,000,000+5,000,000+1,000,000+10,000+100,000+1,000,000+50,000+1,000+1,000,000+500,000+1,000,000+10,000+1,000,000+5,000,000+500,000+500,000+1,000,000+1,000+50,000+5,000+500,000+10,000+100,000+100,000+500,000+1,000,000+100,000+1,000,000+50,000+100,000+1,000,000+10,000+1,000+10,000+500+10,000+10,000+50,000,000+50+5,000+5,000+500+1,000+1,000+10,000+10+100+1,000+500+100+10,000,000+50,000+10,000,000+1,000,000+1,000,000+1,000+5,000+1,000,000+100+500+1,000,000+1,000+1,000,000+100+5,000,000+10,000,000+1,000,000+100,000+10,000+100,000+100,000+100,000+100,000+500,000+100,000+1,000,000+1,000,000+1,000,000+100,000+10,000+100,000+5,000,000+10,000+100,000+1,000,000+10,000,000+10,000,000+100,000+5,000,000+100,000+10,000+5,000,000+100,000+10,000,000+1,000,000+5,000,000+10,000,000+100,000+10,000,000+5,000,000+500,000+500,000+10,000,000+500,000+1,000,000+100,000+500,000+500,000+1,000,000+1,000+5,000,000+500,000+1,000,000+1,000,000+500,000+5,000+100,000+5,000,000+500,000+100,000+1,000,000+500,000+50,000,000+1,000,000+10,000,000+500,000+5,000,000+5,000,000+100,000+500,000+500,000+100,000+10,000,000+10,000,000+10,000,000+1,000+10,000,000+10,000,000+5,000,000+10,000,000+1,000,000+1,000,000+10,000,000+10,000,000+1,000,000+10,000,000+5,000,000+10,000,000+1,000,000+100,000+10,000,000+500,000+10,000,000+10,000,000+10,000,000+1,000,000+5,000,000+10,000,000+5,000,000+5,000,000+1,000,000+1,000,000+5,000,000+50,000,000+10,000,000+10,000,000+5,000,000+10,000+1,000+10,000+1,000+100+10+10,000+1,000,000+5,000,000+10,000,000+10,000,000+500,000+1,000,000+1,000,000+1,000,000+50,000,000+1,000,000+10,000,000+1,000,000+10,000,000+1,000,000+500,000+1,000,000+1,000,000+50,000,000+50,000+500+50,000+100+1,000+100+1,000+50+500,000+1,000,000+100,000+500+1,000+100+500+500,000+10,000+100,000+1,000,000+1,000+10,000+100+100,000+10,000,000+10,000,000+10,000+1,000,000+100,000+1,000,000+100,000+100,000+10,000,000+5,000+1,000,000+100,000+100,000+50,000+50,000+500,000+10,000+500,000+10,000+50,000+1,000+10,000+1,000+100,000+1,000+10,000+1,000+5,000+500,000+1,000,000+100,000+500,000+100,000+500,000+10+50,000+5,000+5,000+1,000+10,000+100,000+100,000+1,000+50,000+1,000+5,000,000+10,000,000+5,000+1,000,000+10,000,000+500,000+10,000,000+100,000+100,000+1,000,000+1,000,000+1,000,000+500,000+100,000+1,000,000+1,000,000+1,000,000+500,000+1,000+100,000+5,000+50,000+1,000+10,000+50,000+10,000+500+5,000+1,000,000+1,000+100+100+10,000+50,000,000+500,000+100+10,000,000+50,000+5,000,000+10,000+10,000,000+100,000+100,000+5,000,000+1,000,000+10,000,000+10,000+500+5,000+100,000+100,000+100,000+50,000,000+100,000+100,000+50,000+5,000,000+5,000,000+1,000,000+100,000,000+50,000,000+50,000,000+1,000,000,000+10,000,000+1,000,000+5,000,000+50,000+10,000,000+5,000,000+50,000,000+10,000,000+10,000,000+10,000,000+10,000,000+10,000,000+5,000,000+10,000,000+5,000,000+50,000,000+5,000,000+10,000,000+100,000+50,000+1,000+100,000+50,000+1,000+5,000+1,000+1,000+1,000+5,000+10,000+10,000+50,000+10,000+10,000+100+500+100,000+10,000+1,000,000+1,000+1,000+500+1,000+50,000+1,000+100+1,000+5,000,000+500+50+1,000+50+1,000+10,000+1,000+50,000+10,000+100+5,000,000+1,000,000+10,000+1,000,000+100,000+50,000+100,000+50,000+50,000+1,000+10,000+1,000+1,000+1,000+5,000+10,000+1,000+1,000+100+1,000+100+1,000+1,000+1,000+5,000+5,000+1,000+1,000,000+1,000+500,000+100,000+100,000+10,000,000+1,000,000+1,000,000+1,000+5,000,000+500,000+1,000,000+1,000,000+1,000,000+100,000+100,000+100,000+10,000,000+100,000+100,000+1,000,000+100+10,000+10,000+100,000+100,000+50,000,000+100,000+10,000+5,000,000+500+10,000,000+10,000+50,000+500,000+100,000+100,000+10,000,000+5,000+100,000+5,000,000+50,000+1,000,000+10,000,000+1,000,000+5,000,000+10,000,000+1,000,000+100,000+5,000,000+10,000,000+100,000+500,000+10,000+5,000,000+50,000+500,000+5,000+500,000+5,000+50,000+5,000+1,000+5,000+100,000+10,000+5,000+5,000+5,000+1,000,000+1,000+100,000+1,000,000+1,000,000+500,000+100+100,000+100,000+5,000,000+5,000+50,000+500+5,000,000+1,000+5,000,000+5,000+100,000+100+5,000+50,000+10,000+1,000+1,000+10,000+1,000+5,000+500+1,000+100+500+10,000+10,000+10,000,000+1,000+1,000,000+1,000,000+10,000,000+10,000+100,000+100,000+500+1,000,000+500,000+5,000,000+50,000+1,000,000+1,000,000+500,000+1,000,000+100,000+10,000+10,000+1,000+50,000+100,000+100,000+100,000+1,000,000+10,000+5,000+500,000+1,000+50,000+10,000+10,000+10,000+50,000+1,000,000+1,000+100,000+1,000,000+5,000+10,000+50,000+10,000+10,000+5,000+100,000+5,000+1,000+10,000+100,000+1,000+50,000+5,000+5,000+1,000+1,000+100+100,000+100,000+10,000,000+1,000,000+1,000,000+5,000+5,000+1,000+1,000,000+5,000,000+5,000,000+1,000,000+10,000,000+100,000,000+5,000,000+10,000,000+10,000,000+1,000,000+10,000,000+10,000,000+10,000,000+1,000,000+50,000,000+1,000,000+500,000+1,000,000+50,000,000+100,000+1,000,000+1,000,000+10,000+500,000+1,000,000+500,000+100,000+50,000+500,000+10,000,000+10,000+5,000,000+100,000+100,000+50,000+500,000+5,000+100,000+100,000+5,000+5,000+1,000,000+100,000+100,000+5,000+1,000+10,000+100,000+10,000+5,000+100,000+10,000+10,000+10,000+1,000,000+100,000+500,000+10,000+10,000+10,000+10,000+1,000,000+100+50,000+10,000+10,000+50,000+100,000+100,000,000+100,000+10,000+1,000,000+5,000+10,000+10,000+5,000+10,000+1,000+50,000+100+10,000+10,000+100,000+100+50,000+100,000+1,000+10,000+100,000+5,000,000+500+50,000+10,000+500+10,000+100,000+10,000+100,000+5,000+10,000+100,000+1,000+100,000+100,000+10,000+10,000+500+100,000+1,000+1,000,000+10+1,000+1,000,000+1,000+10,000+5,000+500,000+10,000+1,000+10,000+1,000+5,000+10,000+100,000+10,000+10,000+10,000+50,000+1,000,000+5,000,000+1,000+5,000+1,000+50,000+1,000+10+500+100,000,000+1,000+1,000+1,000+10,000+500+1,000+50+10,000+1,000+5,000+1,000,000+1,000+1,000,000+5,000,000+5,000,000+1,000+10,000,000+10,000+10,000,000+50,000,000+5,000,000+10,000+1,000,000+1,000,000+10,000,000+1,000,000+1,000,000+10,000,000+500,000+100,000+5,000,000+1,000,000+500,000+500,000+1,000,000+1,000,000+500,000+5,000,000+10,000+5,000+100+1,000+1,000+1,000+50,000,000+5,000+1,000+100+100+1,000,000+100+5,000,000+10,000+5,000,000+10,000+50,000,000+50,000+100,000+1,000,000+5,000,000+100,000+1,000,000+500,000+100,000+1,000,000+10,000+10,000+100,000+1,000,000+10,000+500,000+10,000+1,000,000+1,000+10,000+1,000,000+1,000+1,000+500,000+5,000+1,000+100,000+100+5,000+50,000+500,000+5,000+100,000+100,000+10,000+10,000+50,000+500,000+10,000+100,000+10,000,000+1,000+50,000+50,000+10,000+1,000+50,000+500,000+500,000+10,000+1,000+10,000+1,000+1,000,000+10,000+500+1,000+5,000,000+10,000+100+10,000,000+1,000,000+10,000,000+100,000+10,000,000+10,000,000+500,000+10,000,000+1,000,000+100,000+50,000,000+1,000,000+50,000+500+1,000,000+10,000+10,000,000+1,000,000+100,000+1,000,000+10,000+10+100,000+10,000+50,000,000+10,000+5,000,000+1,000+5+100+50,000+5,000,000+100,000+1,000+10,000+50,000+10,000+100,000+5,000+1,000+10,000+5,000+100,000+50,000+10,000+100,000+1,000+5,000+1,000+5,000+5,000+1,000+5,000+1,000+500+1,000+1,000+5,000+5,000+50,000+1,000+100,000+500+10,000+10,000+1,000+10,000+50,000+5,000+500+5,000+100+10,000+5,000+100+1,000,000+5,000+10,000+10,000+100+100,000+10,000+1,000+1,000+100,000+5,000+10,000+1,000+5,000+10,000,000+500+10,000+10,000+1,000+100,000+500,000+10,000+10,000+100,000+1,000,000+100,000,000+10,000+10,000+100,000+1,000+100+50+500+10,000+1,000+5,000+1,000,000+1,000,000+50+100+10,000+100,000+100,000+100,000+1,000,000+5,000,000+1,000,000+10,000+10,000+10,000,000+100,000+1,000+100+500+1+50+500+100,000,000+10,000,000+1,000,000+1,000,000+100,000+5,000,000+100,000+10,000,000+1,000,000+5,000+1,000+1,000,000+100+100,000+10,000,000+10,000+1,000+1,000,000+50,000+10,000,000+10,000,000+50,000+5,000,000+100,000+10,000+1,000+5,000+500,000+10,000,000+1,000,000+1,000+500+5,000+1,000+100,000+5,000+1,000,000+10,000+10,000+5,000+50,000+1,000,000+1,000+50,000+100,000+100,000+500+10,000+100,000+1,000+10+100,000+10,000+10,000+1,000+10,000,000+10,000+50,000+10,000,000+10,000+50,000+50,000+50,000+50,000+50,000+1,000,000+500,000+100,000+1,000,000+1,000,000+100,000+5,000+1,000+10,000+1,000,000+100,000+100+1,000,000+100+1,000+50,000+500,000+100,000+5,000+1,000+5,000,000+5,000+10,000+10,000+100,000+100,000+1,000+500+5,000+100+1,000+10,000,000+' to numeric",
          "traceback": [
            "\u001b[0;31m---------------------------------------------------------------------------\u001b[0m",
            "\u001b[0;31mTypeError\u001b[0m                                 Traceback (most recent call last)",
            "\u001b[0;32m/tmp/ipython-input-3687115709.py\u001b[0m in \u001b[0;36m<cell line: 0>\u001b[0;34m()\u001b[0m\n\u001b[1;32m      2\u001b[0m \u001b[0;31m#inp2.Installs = inp2.Installs.apply(lambda x: int(x.replace(',', '').replace('+', '')))\u001b[0m\u001b[0;34m\u001b[0m\u001b[0;34m\u001b[0m\u001b[0m\n\u001b[1;32m      3\u001b[0m \u001b[0;34m\u001b[0m\u001b[0m\n\u001b[0;32m----> 4\u001b[0;31m \u001b[0minp2\u001b[0m\u001b[0;34m.\u001b[0m\u001b[0mInstalls\u001b[0m\u001b[0;34m.\u001b[0m\u001b[0mmean\u001b[0m\u001b[0;34m(\u001b[0m\u001b[0;34m)\u001b[0m\u001b[0;34m\u001b[0m\u001b[0;34m\u001b[0m\u001b[0m\n\u001b[0m",
            "\u001b[0;32m/usr/local/lib/python3.12/dist-packages/pandas/core/series.py\u001b[0m in \u001b[0;36mmean\u001b[0;34m(self, axis, skipna, numeric_only, **kwargs)\u001b[0m\n\u001b[1;32m   6547\u001b[0m         \u001b[0;34m**\u001b[0m\u001b[0mkwargs\u001b[0m\u001b[0;34m,\u001b[0m\u001b[0;34m\u001b[0m\u001b[0;34m\u001b[0m\u001b[0m\n\u001b[1;32m   6548\u001b[0m     ):\n\u001b[0;32m-> 6549\u001b[0;31m         \u001b[0;32mreturn\u001b[0m \u001b[0mNDFrame\u001b[0m\u001b[0;34m.\u001b[0m\u001b[0mmean\u001b[0m\u001b[0;34m(\u001b[0m\u001b[0mself\u001b[0m\u001b[0;34m,\u001b[0m \u001b[0maxis\u001b[0m\u001b[0;34m,\u001b[0m \u001b[0mskipna\u001b[0m\u001b[0;34m,\u001b[0m \u001b[0mnumeric_only\u001b[0m\u001b[0;34m,\u001b[0m \u001b[0;34m**\u001b[0m\u001b[0mkwargs\u001b[0m\u001b[0;34m)\u001b[0m\u001b[0;34m\u001b[0m\u001b[0;34m\u001b[0m\u001b[0m\n\u001b[0m\u001b[1;32m   6550\u001b[0m \u001b[0;34m\u001b[0m\u001b[0m\n\u001b[1;32m   6551\u001b[0m     \u001b[0;34m@\u001b[0m\u001b[0mdoc\u001b[0m\u001b[0;34m(\u001b[0m\u001b[0mmake_doc\u001b[0m\u001b[0;34m(\u001b[0m\u001b[0;34m\"median\"\u001b[0m\u001b[0;34m,\u001b[0m \u001b[0mndim\u001b[0m\u001b[0;34m=\u001b[0m\u001b[0;36m1\u001b[0m\u001b[0;34m)\u001b[0m\u001b[0;34m)\u001b[0m\u001b[0;34m\u001b[0m\u001b[0;34m\u001b[0m\u001b[0m\n",
            "\u001b[0;32m/usr/local/lib/python3.12/dist-packages/pandas/core/generic.py\u001b[0m in \u001b[0;36mmean\u001b[0;34m(self, axis, skipna, numeric_only, **kwargs)\u001b[0m\n\u001b[1;32m  12418\u001b[0m         \u001b[0;34m**\u001b[0m\u001b[0mkwargs\u001b[0m\u001b[0;34m,\u001b[0m\u001b[0;34m\u001b[0m\u001b[0;34m\u001b[0m\u001b[0m\n\u001b[1;32m  12419\u001b[0m     ) -> Series | float:\n\u001b[0;32m> 12420\u001b[0;31m         return self._stat_function(\n\u001b[0m\u001b[1;32m  12421\u001b[0m             \u001b[0;34m\"mean\"\u001b[0m\u001b[0;34m,\u001b[0m \u001b[0mnanops\u001b[0m\u001b[0;34m.\u001b[0m\u001b[0mnanmean\u001b[0m\u001b[0;34m,\u001b[0m \u001b[0maxis\u001b[0m\u001b[0;34m,\u001b[0m \u001b[0mskipna\u001b[0m\u001b[0;34m,\u001b[0m \u001b[0mnumeric_only\u001b[0m\u001b[0;34m,\u001b[0m \u001b[0;34m**\u001b[0m\u001b[0mkwargs\u001b[0m\u001b[0;34m\u001b[0m\u001b[0;34m\u001b[0m\u001b[0m\n\u001b[1;32m  12422\u001b[0m         )\n",
            "\u001b[0;32m/usr/local/lib/python3.12/dist-packages/pandas/core/generic.py\u001b[0m in \u001b[0;36m_stat_function\u001b[0;34m(self, name, func, axis, skipna, numeric_only, **kwargs)\u001b[0m\n\u001b[1;32m  12375\u001b[0m         \u001b[0mvalidate_bool_kwarg\u001b[0m\u001b[0;34m(\u001b[0m\u001b[0mskipna\u001b[0m\u001b[0;34m,\u001b[0m \u001b[0;34m\"skipna\"\u001b[0m\u001b[0;34m,\u001b[0m \u001b[0mnone_allowed\u001b[0m\u001b[0;34m=\u001b[0m\u001b[0;32mFalse\u001b[0m\u001b[0;34m)\u001b[0m\u001b[0;34m\u001b[0m\u001b[0;34m\u001b[0m\u001b[0m\n\u001b[1;32m  12376\u001b[0m \u001b[0;34m\u001b[0m\u001b[0m\n\u001b[0;32m> 12377\u001b[0;31m         return self._reduce(\n\u001b[0m\u001b[1;32m  12378\u001b[0m             \u001b[0mfunc\u001b[0m\u001b[0;34m,\u001b[0m \u001b[0mname\u001b[0m\u001b[0;34m=\u001b[0m\u001b[0mname\u001b[0m\u001b[0;34m,\u001b[0m \u001b[0maxis\u001b[0m\u001b[0;34m=\u001b[0m\u001b[0maxis\u001b[0m\u001b[0;34m,\u001b[0m \u001b[0mskipna\u001b[0m\u001b[0;34m=\u001b[0m\u001b[0mskipna\u001b[0m\u001b[0;34m,\u001b[0m \u001b[0mnumeric_only\u001b[0m\u001b[0;34m=\u001b[0m\u001b[0mnumeric_only\u001b[0m\u001b[0;34m\u001b[0m\u001b[0;34m\u001b[0m\u001b[0m\n\u001b[1;32m  12379\u001b[0m         )\n",
            "\u001b[0;32m/usr/local/lib/python3.12/dist-packages/pandas/core/series.py\u001b[0m in \u001b[0;36m_reduce\u001b[0;34m(self, op, name, axis, skipna, numeric_only, filter_type, **kwds)\u001b[0m\n\u001b[1;32m   6455\u001b[0m                     \u001b[0;34m\"with non-numeric dtypes.\"\u001b[0m\u001b[0;34m\u001b[0m\u001b[0;34m\u001b[0m\u001b[0m\n\u001b[1;32m   6456\u001b[0m                 )\n\u001b[0;32m-> 6457\u001b[0;31m             \u001b[0;32mreturn\u001b[0m \u001b[0mop\u001b[0m\u001b[0;34m(\u001b[0m\u001b[0mdelegate\u001b[0m\u001b[0;34m,\u001b[0m \u001b[0mskipna\u001b[0m\u001b[0;34m=\u001b[0m\u001b[0mskipna\u001b[0m\u001b[0;34m,\u001b[0m \u001b[0;34m**\u001b[0m\u001b[0mkwds\u001b[0m\u001b[0;34m)\u001b[0m\u001b[0;34m\u001b[0m\u001b[0;34m\u001b[0m\u001b[0m\n\u001b[0m\u001b[1;32m   6458\u001b[0m \u001b[0;34m\u001b[0m\u001b[0m\n\u001b[1;32m   6459\u001b[0m     \u001b[0;34m@\u001b[0m\u001b[0mAppender\u001b[0m\u001b[0;34m(\u001b[0m\u001b[0mmake_doc\u001b[0m\u001b[0;34m(\u001b[0m\u001b[0;34m\"any\"\u001b[0m\u001b[0;34m,\u001b[0m \u001b[0mndim\u001b[0m\u001b[0;34m=\u001b[0m\u001b[0;36m1\u001b[0m\u001b[0;34m)\u001b[0m\u001b[0;34m)\u001b[0m\u001b[0;34m\u001b[0m\u001b[0;34m\u001b[0m\u001b[0m\n",
            "\u001b[0;32m/usr/local/lib/python3.12/dist-packages/pandas/core/nanops.py\u001b[0m in \u001b[0;36mf\u001b[0;34m(values, axis, skipna, **kwds)\u001b[0m\n\u001b[1;32m    145\u001b[0m                     \u001b[0mresult\u001b[0m \u001b[0;34m=\u001b[0m \u001b[0malt\u001b[0m\u001b[0;34m(\u001b[0m\u001b[0mvalues\u001b[0m\u001b[0;34m,\u001b[0m \u001b[0maxis\u001b[0m\u001b[0;34m=\u001b[0m\u001b[0maxis\u001b[0m\u001b[0;34m,\u001b[0m \u001b[0mskipna\u001b[0m\u001b[0;34m=\u001b[0m\u001b[0mskipna\u001b[0m\u001b[0;34m,\u001b[0m \u001b[0;34m**\u001b[0m\u001b[0mkwds\u001b[0m\u001b[0;34m)\u001b[0m\u001b[0;34m\u001b[0m\u001b[0;34m\u001b[0m\u001b[0m\n\u001b[1;32m    146\u001b[0m             \u001b[0;32melse\u001b[0m\u001b[0;34m:\u001b[0m\u001b[0;34m\u001b[0m\u001b[0;34m\u001b[0m\u001b[0m\n\u001b[0;32m--> 147\u001b[0;31m                 \u001b[0mresult\u001b[0m \u001b[0;34m=\u001b[0m \u001b[0malt\u001b[0m\u001b[0;34m(\u001b[0m\u001b[0mvalues\u001b[0m\u001b[0;34m,\u001b[0m \u001b[0maxis\u001b[0m\u001b[0;34m=\u001b[0m\u001b[0maxis\u001b[0m\u001b[0;34m,\u001b[0m \u001b[0mskipna\u001b[0m\u001b[0;34m=\u001b[0m\u001b[0mskipna\u001b[0m\u001b[0;34m,\u001b[0m \u001b[0;34m**\u001b[0m\u001b[0mkwds\u001b[0m\u001b[0;34m)\u001b[0m\u001b[0;34m\u001b[0m\u001b[0;34m\u001b[0m\u001b[0m\n\u001b[0m\u001b[1;32m    148\u001b[0m \u001b[0;34m\u001b[0m\u001b[0m\n\u001b[1;32m    149\u001b[0m             \u001b[0;32mreturn\u001b[0m \u001b[0mresult\u001b[0m\u001b[0;34m\u001b[0m\u001b[0;34m\u001b[0m\u001b[0m\n",
            "\u001b[0;32m/usr/local/lib/python3.12/dist-packages/pandas/core/nanops.py\u001b[0m in \u001b[0;36mnew_func\u001b[0;34m(values, axis, skipna, mask, **kwargs)\u001b[0m\n\u001b[1;32m    402\u001b[0m             \u001b[0mmask\u001b[0m \u001b[0;34m=\u001b[0m \u001b[0misna\u001b[0m\u001b[0;34m(\u001b[0m\u001b[0mvalues\u001b[0m\u001b[0;34m)\u001b[0m\u001b[0;34m\u001b[0m\u001b[0;34m\u001b[0m\u001b[0m\n\u001b[1;32m    403\u001b[0m \u001b[0;34m\u001b[0m\u001b[0m\n\u001b[0;32m--> 404\u001b[0;31m         \u001b[0mresult\u001b[0m \u001b[0;34m=\u001b[0m \u001b[0mfunc\u001b[0m\u001b[0;34m(\u001b[0m\u001b[0mvalues\u001b[0m\u001b[0;34m,\u001b[0m \u001b[0maxis\u001b[0m\u001b[0;34m=\u001b[0m\u001b[0maxis\u001b[0m\u001b[0;34m,\u001b[0m \u001b[0mskipna\u001b[0m\u001b[0;34m=\u001b[0m\u001b[0mskipna\u001b[0m\u001b[0;34m,\u001b[0m \u001b[0mmask\u001b[0m\u001b[0;34m=\u001b[0m\u001b[0mmask\u001b[0m\u001b[0;34m,\u001b[0m \u001b[0;34m**\u001b[0m\u001b[0mkwargs\u001b[0m\u001b[0;34m)\u001b[0m\u001b[0;34m\u001b[0m\u001b[0;34m\u001b[0m\u001b[0m\n\u001b[0m\u001b[1;32m    405\u001b[0m \u001b[0;34m\u001b[0m\u001b[0m\n\u001b[1;32m    406\u001b[0m         \u001b[0;32mif\u001b[0m \u001b[0mdatetimelike\u001b[0m\u001b[0;34m:\u001b[0m\u001b[0;34m\u001b[0m\u001b[0;34m\u001b[0m\u001b[0m\n",
            "\u001b[0;32m/usr/local/lib/python3.12/dist-packages/pandas/core/nanops.py\u001b[0m in \u001b[0;36mnanmean\u001b[0;34m(values, axis, skipna, mask)\u001b[0m\n\u001b[1;32m    718\u001b[0m     \u001b[0mcount\u001b[0m \u001b[0;34m=\u001b[0m \u001b[0m_get_counts\u001b[0m\u001b[0;34m(\u001b[0m\u001b[0mvalues\u001b[0m\u001b[0;34m.\u001b[0m\u001b[0mshape\u001b[0m\u001b[0;34m,\u001b[0m \u001b[0mmask\u001b[0m\u001b[0;34m,\u001b[0m \u001b[0maxis\u001b[0m\u001b[0;34m,\u001b[0m \u001b[0mdtype\u001b[0m\u001b[0;34m=\u001b[0m\u001b[0mdtype_count\u001b[0m\u001b[0;34m)\u001b[0m\u001b[0;34m\u001b[0m\u001b[0;34m\u001b[0m\u001b[0m\n\u001b[1;32m    719\u001b[0m     \u001b[0mthe_sum\u001b[0m \u001b[0;34m=\u001b[0m \u001b[0mvalues\u001b[0m\u001b[0;34m.\u001b[0m\u001b[0msum\u001b[0m\u001b[0;34m(\u001b[0m\u001b[0maxis\u001b[0m\u001b[0;34m,\u001b[0m \u001b[0mdtype\u001b[0m\u001b[0;34m=\u001b[0m\u001b[0mdtype_sum\u001b[0m\u001b[0;34m)\u001b[0m\u001b[0;34m\u001b[0m\u001b[0;34m\u001b[0m\u001b[0m\n\u001b[0;32m--> 720\u001b[0;31m     \u001b[0mthe_sum\u001b[0m \u001b[0;34m=\u001b[0m \u001b[0m_ensure_numeric\u001b[0m\u001b[0;34m(\u001b[0m\u001b[0mthe_sum\u001b[0m\u001b[0;34m)\u001b[0m\u001b[0;34m\u001b[0m\u001b[0;34m\u001b[0m\u001b[0m\n\u001b[0m\u001b[1;32m    721\u001b[0m \u001b[0;34m\u001b[0m\u001b[0m\n\u001b[1;32m    722\u001b[0m     \u001b[0;32mif\u001b[0m \u001b[0maxis\u001b[0m \u001b[0;32mis\u001b[0m \u001b[0;32mnot\u001b[0m \u001b[0;32mNone\u001b[0m \u001b[0;32mand\u001b[0m \u001b[0mgetattr\u001b[0m\u001b[0;34m(\u001b[0m\u001b[0mthe_sum\u001b[0m\u001b[0;34m,\u001b[0m \u001b[0;34m\"ndim\"\u001b[0m\u001b[0;34m,\u001b[0m \u001b[0;32mFalse\u001b[0m\u001b[0;34m)\u001b[0m\u001b[0;34m:\u001b[0m\u001b[0;34m\u001b[0m\u001b[0;34m\u001b[0m\u001b[0m\n",
            "\u001b[0;32m/usr/local/lib/python3.12/dist-packages/pandas/core/nanops.py\u001b[0m in \u001b[0;36m_ensure_numeric\u001b[0;34m(x)\u001b[0m\n\u001b[1;32m   1699\u001b[0m         \u001b[0;32mif\u001b[0m \u001b[0misinstance\u001b[0m\u001b[0;34m(\u001b[0m\u001b[0mx\u001b[0m\u001b[0;34m,\u001b[0m \u001b[0mstr\u001b[0m\u001b[0;34m)\u001b[0m\u001b[0;34m:\u001b[0m\u001b[0;34m\u001b[0m\u001b[0;34m\u001b[0m\u001b[0m\n\u001b[1;32m   1700\u001b[0m             \u001b[0;31m# GH#44008, GH#36703 avoid casting e.g. strings to numeric\u001b[0m\u001b[0;34m\u001b[0m\u001b[0;34m\u001b[0m\u001b[0m\n\u001b[0;32m-> 1701\u001b[0;31m             \u001b[0;32mraise\u001b[0m \u001b[0mTypeError\u001b[0m\u001b[0;34m(\u001b[0m\u001b[0;34mf\"Could not convert string '{x}' to numeric\"\u001b[0m\u001b[0;34m)\u001b[0m\u001b[0;34m\u001b[0m\u001b[0;34m\u001b[0m\u001b[0m\n\u001b[0m\u001b[1;32m   1702\u001b[0m         \u001b[0;32mtry\u001b[0m\u001b[0;34m:\u001b[0m\u001b[0;34m\u001b[0m\u001b[0;34m\u001b[0m\u001b[0m\n\u001b[1;32m   1703\u001b[0m             \u001b[0mx\u001b[0m \u001b[0;34m=\u001b[0m \u001b[0mfloat\u001b[0m\u001b[0;34m(\u001b[0m\u001b[0mx\u001b[0m\u001b[0;34m)\u001b[0m\u001b[0;34m\u001b[0m\u001b[0;34m\u001b[0m\u001b[0m\n",
            "\u001b[0;31mTypeError\u001b[0m: Could not convert string '10,000+500,000+5,000,000+50,000,000+100,000+50,000+50,000+1,000,000+1,000,000+10,000+1,000,000+1,000,000+10,000,000+100,000+100,000+5,000+500,000+10,000+5,000,000+10,000,000+100,000+100,000+500,000+50,000+10,000+500,000+100,000+10,000+100,000+100,000+50,000+100,000+100,000+10,000+100,000+500,000+5,000,000+10,000+500,000+10,000+100,000+10,000,000+100,000+10,000+10,000,000+100,000+100,000+100,000+100,000+1,000,000+100,000+1,000,000+100,000+100,000+100,000+50,000+100,000+100,000+100,000+10,000+100,000+1,000,000+100,000+100,000+10,000+50,000+5,000,000+100,000+5,000,000+5,000,000+500,000+10,000,000+100,000+500,000+50,000+100,000+1,000,000+100,000+1,000,000+50,000+1,000,000+500,000+100,000+1,000,000+1,000,000+100,000+100,000+1,000,000+100,000+100,000+1,000,000+1,000,000+1,000,000+1,000,000+500,000+500,000+100,000+500,000+1,000,000+100,000+500,000+1,000,000+500,000+100,000+1,000,000+50,000+1,000,000+10,000+1,000,000+100,000+10,000+50,000+10,000+10,000+10,000+10,000,000+500,000+1,000,000+50,000+10,000+1,000,000+500,000+500,000+10,000+5,000+100,000+5,000+100,000+10,000+1,000,000+50,000+10,000+100,000,000+50,000+100,000+10,000,000+100,000,000+10,000,000+10,000,000+10,000,000+100,000+1,000,000+10,000,000+500,000+1,000,000+1,000,000,000+5,000,000+100,000+10,000,000+500,000+10,000,000+1,000,000+1,000,000+500,000+1,000,000+500,000+5,000,000+100,000+5,000,000+500,000+1,000,000+500,000+500,000+1,000,000+5,000,000+10,000,000+100,000+100,000+1..."
          ]
        }
      ],
      "source": [
        "#Question Clean the Installs Column and find the approximate number of apps at the 50th percentile.\n",
        "inp2.Installs = inp2.Installs.apply(lambda x: int(x.replace(',', '').replace('+', '')))\n",
        "\n",
        "inp2.Installs.mean()"
      ]
    },
    {
      "cell_type": "markdown",
      "metadata": {
        "id": "5XtMUJRVB2XA"
      },
      "source": [
        "#### Sanity Checks"
      ]
    },
    {
      "cell_type": "markdown",
      "metadata": {
        "id": "n-kkWtH0B2XA"
      },
      "source": [
        "The data that we have needs to make sense and therefore you can perform certain sanity checks on them to ensure they are factually correct as well. Some sanity checks can be:\n",
        "\n",
        "- Rating is between 1 and 5 for all the apps.\n",
        "- Number of Reviews is less than or equal to the number of Installs.\n",
        "- Free Apps shouldn’t have a price greater than 0.\n"
      ]
    },
    {
      "cell_type": "code",
      "execution_count": null,
      "metadata": {
        "id": "-jQhwzoXB2XA"
      },
      "outputs": [],
      "source": [
        "#Perform the sanity checks on the Reviews column\n",
        "inp2 = inp2[((inp2.Rating >= 1)&(inp2.Rating <= 5))]\n",
        "inp2 = inp2[(inp2.Reviews <= inp2.Installs)]\n",
        "inp2 = inp2[~((inp2.Type == 'Free')& (inp2.Price > 0))]\n"
      ]
    },
    {
      "cell_type": "code",
      "execution_count": null,
      "metadata": {
        "id": "gvLgVQXJB2XB"
      },
      "outputs": [],
      "source": [
        "#perform the sanity checks on prices of free apps\n",
        "inp2.shape"
      ]
    },
    {
      "cell_type": "markdown",
      "metadata": {
        "id": "lc8SyXeAB2XB"
      },
      "source": [
        "#### Outliers Analysis Using Boxplot"
      ]
    },
    {
      "cell_type": "markdown",
      "metadata": {
        "id": "ngO7BAsqB2XB"
      },
      "source": [
        "Now you need to start identifying and removing extreme values or __outliers__ from our dataset. These values can tilt our analysis and often provide us with a biased perspective of the data available. This is where you’ll start utilising visualisation to achieve your tasks. And the best visualisation to use here would be the box plot. Boxplots are one of the best ways of analysing the spread of a numeric variable\n",
        "\n",
        "\n",
        "Using a box plot you can identify the outliers as follows:"
      ]
    },
    {
      "cell_type": "markdown",
      "metadata": {
        "id": "BT3BYNQ2B2XB"
      },
      "source": [
        "![BoxPlots to Identify Outliers](images\\Boxplot.png)"
      ]
    },
    {
      "cell_type": "markdown",
      "metadata": {
        "id": "gsc9b9LyB2XB"
      },
      "source": [
        "- Outliers in data can arise due to genuine reasons or because of dubious entries. In the latter case, you should go ahead and remove such entries immediately. Use a boxplot to observe, analyse and remove them.\n",
        "- In the former case, you should determine whether or not removing them would add value to your analysis procedure."
      ]
    },
    {
      "cell_type": "markdown",
      "metadata": {
        "id": "IGgFjZdzB2XB"
      },
      "source": [
        "- You can create a box plot directly from pandas dataframe or the matplotlib way as you learnt in the previous session. Check out their official documentation here:\n",
        "   - https://pandas.pydata.org/pandas-docs/stable/reference/api/pandas.DataFrame.boxplot.html\n",
        "   - https://matplotlib.org/3.1.1/api/_as_gen/matplotlib.pyplot.boxplot.html"
      ]
    },
    {
      "cell_type": "code",
      "execution_count": null,
      "metadata": {
        "id": "C4HNIoT4B2XB"
      },
      "outputs": [],
      "source": [
        "#import the plotting libraries\n",
        "import matplotlib.pyplot as plt\n",
        "\n"
      ]
    },
    {
      "cell_type": "code",
      "execution_count": null,
      "metadata": {
        "id": "B4qW5Yj8B2XB"
      },
      "outputs": [],
      "source": [
        "#Create a box plot for the price column\n",
        "plt.boxplot(inp2.Price)\n",
        "plt.show()\n",
        "\n",
        "inp2.Price.value_counts()\n"
      ]
    },
    {
      "cell_type": "code",
      "execution_count": null,
      "metadata": {
        "id": "MNXp3HDOB2XB"
      },
      "outputs": [],
      "source": [
        "#Check the apps with price more than 200\n"
      ]
    },
    {
      "cell_type": "code",
      "execution_count": null,
      "metadata": {
        "id": "ZlOPlDVEB2XB"
      },
      "outputs": [],
      "source": [
        "#Clean the Price column\n"
      ]
    },
    {
      "cell_type": "code",
      "execution_count": null,
      "metadata": {
        "id": "TlV-_7OvB2XB"
      },
      "outputs": [],
      "source": [
        "#Create a box plot for paid apps\n",
        "\n"
      ]
    },
    {
      "cell_type": "code",
      "execution_count": null,
      "metadata": {
        "id": "9pgeq5eHB2XB"
      },
      "outputs": [],
      "source": [
        "#Check the apps with price more than 30\n"
      ]
    },
    {
      "cell_type": "code",
      "execution_count": null,
      "metadata": {
        "id": "k-8mYkC-B2XB"
      },
      "outputs": [],
      "source": [
        "#Clean the Price column again\n"
      ]
    },
    {
      "cell_type": "markdown",
      "metadata": {
        "id": "WFNXrRj_B2XB"
      },
      "source": [
        "### Histograms\n",
        "\n",
        "Histograms can also be used in conjuction with boxplots for data cleaning and data handling purposes. You can use it to check the spread of a numeric variable. Histograms generally work by bucketing the entire range of values that a particular variable takes to specific __bins__. After that, it uses vertical bars to denote the total number of records in a specific bin, which is also known as its __frequency__.\n"
      ]
    },
    {
      "cell_type": "markdown",
      "metadata": {
        "id": "QXWOcZQRB2XB"
      },
      "source": [
        "![Histogram](images\\Histogram.png)"
      ]
    },
    {
      "cell_type": "markdown",
      "metadata": {
        "id": "SOV8TzX6B2XB"
      },
      "source": [
        "You can adjust the number of bins to improve its granularity"
      ]
    },
    {
      "cell_type": "markdown",
      "metadata": {
        "id": "wpmEZi6EB2XB"
      },
      "source": [
        "![Bins change](images\\Granular.png)"
      ]
    },
    {
      "cell_type": "markdown",
      "metadata": {
        "id": "qTVKg965B2XC"
      },
      "source": [
        "You'll be using plt.hist() to plot a histogram. Check out its official documentation:https://matplotlib.org/3.1.1/api/_as_gen/matplotlib.pyplot.hist.html"
      ]
    },
    {
      "cell_type": "code",
      "execution_count": null,
      "metadata": {
        "id": "X3cQUuRyB2XC"
      },
      "outputs": [],
      "source": [
        "#Create a histogram of the Reviews\n"
      ]
    },
    {
      "cell_type": "code",
      "execution_count": null,
      "metadata": {
        "id": "NBmV-v8eB2XC"
      },
      "outputs": [],
      "source": [
        "#Create a boxplot of the Reviews column\n",
        "\n"
      ]
    },
    {
      "cell_type": "code",
      "execution_count": null,
      "metadata": {
        "id": "A5k3Ea4YB2XC"
      },
      "outputs": [],
      "source": [
        "#Check records with 1 million reviews\n"
      ]
    },
    {
      "cell_type": "code",
      "execution_count": null,
      "metadata": {
        "id": "OBfjBw8SB2XC"
      },
      "outputs": [],
      "source": [
        "#Drop the above records\n",
        "\n"
      ]
    },
    {
      "cell_type": "code",
      "execution_count": null,
      "metadata": {
        "id": "tc_atNnwB2XC"
      },
      "outputs": [],
      "source": [
        "#Question - Create a histogram again and check the peaks\n",
        "\n"
      ]
    },
    {
      "cell_type": "code",
      "execution_count": null,
      "metadata": {
        "id": "nFKN-SXYB2XC"
      },
      "outputs": [],
      "source": [
        "#Question - Create a box plot for the Installs column and report back the IQR\n",
        "\n",
        "\n"
      ]
    },
    {
      "cell_type": "code",
      "execution_count": null,
      "metadata": {
        "id": "_fwAeP54B2XC"
      },
      "outputs": [],
      "source": [
        "#Question - CLean the Installs by removing all the apps having more than or equal to 100 million installs"
      ]
    },
    {
      "cell_type": "code",
      "execution_count": null,
      "metadata": {
        "id": "QcQGrAbWB2XC"
      },
      "outputs": [],
      "source": [
        "#Plot a histogram for Size as well.\n"
      ]
    },
    {
      "cell_type": "code",
      "execution_count": null,
      "metadata": {
        "id": "9wgj63j5B2XC"
      },
      "outputs": [],
      "source": [
        "#Question - Create a boxplot for the Size column and report back the median value"
      ]
    },
    {
      "cell_type": "markdown",
      "metadata": {
        "id": "LAndiR1ZB2XC"
      },
      "source": [
        "### Session 2 - Data Visualisation with Seaborn"
      ]
    },
    {
      "cell_type": "markdown",
      "metadata": {
        "id": "986VMlNDB2XC"
      },
      "source": [
        "Seaborn is Python library to create statistical graphs easily. It is built on top of matplotlib and closely integrated with pandas.\n",
        "\n",
        "_Functionalities of Seaborn_ :\n",
        "\n",
        "- Dataset oriented API\n",
        "- Analysing univariate and bivariate distributions\n",
        "- Automatic estimation and plotting of  linear regression models\n",
        "- Convenient views for complex datasets\n",
        "- Concise control over style\n",
        "- Colour palettes\n"
      ]
    },
    {
      "cell_type": "code",
      "execution_count": null,
      "metadata": {
        "id": "cpDMQ2VJB2XC"
      },
      "outputs": [],
      "source": [
        "#import the necessary libraries\n"
      ]
    },
    {
      "cell_type": "markdown",
      "metadata": {
        "id": "a0ckLJwkB2XC"
      },
      "source": [
        "#### Distribution Plots"
      ]
    },
    {
      "cell_type": "markdown",
      "metadata": {
        "id": "VFc20cLHB2XC"
      },
      "source": [
        "A distribution plot is pretty similar to the histogram functionality in matplotlib. Instead of a frequency plot, it plots an approximate probability density for that rating bucket. And the curve (or the __KDE__) that gets drawn over the distribution is the approximate probability density curve.\n",
        "\n",
        "The following is an example of a distribution plot. Notice that now instead of frequency on the left axis, it has the density for each bin or bucket."
      ]
    },
    {
      "cell_type": "markdown",
      "metadata": {
        "id": "Jmt-9i1-B2XC"
      },
      "source": [
        "![Distplot](images\\Distplot.png)"
      ]
    },
    {
      "cell_type": "markdown",
      "metadata": {
        "id": "h1zReQ0NB2XC"
      },
      "source": [
        "You'll be using sns.distplot for plotting a distribution plot. Check out its official documentation: https://seaborn.pydata.org/generated/seaborn.distplot.html"
      ]
    },
    {
      "cell_type": "code",
      "execution_count": null,
      "metadata": {
        "id": "Huy4ZTneB2XC"
      },
      "outputs": [],
      "source": [
        "#Create a distribution plot for rating\n"
      ]
    },
    {
      "cell_type": "code",
      "execution_count": null,
      "metadata": {
        "id": "G1ixW72GB2XC"
      },
      "outputs": [],
      "source": [
        "#Change the number of bins\n",
        "\n"
      ]
    },
    {
      "cell_type": "code",
      "execution_count": null,
      "metadata": {
        "id": "NJzLocIfB2XC"
      },
      "outputs": [],
      "source": [
        "#Change the colour of bins to green\n"
      ]
    },
    {
      "cell_type": "code",
      "execution_count": null,
      "metadata": {
        "id": "VipRKF0FB2XC"
      },
      "outputs": [],
      "source": [
        "#Apply matplotlib functionalities\n",
        "\n"
      ]
    },
    {
      "cell_type": "markdown",
      "metadata": {
        "id": "Wbb8YZaTB2XC"
      },
      "source": [
        "#### Styling Options\n",
        "\n",
        "One of the biggest advantages of using Seaborn is that you can retain its aesthetic properties and also the Matplotlib functionalities to perform additional customisations. Before we continue with our case study analysis, let’s study some styling options that are available in Seaborn."
      ]
    },
    {
      "cell_type": "markdown",
      "metadata": {
        "id": "Sj1udXmjB2XC"
      },
      "source": [
        "-  Check out the official documentation:https://seaborn.pydata.org/generated/seaborn.set_style.html"
      ]
    },
    {
      "cell_type": "code",
      "execution_count": null,
      "metadata": {
        "id": "nwQRWKJ3B2XC"
      },
      "outputs": [],
      "source": [
        "#Check all the styling options"
      ]
    },
    {
      "cell_type": "code",
      "execution_count": null,
      "metadata": {
        "id": "HLEcUP0_B2XC"
      },
      "outputs": [],
      "source": [
        "#Change the number of bins to 20\n"
      ]
    },
    {
      "cell_type": "markdown",
      "metadata": {
        "id": "__XILBluB2XC"
      },
      "source": [
        "#### Pie-Chart and Bar Chart"
      ]
    },
    {
      "cell_type": "markdown",
      "metadata": {
        "id": "abkL0XLfB2XD"
      },
      "source": [
        "For analysing how a numeric variable changes across several categories of a categorical variable you utilise either a pie chart or a box plot"
      ]
    },
    {
      "cell_type": "markdown",
      "metadata": {
        "id": "aTQ0xTg2B2XD"
      },
      "source": [
        "For example, if you want to visualise the responses of a marketing campaign, you can use the following views:"
      ]
    },
    {
      "cell_type": "markdown",
      "metadata": {
        "id": "qUdZbGv2B2XD"
      },
      "source": [
        "![PieChart](images\\pie.png)"
      ]
    },
    {
      "cell_type": "markdown",
      "metadata": {
        "id": "abmwqA04B2XD"
      },
      "source": [
        "![barChart](images\\bar.png)"
      ]
    },
    {
      "cell_type": "markdown",
      "metadata": {
        "id": "NMaIG0qrB2XD"
      },
      "source": [
        "- You'll be using the pandas method of plotting both a pie chart and a bar chart. Check out their official documentations:\n",
        "   - https://pandas.pydata.org/pandas-docs/stable/reference/api/pandas.DataFrame.plot.bar.html\n",
        "   - https://pandas.pydata.org/pandas-docs/stable/reference/api/pandas.DataFrame.plot.pie.html"
      ]
    },
    {
      "cell_type": "code",
      "execution_count": null,
      "metadata": {
        "id": "GLwZ2dTGB2XD"
      },
      "outputs": [],
      "source": [
        "#Analyse the Content Rating column\n"
      ]
    },
    {
      "cell_type": "code",
      "execution_count": null,
      "metadata": {
        "id": "dD6VXMOuB2XD"
      },
      "outputs": [],
      "source": [
        "#Remove the rows with values which are less represented\n"
      ]
    },
    {
      "cell_type": "code",
      "execution_count": null,
      "metadata": {
        "id": "jJT9VKEQB2XD"
      },
      "outputs": [],
      "source": [
        "#Reset the index\n"
      ]
    },
    {
      "cell_type": "code",
      "execution_count": null,
      "metadata": {
        "id": "g-ncB1U5B2XD"
      },
      "outputs": [],
      "source": [
        "#Check the apps belonging to different categories of Content Rating\n"
      ]
    },
    {
      "cell_type": "code",
      "execution_count": null,
      "metadata": {
        "id": "1zWnuXwhB2XD"
      },
      "outputs": [],
      "source": [
        "#Plot a pie chart\n",
        "\n"
      ]
    },
    {
      "cell_type": "code",
      "execution_count": null,
      "metadata": {
        "id": "FjT6jg77B2XD"
      },
      "outputs": [],
      "source": [
        "#Plot a bar chart\n"
      ]
    },
    {
      "cell_type": "code",
      "execution_count": null,
      "metadata": {
        "id": "Z5QYK7nLB2XD"
      },
      "outputs": [],
      "source": [
        "#Question - Plot a bar plot for checking the 4th highest Android version type\n"
      ]
    },
    {
      "cell_type": "markdown",
      "metadata": {
        "id": "aGI77y3OB2XD"
      },
      "source": [
        "#### Scatter Plots"
      ]
    },
    {
      "cell_type": "markdown",
      "metadata": {
        "id": "0BJGDVJOB2XD"
      },
      "source": [
        "Scatterplots are perhaps one of the most commonly used as well one of the most powerful visualisations you can use in the field of machine learning. They are pretty crucial in revealing relationships between the data points and you can generally deduce some sort of trends in the data with the help of a scatter plot."
      ]
    },
    {
      "cell_type": "markdown",
      "metadata": {
        "id": "g2Vkndd3B2XD"
      },
      "source": [
        "![Scatterplot](images\\scatter.png)"
      ]
    },
    {
      "cell_type": "markdown",
      "metadata": {
        "id": "FzgzK3MfB2XD"
      },
      "source": [
        "- They're pretty useful in regression problems to check whether a linear trend exists in the data or not. For example, in the image below, creating a linear model in the first case makes far more sense since a clear straight line trend is visible."
      ]
    },
    {
      "cell_type": "markdown",
      "metadata": {
        "id": "jt2VUiDVB2XD"
      },
      "source": [
        "![Scatterplot-Reg](images\\regression3.png)"
      ]
    },
    {
      "cell_type": "markdown",
      "metadata": {
        "id": "Gtc2r7j-B2XD"
      },
      "source": [
        "- Also, they help in observing __naturally occuring clusters__. In the following image, the marks of students in Maths and Biology has been plotted.You can clearly group the students to 4 clusters now. Cluster 1 are students who score very well in Biology but very poorly in Maths, Cluster 2 are students who score equally well in both the subjects and so on."
      ]
    },
    {
      "cell_type": "markdown",
      "metadata": {
        "id": "Ww56OmY3B2XD"
      },
      "source": [
        "![Scatter-Clusters](images\\Clusters.png)"
      ]
    },
    {
      "cell_type": "markdown",
      "metadata": {
        "id": "6w1Un70LB2XD"
      },
      "source": [
        "**Note**: You'll be studying about both Regression and Clustering in greater detail in the machine learning modules"
      ]
    },
    {
      "cell_type": "markdown",
      "metadata": {
        "id": "ezrUPKXgB2XD"
      },
      "source": [
        "You'll be using **sns.jointplot()** for creating a scatter plot. Check out its documentation:\n",
        "https://seaborn.pydata.org/generated/seaborn.jointplot.html"
      ]
    },
    {
      "cell_type": "code",
      "execution_count": null,
      "metadata": {
        "id": "m-VBh307B2XD"
      },
      "outputs": [],
      "source": [
        "###Size vs Rating\n",
        "\n",
        "##Plot a scatter-plot in the matplotlib way between Size and Rating\n"
      ]
    },
    {
      "cell_type": "code",
      "execution_count": null,
      "metadata": {
        "id": "IT3lxyVPB2XD"
      },
      "outputs": [],
      "source": [
        "### Plot the same thing now using a jointplot\n"
      ]
    },
    {
      "cell_type": "code",
      "execution_count": null,
      "metadata": {
        "id": "dDLyxSzgB2XD"
      },
      "outputs": [],
      "source": [
        "## Plot a jointplot for Price and Rating\n"
      ]
    },
    {
      "cell_type": "markdown",
      "metadata": {
        "id": "eOKx1MKkB2XD"
      },
      "source": [
        "**Reg Plots**\n",
        "\n",
        "- These are an extension to the jointplots, where a regression line is added to the view"
      ]
    },
    {
      "cell_type": "code",
      "execution_count": null,
      "metadata": {
        "id": "tbN_lVSTB2XD"
      },
      "outputs": [],
      "source": [
        "##Plot a reg plot for Price and Rating and observe the trend\n",
        "\n"
      ]
    },
    {
      "cell_type": "code",
      "execution_count": null,
      "metadata": {
        "id": "wvlnWZvWB2XD"
      },
      "outputs": [],
      "source": [
        "## Question - Plot a reg plot for Price and Rating again for only the paid apps.\n"
      ]
    },
    {
      "cell_type": "markdown",
      "metadata": {
        "id": "phxUvsriB2XE"
      },
      "source": [
        "**Pair Plots**"
      ]
    },
    {
      "cell_type": "markdown",
      "metadata": {
        "id": "mgVe9SeXB2XE"
      },
      "source": [
        " - When you have several numeric variables, making multiple scatter plots becomes rather tedious. Therefore, a pair plot visualisation is preferred where all the scatter plots are in a single view in the form of a matrix\n",
        " - For the non-diagonal views, it plots a **scatter plot** between 2 numeric variables\n",
        " - For the diagonal views, it plots a **histogram**"
      ]
    },
    {
      "cell_type": "markdown",
      "metadata": {
        "id": "fMC3ygxqB2XE"
      },
      "source": [
        "Pair Plots help in identifying the trends between a target variable and the predictor variables pretty quickly. For example, say you want to predict how your company’s profits are affected by three different factors. In order to choose which you created a pair plot containing profits and the three different factors as the variables. Here are the scatterplots of profits vs the three variables that you obtained from the pair plot."
      ]
    },
    {
      "cell_type": "markdown",
      "metadata": {
        "id": "dCkG31cXB2XE"
      },
      "source": [
        "![Pairplots](images\\pairplots2.png)"
      ]
    },
    {
      "cell_type": "markdown",
      "metadata": {
        "id": "-qNRXHvqB2XE"
      },
      "source": [
        "It is clearly visible that the left-most factor is the most prominently related to the profits, given how linearly scattered the points are and how randomly scattered the rest two factors are."
      ]
    },
    {
      "cell_type": "markdown",
      "metadata": {
        "id": "WyFmpsMXB2XE"
      },
      "source": [
        "You'll be using **sns.pairplot()** for this visualisation. Check out its official documentation:https://seaborn.pydata.org/generated/seaborn.pairplot.html"
      ]
    },
    {
      "cell_type": "code",
      "execution_count": null,
      "metadata": {
        "id": "hlmuzpfZB2XE"
      },
      "outputs": [],
      "source": [
        "## Create a pair plot for Reviews, Size, Price and Rating\n",
        "\n"
      ]
    },
    {
      "cell_type": "markdown",
      "metadata": {
        "id": "BIoxmpOYB2XE"
      },
      "source": [
        "**Bar Charts Revisited**"
      ]
    },
    {
      "cell_type": "markdown",
      "metadata": {
        "id": "3ZpqQLcFB2XE"
      },
      "source": [
        "- Here, you'll be using bar charts once again, this time using the **sns.barplot()** function. Check out its official documentation:https://seaborn.pydata.org/generated/seaborn.barplot.html\n",
        "- You can modify the **estimator** parameter to change the aggregation value of your barplot"
      ]
    },
    {
      "cell_type": "code",
      "execution_count": null,
      "metadata": {
        "id": "qbenBKs0B2XE"
      },
      "outputs": [],
      "source": [
        "##Plot a bar plot of Content Rating vs Average Rating\n"
      ]
    },
    {
      "cell_type": "code",
      "execution_count": null,
      "metadata": {
        "id": "Kh0PgNa9B2XE"
      },
      "outputs": [],
      "source": [
        "##Plot the bar plot again with Median Rating\n"
      ]
    },
    {
      "cell_type": "code",
      "execution_count": null,
      "metadata": {
        "id": "iRza8UjrB2XE"
      },
      "outputs": [],
      "source": [
        "##Plot the above bar plot using the estimator parameter\n",
        "\n"
      ]
    },
    {
      "cell_type": "code",
      "execution_count": null,
      "metadata": {
        "id": "scja03WoB2XE"
      },
      "outputs": [],
      "source": [
        "##Plot the bar plot with only the 5th percentile of Ratings\n"
      ]
    },
    {
      "cell_type": "code",
      "execution_count": null,
      "metadata": {
        "id": "Gg_yBgFxB2XE"
      },
      "outputs": [],
      "source": [
        "##Question - Plot the bar plot with the minimum Rating\n"
      ]
    },
    {
      "cell_type": "markdown",
      "metadata": {
        "id": "I70jpjaHB2XE"
      },
      "source": [
        "__Box Plots Revisited__\n",
        "\n",
        "- Apart from outlier analysis, box plots are great at comparing the spread and analysing a numerical variable across several categories\n",
        "- Here you'll be using **sns.boxplot()** function to plot the visualisation. Check out its documentation: https://seaborn.pydata.org/generated/seaborn.boxplot.html\n",
        "\n",
        "\n"
      ]
    },
    {
      "cell_type": "code",
      "execution_count": null,
      "metadata": {
        "id": "_wcHYQVRB2XE"
      },
      "outputs": [],
      "source": [
        "##Plot a box plot of Rating vs Content Rating\n"
      ]
    },
    {
      "cell_type": "code",
      "execution_count": null,
      "metadata": {
        "id": "SoTnjB6rB2XE"
      },
      "outputs": [],
      "source": [
        "##Question - Plot a box plot for the Rating column only\n"
      ]
    },
    {
      "cell_type": "code",
      "execution_count": null,
      "metadata": {
        "id": "oMrmOJfYB2XE"
      },
      "outputs": [],
      "source": [
        "##Question - Plot a box plot of Ratings across the 4 most popular Genres\n"
      ]
    },
    {
      "cell_type": "markdown",
      "metadata": {
        "id": "DknPC3zXB2XE"
      },
      "source": [
        "#### Heat Maps"
      ]
    },
    {
      "cell_type": "markdown",
      "metadata": {
        "id": "RXb2KoiPB2XE"
      },
      "source": [
        "Heat mapsutilise the concept of using colours and colour intensities to visualise a range of values. You must have seen heat maps in cricket or football broadcasts on television to denote the players’ areas of strength and weakness."
      ]
    },
    {
      "cell_type": "markdown",
      "metadata": {
        "id": "at6-qxcvB2XE"
      },
      "source": [
        "![HeatMap](images\\heatmap1.png)"
      ]
    },
    {
      "cell_type": "markdown",
      "metadata": {
        "id": "pR7_ZflQB2XE"
      },
      "source": [
        "- In python, you can create a heat map whenever you have a rectangular grid or table of numbers analysing any two features"
      ]
    },
    {
      "cell_type": "markdown",
      "metadata": {
        "id": "Gux9QrF1B2XE"
      },
      "source": [
        "![heatmap2](images\\heatmap2.png)"
      ]
    },
    {
      "cell_type": "markdown",
      "metadata": {
        "id": "83828CDAB2XE"
      },
      "source": [
        "- You'll be using **sns.heatmap()** to plot the visualisation. Checkout its official documentation :https://seaborn.pydata.org/generated/seaborn.heatmap.html"
      ]
    },
    {
      "cell_type": "code",
      "execution_count": null,
      "metadata": {
        "id": "japplxRvB2XE"
      },
      "outputs": [],
      "source": [
        "##Ratings vs Size vs Content Rating\n",
        "\n",
        "##Prepare buckets for the Size column using pd.qcut\n",
        "\n"
      ]
    },
    {
      "cell_type": "code",
      "execution_count": null,
      "metadata": {
        "id": "hJs51NlhB2XE"
      },
      "outputs": [],
      "source": [
        "##Create a pivot table for Size_buckets and Content Rating with values set to Rating\n"
      ]
    },
    {
      "cell_type": "code",
      "execution_count": null,
      "metadata": {
        "id": "ShbN5ohpB2XE"
      },
      "outputs": [],
      "source": [
        "##Change the aggregation to median\n"
      ]
    },
    {
      "cell_type": "code",
      "execution_count": null,
      "metadata": {
        "id": "fgZPXUSMB2XF"
      },
      "outputs": [],
      "source": [
        "##Change the aggregation to 20th percentile\n"
      ]
    },
    {
      "cell_type": "code",
      "execution_count": null,
      "metadata": {
        "id": "7te4VRXoB2XF"
      },
      "outputs": [],
      "source": [
        "##Store the pivot table in a separate variable\n"
      ]
    },
    {
      "cell_type": "code",
      "execution_count": null,
      "metadata": {
        "id": "ETTEwf84B2XF"
      },
      "outputs": [],
      "source": [
        "##Plot a heat map\n"
      ]
    },
    {
      "cell_type": "code",
      "execution_count": null,
      "metadata": {
        "id": "7LbHARUTB2XF"
      },
      "outputs": [],
      "source": [
        "##Apply customisations\n"
      ]
    },
    {
      "cell_type": "code",
      "execution_count": null,
      "metadata": {
        "id": "jCOOJegQB2XF"
      },
      "outputs": [],
      "source": [
        "##Question - Replace Content Rating with Review_buckets in the above heat map\n",
        "##Keep the aggregation at minimum value for Rating\n"
      ]
    },
    {
      "cell_type": "markdown",
      "metadata": {
        "id": "A3E7NguuB2XF"
      },
      "source": [
        "### Session 3: Additional Visualisations"
      ]
    },
    {
      "cell_type": "markdown",
      "metadata": {
        "id": "zlgHEWtKB2XF"
      },
      "source": [
        "#### Line Plots"
      ]
    },
    {
      "cell_type": "markdown",
      "metadata": {
        "id": "jvgrEujMB2XF"
      },
      "source": [
        "- A line plot tries to observe trends using time dependent data.\n",
        "-  For this part, you'll be using **pd.to_datetime()** function. Check out its documentation:https://pandas.pydata.org/pandas-docs/stable/reference/api/pandas.to_datetime.html\n"
      ]
    },
    {
      "cell_type": "code",
      "execution_count": null,
      "metadata": {
        "id": "JkY8hUMbB2XF"
      },
      "outputs": [],
      "source": [
        "## Extract the month from the Last Updated Date\n",
        "\n"
      ]
    },
    {
      "cell_type": "code",
      "execution_count": null,
      "metadata": {
        "id": "c9NslCuUB2XF"
      },
      "outputs": [],
      "source": [
        "## Find the average Rating across all the months\n",
        "\n"
      ]
    },
    {
      "cell_type": "code",
      "execution_count": null,
      "metadata": {
        "id": "Qe1Zu03PB2XF"
      },
      "outputs": [],
      "source": [
        "## Plot a line graph\n",
        "\n"
      ]
    },
    {
      "cell_type": "markdown",
      "metadata": {
        "id": "0KhdWt0mB2XF"
      },
      "source": [
        "#### Stacked Bar Charts"
      ]
    },
    {
      "cell_type": "markdown",
      "metadata": {
        "id": "lmDFxXI7B2XF"
      },
      "source": [
        "- A stacked bar chart breaks down each bar of the bar chart on the basis of a different category\n",
        "- For example, for the Campaign Response bar chart you saw earlier, the stacked bar chart is also showing the Gender bifurcation as well"
      ]
    },
    {
      "cell_type": "markdown",
      "metadata": {
        "id": "2wmSz4AmB2XF"
      },
      "source": [
        "![Stacked](images\\stacked.png)"
      ]
    },
    {
      "cell_type": "code",
      "execution_count": null,
      "metadata": {
        "id": "54bfyHiVB2XF"
      },
      "outputs": [],
      "source": [
        "## Create a pivot table for Content Rating and updated Month with the values set to Installs\n"
      ]
    },
    {
      "cell_type": "code",
      "execution_count": null,
      "metadata": {
        "id": "mm3HEGxKB2XF"
      },
      "outputs": [],
      "source": [
        "##Store the table in a separate variable\n"
      ]
    },
    {
      "cell_type": "code",
      "execution_count": null,
      "metadata": {
        "id": "q3mTv5BWB2XF"
      },
      "outputs": [],
      "source": [
        "##Plot the stacked bar chart.\n"
      ]
    },
    {
      "cell_type": "code",
      "execution_count": null,
      "metadata": {
        "id": "PCIjRpUNB2XF"
      },
      "outputs": [],
      "source": [
        "##Plot the stacked bar chart again wrt to the proportions.\n",
        "\n"
      ]
    },
    {
      "cell_type": "markdown",
      "metadata": {
        "id": "xboHWmomB2XF"
      },
      "source": [
        "#### Plotly"
      ]
    },
    {
      "cell_type": "markdown",
      "metadata": {
        "id": "t7rY0kL1B2XF"
      },
      "source": [
        "Plotly is a Python library used for creating interactive visual charts. You can take a look at how you can use it to create aesthetic looking plots with a lot of user-friendly functionalities like hover, zoom, etc."
      ]
    },
    {
      "cell_type": "markdown",
      "metadata": {
        "id": "c0KGZJfAB2XF"
      },
      "source": [
        "Check out this link for installation and documentation:https://plot.ly/python/getting-started/"
      ]
    },
    {
      "cell_type": "code",
      "execution_count": null,
      "metadata": {
        "id": "ateG_C_zB2XF"
      },
      "outputs": [],
      "source": [
        "#Install plotly\n"
      ]
    },
    {
      "cell_type": "code",
      "execution_count": null,
      "metadata": {
        "id": "07oydZvtB2XF"
      },
      "outputs": [],
      "source": [
        "#Take the table you want to plot in a separate variable\n"
      ]
    },
    {
      "cell_type": "code",
      "execution_count": null,
      "metadata": {
        "id": "Dhh6-T-gB2XF"
      },
      "outputs": [],
      "source": [
        "#Import the plotly libraries\n"
      ]
    },
    {
      "cell_type": "code",
      "execution_count": null,
      "metadata": {
        "id": "yZPr3gltB2XF"
      },
      "outputs": [],
      "source": [
        "#Prepare the plot\n"
      ]
    }
  ],
  "metadata": {
    "kernelspec": {
      "display_name": "Python 3",
      "language": "python",
      "name": "python3"
    },
    "language_info": {
      "codemirror_mode": {
        "name": "ipython",
        "version": 3
      },
      "file_extension": ".py",
      "mimetype": "text/x-python",
      "name": "python",
      "nbconvert_exporter": "python",
      "pygments_lexer": "ipython3",
      "version": "3.7.3"
    },
    "colab": {
      "provenance": []
    }
  },
  "nbformat": 4,
  "nbformat_minor": 0
}